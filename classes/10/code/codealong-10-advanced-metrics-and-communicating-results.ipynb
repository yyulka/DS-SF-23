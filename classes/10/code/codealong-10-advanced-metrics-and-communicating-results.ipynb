{
 "cells": [
  {
   "cell_type": "markdown",
   "metadata": {},
   "source": [
    "# DS-SF23 | Codealong 10 | Advanced Metrics and Communicating Results"
   ]
  },
  {
   "cell_type": "code",
   "execution_count": null,
   "metadata": {
    "collapsed": false
   },
   "outputs": [],
   "source": [
    "import os\n",
    "import numpy as np\n",
    "import pandas as pd\n",
    "import csv\n",
    "import matplotlib.pyplot as plt\n",
    "from sklearn import linear_model, metrics\n",
    "\n",
    "pd.set_option('display.max_rows', 10)\n",
    "pd.set_option('display.notebook_repr_html', True)\n",
    "pd.set_option('display.max_columns', 10)\n",
    "\n",
    "%matplotlib inline\n",
    "plt.style.use('ggplot')"
   ]
  },
  {
   "cell_type": "markdown",
   "metadata": {},
   "source": [
    "## `Iris` dataset, Take 3"
   ]
  },
  {
   "cell_type": "code",
   "execution_count": null,
   "metadata": {
    "collapsed": false
   },
   "outputs": [],
   "source": [
    "df = pd.read_csv(os.path.join('..', 'datasets', 'iris.csv'))"
   ]
  },
  {
   "cell_type": "code",
   "execution_count": null,
   "metadata": {
    "collapsed": false
   },
   "outputs": [],
   "source": [
    "X = df[ ['SepalLength', 'SepalWidth', 'PetalLength', 'PetalWidth'] ]\n",
    "\n",
    "ys = pd.get_dummies(df.Species, prefix = None)\n",
    "y_true_Setosa = ys.Setosa\n",
    "y_true_Versicolor = ys.Versicolor\n",
    "y_true_Virginica = ys.Virginica\n",
    "\n",
    "model_Setosa = linear_model.LogisticRegression()\n",
    "model_Setosa.fit(X, y_true_Setosa)\n",
    "y_hat_Setosa = model_Setosa.predict(X)\n",
    "\n",
    "model_Versicolor = linear_model.LogisticRegression()\n",
    "model_Versicolor.fit(X, y_true_Versicolor)\n",
    "y_hat_Versicolor = model_Versicolor.predict(X)\n",
    "\n",
    "model_Virginica = linear_model.LogisticRegression()\n",
    "model_Virginica.fit(X, y_true_Virginica)\n",
    "y_hat_Virginica = model_Virginica.predict(X)"
   ]
  },
  {
   "cell_type": "code",
   "execution_count": null,
   "metadata": {
    "collapsed": false
   },
   "outputs": [],
   "source": [
    "print \"Setosa     classifier's score =\", model_Setosa.score(X, y_true_Setosa)\n",
    "print \"Versicolor classifier's score =\", model_Versicolor.score(X, y_true_Versicolor)\n",
    "print \"Virginica  classifier's score =\", model_Virginica.score(X, y_true_Virginica)"
   ]
  },
  {
   "cell_type": "markdown",
   "metadata": {},
   "source": [
    "## Part A - ROC/AUC"
   ]
  },
  {
   "cell_type": "markdown",
   "metadata": {},
   "source": [
    "### Setosa's ROC"
   ]
  },
  {
   "cell_type": "code",
   "execution_count": null,
   "metadata": {
    "collapsed": false
   },
   "outputs": [],
   "source": [
    "fpr, tpr, thresholds = metrics.roc_curve(y_true_Setosa, y_hat_Setosa)\n",
    "\n",
    "plt.figure()\n",
    "plt.plot(fpr, tpr, label = 'ROC curve (area = %0.2f)' % metrics.auc(fpr, tpr))\n",
    "plt.plot([0, 1], [0, 1], 'k--')\n",
    "plt.xlim([.0, 1.])\n",
    "plt.ylim([.0, 1.1])\n",
    "plt.xlabel('FPR/Fall-out')\n",
    "plt.ylabel('TPR/Sensitivity')\n",
    "plt.title(\"Versicolor's ROC\")\n",
    "plt.legend(loc = 'lower right')\n",
    "plt.show()"
   ]
  },
  {
   "cell_type": "markdown",
   "metadata": {},
   "source": [
    "### Setosa's AUC"
   ]
  },
  {
   "cell_type": "code",
   "execution_count": null,
   "metadata": {
    "collapsed": false
   },
   "outputs": [],
   "source": [
    "metrics.roc_auc_score(y_true_Setosa, y_hat_Setosa)"
   ]
  },
  {
   "cell_type": "markdown",
   "metadata": {},
   "source": [
    "### Versicilor's ROC"
   ]
  },
  {
   "cell_type": "code",
   "execution_count": null,
   "metadata": {
    "collapsed": false
   },
   "outputs": [],
   "source": [
    "fpr, tpr, thresholds = metrics.roc_curve(y_true_Versicolor, y_hat_Versicolor)\n",
    "\n",
    "plt.figure()\n",
    "plt.plot(fpr, tpr, label = 'ROC curve (area = %0.2f)' % metrics.auc(fpr, tpr))\n",
    "plt.plot([0, 1], [0, 1], 'k--')\n",
    "plt.xlim([.0, 1.])\n",
    "plt.ylim([.0, 1.1])\n",
    "plt.xlabel('FPR/Fall-out')\n",
    "plt.ylabel('TPR/Sensitivity')\n",
    "plt.title(\"Versicolor's ROC\")\n",
    "plt.legend(loc = 'lower right')\n",
    "plt.show()"
   ]
  },
  {
   "cell_type": "markdown",
   "metadata": {},
   "source": [
    "### Versicilor's ROC"
   ]
  },
  {
   "cell_type": "code",
   "execution_count": null,
   "metadata": {
    "collapsed": false
   },
   "outputs": [],
   "source": [
    "metrics.roc_auc_score(y_true_Versicolor, y_hat_Versicolor)"
   ]
  },
  {
   "cell_type": "markdown",
   "metadata": {},
   "source": [
    "### Virginica's ROC"
   ]
  },
  {
   "cell_type": "code",
   "execution_count": null,
   "metadata": {
    "collapsed": false
   },
   "outputs": [],
   "source": [
    "fpr, tpr, thresholds = metrics.roc_curve(y_true_Virginica, y_hat_Virginica)\n",
    "\n",
    "plt.figure()\n",
    "plt.plot(fpr, tpr, label = 'ROC curve (area = %0.2f)' % metrics.auc(fpr, tpr))\n",
    "plt.plot([0, 1], [0, 1], 'k--')\n",
    "plt.xlim([.0, 1.])\n",
    "plt.ylim([.0, 1.1])\n",
    "plt.xlabel('FPR/Fall-out')\n",
    "plt.ylabel('TPR/Sensitivity')\n",
    "plt.title(\"Virginica's ROC\")\n",
    "plt.legend(loc = 'lower right')\n",
    "plt.show()"
   ]
  },
  {
   "cell_type": "markdown",
   "metadata": {},
   "source": [
    "### Virginica's ROC"
   ]
  },
  {
   "cell_type": "code",
   "execution_count": null,
   "metadata": {
    "collapsed": false
   },
   "outputs": [],
   "source": [
    "metrics.roc_auc_score(y_true_Virginica, y_hat_Virginica)"
   ]
  },
  {
   "cell_type": "markdown",
   "metadata": {
    "collapsed": true
   },
   "source": [
    "## Part B - Prettying up Graphs"
   ]
  },
  {
   "cell_type": "code",
   "execution_count": null,
   "metadata": {
    "collapsed": true
   },
   "outputs": [],
   "source": [
    "color = df.Species.map(pd.Series({'Setosa': 'red', 'Versicolor': 'green', 'Virginica': 'blue'}))"
   ]
  },
  {
   "cell_type": "code",
   "execution_count": null,
   "metadata": {
    "collapsed": false
   },
   "outputs": [],
   "source": [
    "axes = df.plot('SepalLength', 'SepalWidth', kind = 'scatter', c = color)\n",
    "axes.set_title('Sepal width as a function as Sepal Length', fontsize = 16)\n",
    "\n",
    "axes.set_xlabel('Sepal Length')\n",
    "axes.set_xlim(.0)\n",
    "\n",
    "axes.set_ylabel('Sepal Width')\n",
    "axes.set_ylim(.0)"
   ]
  },
  {
   "cell_type": "code",
   "execution_count": null,
   "metadata": {
    "collapsed": false
   },
   "outputs": [],
   "source": [
    "figure, axes = plt.subplots(nrows = 2, ncols = 2, figsize = (16, 16))\n",
    "\n",
    "df.plot('SepalLength', 'SepalWidth', kind = 'scatter', c = color, ax = axes[0, 0])\n",
    "axes[0, 0].set_title('Sepal width as a function as Sepal length', fontsize = 16)\n",
    "axes[0, 0].set_xlabel('Sepal Length')\n",
    "axes[0, 0].set_xlim(.0)\n",
    "axes[0, 0].set_ylabel('Sepal Width')\n",
    "axes[0, 0].set_ylim(.0)\n",
    "\n",
    "df.plot('PetalLength', 'PetalWidth', kind = 'scatter', c = color, ax = axes[0, 1])\n",
    "axes[0, 1].set_title('Petal width as a function as Petal length', fontsize = 16)\n",
    "axes[0, 1].set_xlabel('Petal Length')\n",
    "axes[0, 1].set_xlim(.0)\n",
    "axes[0, 1].set_ylabel('Petal Width')\n",
    "axes[0, 1].set_ylim(.0)\n",
    "\n",
    "df.plot('SepalLength', 'PetalWidth', kind = 'scatter', c = color, ax = axes[1, 0])\n",
    "axes[1, 0].set_title('Petal width as a function as Sepal length', fontsize = 16)\n",
    "axes[1, 0].set_xlabel('Sepal Length')\n",
    "axes[1, 0].set_xlim(.0)\n",
    "axes[1, 0].set_ylabel('Petal Width')\n",
    "axes[1, 0].set_ylim(.0)\n",
    "\n",
    "df.plot('PetalLength', 'SepalWidth', kind = 'scatter', c = color, ax = axes[1, 1])\n",
    "axes[1, 1].set_title('Sepal width as a function as Petal length', fontsize = 16)\n",
    "axes[1, 1].set_xlabel('Petal Length')\n",
    "axes[1, 1].set_xlim(.0)\n",
    "axes[1, 1].set_ylabel('Sepal Width')\n",
    "axes[1, 1].set_ylim(.0)"
   ]
  }
 ],
 "metadata": {
  "kernelspec": {
   "display_name": "Python 2",
   "language": "python",
   "name": "python2"
  },
  "language_info": {
   "codemirror_mode": {
    "name": "ipython",
    "version": 2
   },
   "file_extension": ".py",
   "mimetype": "text/x-python",
   "name": "python",
   "nbconvert_exporter": "python",
   "pygments_lexer": "ipython2",
   "version": "2.7.11"
  }
 },
 "nbformat": 4,
 "nbformat_minor": 0
}
