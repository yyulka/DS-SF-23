{
 "cells": [
  {
   "cell_type": "markdown",
   "metadata": {},
   "source": [
    "# DS-SF-23 | Auto-MPG and Linear Regression Modeling | Ivan's Notebook"
   ]
  },
  {
   "cell_type": "markdown",
   "metadata": {},
   "source": [
    "## CODE TO GET YOU STARTED"
   ]
  },
  {
   "cell_type": "code",
   "execution_count": 1,
   "metadata": {
    "collapsed": false
   },
   "outputs": [],
   "source": [
    "import os\n",
    "import numpy as np\n",
    "import pandas as pd\n",
    "import matplotlib.pyplot as plt\n",
    "import statsmodels.formula.api as smf\n",
    "from sklearn import linear_model, cross_validation\n",
    "\n",
    "pd.set_option('display.max_rows', 10)\n",
    "pd.set_option('display.notebook_repr_html', True)\n",
    "pd.set_option('display.max_columns', 10)\n",
    "\n",
    "%matplotlib inline\n",
    "plt.style.use('ggplot')"
   ]
  },
  {
   "cell_type": "code",
   "execution_count": 2,
   "metadata": {
    "collapsed": false
   },
   "outputs": [],
   "source": [
    "df = pd.read_csv(os.path.join('..', 'datasets', 'auto-mpg.csv'))"
   ]
  },
  {
   "cell_type": "code",
   "execution_count": 3,
   "metadata": {
    "collapsed": false
   },
   "outputs": [
    {
     "data": {
      "text/html": [
       "<div>\n",
       "<table border=\"1\" class=\"dataframe\">\n",
       "  <thead>\n",
       "    <tr style=\"text-align: right;\">\n",
       "      <th></th>\n",
       "      <th>mpg</th>\n",
       "      <th>cylinders</th>\n",
       "      <th>displacement</th>\n",
       "      <th>horsepower</th>\n",
       "      <th>weight</th>\n",
       "      <th>acceleration</th>\n",
       "      <th>model_year</th>\n",
       "      <th>origin</th>\n",
       "      <th>car_name</th>\n",
       "    </tr>\n",
       "  </thead>\n",
       "  <tbody>\n",
       "    <tr>\n",
       "      <th>0</th>\n",
       "      <td>18.0</td>\n",
       "      <td>8</td>\n",
       "      <td>307.0</td>\n",
       "      <td>130.0</td>\n",
       "      <td>3504.0</td>\n",
       "      <td>12.0</td>\n",
       "      <td>70</td>\n",
       "      <td>1</td>\n",
       "      <td>chevrolet chevelle malibu</td>\n",
       "    </tr>\n",
       "    <tr>\n",
       "      <th>1</th>\n",
       "      <td>15.0</td>\n",
       "      <td>8</td>\n",
       "      <td>350.0</td>\n",
       "      <td>165.0</td>\n",
       "      <td>3693.0</td>\n",
       "      <td>11.5</td>\n",
       "      <td>70</td>\n",
       "      <td>1</td>\n",
       "      <td>buick skylark 320</td>\n",
       "    </tr>\n",
       "    <tr>\n",
       "      <th>2</th>\n",
       "      <td>18.0</td>\n",
       "      <td>8</td>\n",
       "      <td>318.0</td>\n",
       "      <td>150.0</td>\n",
       "      <td>3436.0</td>\n",
       "      <td>11.0</td>\n",
       "      <td>70</td>\n",
       "      <td>1</td>\n",
       "      <td>plymouth satellite</td>\n",
       "    </tr>\n",
       "    <tr>\n",
       "      <th>3</th>\n",
       "      <td>16.0</td>\n",
       "      <td>8</td>\n",
       "      <td>304.0</td>\n",
       "      <td>150.0</td>\n",
       "      <td>3433.0</td>\n",
       "      <td>12.0</td>\n",
       "      <td>70</td>\n",
       "      <td>1</td>\n",
       "      <td>amc rebel sst</td>\n",
       "    </tr>\n",
       "    <tr>\n",
       "      <th>4</th>\n",
       "      <td>17.0</td>\n",
       "      <td>8</td>\n",
       "      <td>302.0</td>\n",
       "      <td>140.0</td>\n",
       "      <td>3449.0</td>\n",
       "      <td>10.5</td>\n",
       "      <td>70</td>\n",
       "      <td>1</td>\n",
       "      <td>ford torino</td>\n",
       "    </tr>\n",
       "    <tr>\n",
       "      <th>...</th>\n",
       "      <td>...</td>\n",
       "      <td>...</td>\n",
       "      <td>...</td>\n",
       "      <td>...</td>\n",
       "      <td>...</td>\n",
       "      <td>...</td>\n",
       "      <td>...</td>\n",
       "      <td>...</td>\n",
       "      <td>...</td>\n",
       "    </tr>\n",
       "    <tr>\n",
       "      <th>393</th>\n",
       "      <td>27.0</td>\n",
       "      <td>4</td>\n",
       "      <td>140.0</td>\n",
       "      <td>86.0</td>\n",
       "      <td>2790.0</td>\n",
       "      <td>15.6</td>\n",
       "      <td>82</td>\n",
       "      <td>1</td>\n",
       "      <td>ford mustang gl</td>\n",
       "    </tr>\n",
       "    <tr>\n",
       "      <th>394</th>\n",
       "      <td>44.0</td>\n",
       "      <td>4</td>\n",
       "      <td>97.0</td>\n",
       "      <td>52.0</td>\n",
       "      <td>2130.0</td>\n",
       "      <td>24.6</td>\n",
       "      <td>82</td>\n",
       "      <td>2</td>\n",
       "      <td>vw pickup</td>\n",
       "    </tr>\n",
       "    <tr>\n",
       "      <th>395</th>\n",
       "      <td>32.0</td>\n",
       "      <td>4</td>\n",
       "      <td>135.0</td>\n",
       "      <td>84.0</td>\n",
       "      <td>2295.0</td>\n",
       "      <td>11.6</td>\n",
       "      <td>82</td>\n",
       "      <td>1</td>\n",
       "      <td>dodge rampage</td>\n",
       "    </tr>\n",
       "    <tr>\n",
       "      <th>396</th>\n",
       "      <td>28.0</td>\n",
       "      <td>4</td>\n",
       "      <td>120.0</td>\n",
       "      <td>79.0</td>\n",
       "      <td>2625.0</td>\n",
       "      <td>18.6</td>\n",
       "      <td>82</td>\n",
       "      <td>1</td>\n",
       "      <td>ford ranger</td>\n",
       "    </tr>\n",
       "    <tr>\n",
       "      <th>397</th>\n",
       "      <td>31.0</td>\n",
       "      <td>4</td>\n",
       "      <td>119.0</td>\n",
       "      <td>82.0</td>\n",
       "      <td>2720.0</td>\n",
       "      <td>19.4</td>\n",
       "      <td>82</td>\n",
       "      <td>1</td>\n",
       "      <td>chevy s-10</td>\n",
       "    </tr>\n",
       "  </tbody>\n",
       "</table>\n",
       "<p>398 rows × 9 columns</p>\n",
       "</div>"
      ],
      "text/plain": [
       "      mpg  cylinders  displacement  horsepower  weight  acceleration  \\\n",
       "0    18.0          8         307.0       130.0  3504.0          12.0   \n",
       "1    15.0          8         350.0       165.0  3693.0          11.5   \n",
       "2    18.0          8         318.0       150.0  3436.0          11.0   \n",
       "3    16.0          8         304.0       150.0  3433.0          12.0   \n",
       "4    17.0          8         302.0       140.0  3449.0          10.5   \n",
       "..    ...        ...           ...         ...     ...           ...   \n",
       "393  27.0          4         140.0        86.0  2790.0          15.6   \n",
       "394  44.0          4          97.0        52.0  2130.0          24.6   \n",
       "395  32.0          4         135.0        84.0  2295.0          11.6   \n",
       "396  28.0          4         120.0        79.0  2625.0          18.6   \n",
       "397  31.0          4         119.0        82.0  2720.0          19.4   \n",
       "\n",
       "     model_year  origin                   car_name  \n",
       "0            70       1  chevrolet chevelle malibu  \n",
       "1            70       1          buick skylark 320  \n",
       "2            70       1         plymouth satellite  \n",
       "3            70       1              amc rebel sst  \n",
       "4            70       1                ford torino  \n",
       "..          ...     ...                        ...  \n",
       "393          82       1            ford mustang gl  \n",
       "394          82       2                  vw pickup  \n",
       "395          82       1              dodge rampage  \n",
       "396          82       1                ford ranger  \n",
       "397          82       1                 chevy s-10  \n",
       "\n",
       "[398 rows x 9 columns]"
      ]
     },
     "execution_count": 3,
     "metadata": {},
     "output_type": "execute_result"
    }
   ],
   "source": [
    "df"
   ]
  },
  {
   "cell_type": "markdown",
   "metadata": {},
   "source": [
    "## NOT AN ANSWER KEY!!! SEE THIS AS CODE FOR DATA EXPLORATION"
   ]
  },
  {
   "cell_type": "code",
   "execution_count": 4,
   "metadata": {
    "collapsed": true
   },
   "outputs": [],
   "source": [
    "df = df.sample(frac = .6, random_state = 1)\n",
    "df.reset_index(inplace = True)"
   ]
  },
  {
   "cell_type": "markdown",
   "metadata": {},
   "source": [
    "## `gpm`"
   ]
  },
  {
   "cell_type": "code",
   "execution_count": 5,
   "metadata": {
    "collapsed": false
   },
   "outputs": [],
   "source": [
    "df['gpm'] = 1. / df.mpg"
   ]
  },
  {
   "cell_type": "code",
   "execution_count": 6,
   "metadata": {
    "collapsed": false
   },
   "outputs": [
    {
     "data": {
      "text/plain": [
       "index          -0.598300\n",
       "mpg            -0.935521\n",
       "cylinders       0.842715\n",
       "displacement    0.867378\n",
       "horsepower      0.863464\n",
       "weight          0.887931\n",
       "acceleration   -0.458860\n",
       "model_year     -0.593483\n",
       "origin         -0.558155\n",
       "gpm             1.000000\n",
       "Name: gpm, dtype: float64"
      ]
     },
     "execution_count": 6,
     "metadata": {},
     "output_type": "execute_result"
    }
   ],
   "source": [
    "df.corr().gpm"
   ]
  },
  {
   "cell_type": "markdown",
   "metadata": {},
   "source": [
    "## `_sqrt`"
   ]
  },
  {
   "cell_type": "code",
   "execution_count": 7,
   "metadata": {
    "collapsed": false
   },
   "outputs": [],
   "source": [
    "df[ ['displacement_sqrt', 'horsepower_sqrt'] ] = df[ ['displacement', 'horsepower'] ].apply(np.sqrt)"
   ]
  },
  {
   "cell_type": "markdown",
   "metadata": {},
   "source": [
    "## `cylinders`"
   ]
  },
  {
   "cell_type": "code",
   "execution_count": 8,
   "metadata": {
    "collapsed": false
   },
   "outputs": [
    {
     "data": {
      "text/plain": [
       "[3, 4, 5, 6, 8]"
      ]
     },
     "execution_count": 8,
     "metadata": {},
     "output_type": "execute_result"
    }
   ],
   "source": [
    "sorted(df.cylinders.unique())"
   ]
  },
  {
   "cell_type": "code",
   "execution_count": 9,
   "metadata": {
    "collapsed": false
   },
   "outputs": [
    {
     "data": {
      "text/plain": [
       "4    125\n",
       "8     62\n",
       "6     48\n",
       "5      2\n",
       "3      2\n",
       "Name: cylinders, dtype: int64"
      ]
     },
     "execution_count": 9,
     "metadata": {},
     "output_type": "execute_result"
    }
   ],
   "source": [
    "df.cylinders.value_counts()"
   ]
  },
  {
   "cell_type": "markdown",
   "metadata": {},
   "source": [
    "## `cylinders` and `gpm`"
   ]
  },
  {
   "cell_type": "code",
   "execution_count": 10,
   "metadata": {
    "collapsed": false
   },
   "outputs": [
    {
     "data": {
      "text/plain": [
       "<matplotlib.axes._subplots.AxesSubplot at 0x1c85f400>"
      ]
     },
     "execution_count": 10,
     "metadata": {},
     "output_type": "execute_result"
    },
    {
     "data": {
      "image/png": "[encoded data removed]",
      "text/plain": [
       "<matplotlib.figure.Figure at 0x1c85f668>"
      ]
     },
     "metadata": {},
     "output_type": "display_data"
    }
   ],
   "source": [
    "df.boxplot('gpm', by = 'cylinders')"
   ]
  },
  {
   "cell_type": "code",
   "execution_count": 11,
   "metadata": {
    "collapsed": false
   },
   "outputs": [
    {
     "data": {
      "text/html": [
       "<table class=\"simpletable\">\n",
       "<caption>OLS Regression Results</caption>\n",
       "<tr>\n",
       "  <th>Dep. Variable:</th>           <td>gpm</td>       <th>  R-squared:         </th> <td>   0.710</td>\n",
       "</tr>\n",
       "<tr>\n",
       "  <th>Model:</th>                   <td>OLS</td>       <th>  Adj. R-squared:    </th> <td>   0.709</td>\n",
       "</tr>\n",
       "<tr>\n",
       "  <th>Method:</th>             <td>Least Squares</td>  <th>  F-statistic:       </th> <td>   580.7</td>\n",
       "</tr>\n",
       "<tr>\n",
       "  <th>Date:</th>             <td></td> <th>  Prob (F-statistic):</th> <td>1.13e-65</td>\n",
       "</tr>\n",
       "<tr>\n",
       "  <th>Time:</th>                 <td></td>     <th>  Log-Likelihood:    </th> <td>  785.05</td>\n",
       "</tr>\n",
       "<tr>\n",
       "  <th>No. Observations:</th>      <td>   239</td>      <th>  AIC:               </th> <td>  -1566.</td>\n",
       "</tr>\n",
       "<tr>\n",
       "  <th>Df Residuals:</th>          <td>   237</td>      <th>  BIC:               </th> <td>  -1559.</td>\n",
       "</tr>\n",
       "<tr>\n",
       "  <th>Df Model:</th>              <td>     1</td>      <th>                     </th>     <td> </td>   \n",
       "</tr>\n",
       "<tr>\n",
       "  <th>Covariance Type:</th>      <td>nonrobust</td>    <th>                     </th>     <td> </td>   \n",
       "</tr>\n",
       "</table>\n",
       "<table class=\"simpletable\">\n",
       "<tr>\n",
       "      <td></td>         <th>coef</th>     <th>std err</th>      <th>t</th>      <th>P>|t|</th> <th>[95.0% Conf. Int.]</th> \n",
       "</tr>\n",
       "<tr>\n",
       "  <th>Intercept</th> <td>    0.0023</td> <td>    0.002</td> <td>    1.149</td> <td> 0.252</td> <td>   -0.002     0.006</td>\n",
       "</tr>\n",
       "<tr>\n",
       "  <th>cylinders</th> <td>    0.0083</td> <td>    0.000</td> <td>   24.098</td> <td> 0.000</td> <td>    0.008     0.009</td>\n",
       "</tr>\n",
       "</table>\n",
       "<table class=\"simpletable\">\n",
       "<tr>\n",
       "  <th>Omnibus:</th>       <td>19.272</td> <th>  Durbin-Watson:     </th> <td>   1.995</td>\n",
       "</tr>\n",
       "<tr>\n",
       "  <th>Prob(Omnibus):</th> <td> 0.000</td> <th>  Jarque-Bera (JB):  </th> <td>  46.369</td>\n",
       "</tr>\n",
       "<tr>\n",
       "  <th>Skew:</th>          <td> 0.326</td> <th>  Prob(JB):          </th> <td>8.53e-11</td>\n",
       "</tr>\n",
       "<tr>\n",
       "  <th>Kurtosis:</th>      <td> 5.057</td> <th>  Cond. No.          </th> <td>    19.6</td>\n",
       "</tr>\n",
       "</table>"
      ],
      "text/plain": [
       "<class 'statsmodels.iolib.summary.Summary'>\n",
       "\"\"\"\n",
       "                            OLS Regression Results                            \n",
       "==============================================================================\n",
       "Dep. Variable:                    gpm   R-squared:                       0.710\n",
       "Model:                            OLS   Adj. R-squared:                  0.709\n",
       "Method:                 Least Squares   F-statistic:                     580.7\n",
       "Date:                                   Prob (F-statistic):           1.13e-65\n",
       "Time:                                   Log-Likelihood:                 785.05\n",
       "No. Observations:                 239   AIC:                            -1566.\n",
       "Df Residuals:                     237   BIC:                            -1559.\n",
       "Df Model:                           1                                         \n",
       "Covariance Type:            nonrobust                                         \n",
       "==============================================================================\n",
       "                 coef    std err          t      P>|t|      [95.0% Conf. Int.]\n",
       "------------------------------------------------------------------------------\n",
       "Intercept      0.0023      0.002      1.149      0.252        -0.002     0.006\n",
       "cylinders      0.0083      0.000     24.098      0.000         0.008     0.009\n",
       "==============================================================================\n",
       "Omnibus:                       19.272   Durbin-Watson:                   1.995\n",
       "Prob(Omnibus):                  0.000   Jarque-Bera (JB):               46.369\n",
       "Skew:                           0.326   Prob(JB):                     8.53e-11\n",
       "Kurtosis:                       5.057   Cond. No.                         19.6\n",
       "==============================================================================\n",
       "\n",
       "Warnings:\n",
       "[1] Standard Errors assume that the covariance matrix of the errors is correctly specified.\n",
       "\"\"\""
      ]
     },
     "execution_count": 11,
     "metadata": {},
     "output_type": "execute_result"
    }
   ],
   "source": [
    "smf.ols(formula = 'gpm ~ cylinders', data = df).fit().summary()"
   ]
  },
  {
   "cell_type": "markdown",
   "metadata": {},
   "source": [
    "## `displacement` and `gpm`"
   ]
  },
  {
   "cell_type": "code",
   "execution_count": 12,
   "metadata": {
    "collapsed": false
   },
   "outputs": [
    {
     "data": {
      "text/plain": [
       "<matplotlib.axes._subplots.AxesSubplot at 0x1cbd19e8>"
      ]
     },
     "execution_count": 12,
     "metadata": {},
     "output_type": "execute_result"
    },
    {
     "name": "stderr",
     "output_type": "stream",
     "text": [
      "C:\\Users\\Ivan\\Anaconda\\lib\\site-packages\\matplotlib\\collections.py:590: FutureWarning: elementwise comparison failed; returning scalar instead, but in the future will perform elementwise comparison\n",
      "  if self._edgecolors == str('face'):\n"
     ]
    },
    {
     "data": {
      "image/png": "[encoded data removed]",
      "text/plain": [
       "<matplotlib.figure.Figure at 0x3d05128>"
      ]
     },
     "metadata": {},
     "output_type": "display_data"
    }
   ],
   "source": [
    "df.plot('displacement_sqrt', 'gpm', kind = 'scatter')"
   ]
  },
  {
   "cell_type": "markdown",
   "metadata": {},
   "source": [
    "## `horsepower` and `gpm`"
   ]
  },
  {
   "cell_type": "code",
   "execution_count": 13,
   "metadata": {
    "collapsed": false
   },
   "outputs": [
    {
     "data": {
      "text/plain": [
       "<matplotlib.axes._subplots.AxesSubplot at 0x20385518>"
      ]
     },
     "execution_count": 13,
     "metadata": {},
     "output_type": "execute_result"
    },
    {
     "data": {
      "image/png": "[encoded data removed]",
      "text/plain": [
       "<matplotlib.figure.Figure at 0x20482e48>"
      ]
     },
     "metadata": {},
     "output_type": "display_data"
    }
   ],
   "source": [
    "df.plot('horsepower_sqrt', 'gpm', kind = 'scatter')"
   ]
  },
  {
   "cell_type": "markdown",
   "metadata": {},
   "source": [
    "## `weight` and `gpm`"
   ]
  },
  {
   "cell_type": "code",
   "execution_count": 14,
   "metadata": {
    "collapsed": false
   },
   "outputs": [
    {
     "data": {
      "text/plain": [
       "<matplotlib.axes._subplots.AxesSubplot at 0x2049ecf8>"
      ]
     },
     "execution_count": 14,
     "metadata": {},
     "output_type": "execute_result"
    },
    {
     "data": {
      "image/png": "[encoded data removed]",
      "text/plain": [
       "<matplotlib.figure.Figure at 0x203cb128>"
      ]
     },
     "metadata": {},
     "output_type": "display_data"
    }
   ],
   "source": [
    "df.plot('weight', 'gpm', kind = 'scatter')"
   ]
  },
  {
   "cell_type": "markdown",
   "metadata": {},
   "source": [
    "## `gpm`, `cylinders`, `displacement_sqrt`, `horsepower_sqrt`, `weight`"
   ]
  },
  {
   "cell_type": "code",
   "execution_count": 15,
   "metadata": {
    "collapsed": false
   },
   "outputs": [
    {
     "data": {
      "text/html": [
       "<div>\n",
       "<table border=\"1\" class=\"dataframe\">\n",
       "  <thead>\n",
       "    <tr style=\"text-align: right;\">\n",
       "      <th></th>\n",
       "      <th>gpm</th>\n",
       "      <th>cylinders</th>\n",
       "      <th>displacement_sqrt</th>\n",
       "      <th>horsepower_sqrt</th>\n",
       "      <th>weight</th>\n",
       "    </tr>\n",
       "  </thead>\n",
       "  <tbody>\n",
       "    <tr>\n",
       "      <th>gpm</th>\n",
       "      <td>1.000000</td>\n",
       "      <td>0.842715</td>\n",
       "      <td>0.870129</td>\n",
       "      <td>0.868015</td>\n",
       "      <td>0.887931</td>\n",
       "    </tr>\n",
       "    <tr>\n",
       "      <th>cylinders</th>\n",
       "      <td>0.842715</td>\n",
       "      <td>1.000000</td>\n",
       "      <td>0.952894</td>\n",
       "      <td>0.849665</td>\n",
       "      <td>0.901871</td>\n",
       "    </tr>\n",
       "    <tr>\n",
       "      <th>displacement_sqrt</th>\n",
       "      <td>0.870129</td>\n",
       "      <td>0.952894</td>\n",
       "      <td>1.000000</td>\n",
       "      <td>0.894335</td>\n",
       "      <td>0.937652</td>\n",
       "    </tr>\n",
       "    <tr>\n",
       "      <th>horsepower_sqrt</th>\n",
       "      <td>0.868015</td>\n",
       "      <td>0.849665</td>\n",
       "      <td>0.894335</td>\n",
       "      <td>1.000000</td>\n",
       "      <td>0.875021</td>\n",
       "    </tr>\n",
       "    <tr>\n",
       "      <th>weight</th>\n",
       "      <td>0.887931</td>\n",
       "      <td>0.901871</td>\n",
       "      <td>0.937652</td>\n",
       "      <td>0.875021</td>\n",
       "      <td>1.000000</td>\n",
       "    </tr>\n",
       "  </tbody>\n",
       "</table>\n",
       "</div>"
      ],
      "text/plain": [
       "                        gpm  cylinders  displacement_sqrt  horsepower_sqrt  \\\n",
       "gpm                1.000000   0.842715           0.870129         0.868015   \n",
       "cylinders          0.842715   1.000000           0.952894         0.849665   \n",
       "displacement_sqrt  0.870129   0.952894           1.000000         0.894335   \n",
       "horsepower_sqrt    0.868015   0.849665           0.894335         1.000000   \n",
       "weight             0.887931   0.901871           0.937652         0.875021   \n",
       "\n",
       "                     weight  \n",
       "gpm                0.887931  \n",
       "cylinders          0.901871  \n",
       "displacement_sqrt  0.937652  \n",
       "horsepower_sqrt    0.875021  \n",
       "weight             1.000000  "
      ]
     },
     "execution_count": 15,
     "metadata": {},
     "output_type": "execute_result"
    }
   ],
   "source": [
    "df[ ['gpm', 'cylinders', 'displacement_sqrt', 'horsepower_sqrt', 'weight'] ].corr()"
   ]
  },
  {
   "cell_type": "code",
   "execution_count": 16,
   "metadata": {
    "collapsed": false
   },
   "outputs": [
    {
     "data": {
      "text/html": [
       "<table class=\"simpletable\">\n",
       "<caption>OLS Regression Results</caption>\n",
       "<tr>\n",
       "  <th>Dep. Variable:</th>           <td>gpm</td>       <th>  R-squared:         </th> <td>   0.825</td>\n",
       "</tr>\n",
       "<tr>\n",
       "  <th>Model:</th>                   <td>OLS</td>       <th>  Adj. R-squared:    </th> <td>   0.822</td>\n",
       "</tr>\n",
       "<tr>\n",
       "  <th>Method:</th>             <td>Least Squares</td>  <th>  F-statistic:       </th> <td>   272.6</td>\n",
       "</tr>\n",
       "<tr>\n",
       "  <th>Date:</th>             <td></td> <th>  Prob (F-statistic):</th> <td>3.17e-86</td>\n",
       "</tr>\n",
       "<tr>\n",
       "  <th>Time:</th>                 <td></td>     <th>  Log-Likelihood:    </th> <td>  835.03</td>\n",
       "</tr>\n",
       "<tr>\n",
       "  <th>No. Observations:</th>      <td>   236</td>      <th>  AIC:               </th> <td>  -1660.</td>\n",
       "</tr>\n",
       "<tr>\n",
       "  <th>Df Residuals:</th>          <td>   231</td>      <th>  BIC:               </th> <td>  -1643.</td>\n",
       "</tr>\n",
       "<tr>\n",
       "  <th>Df Model:</th>              <td>     4</td>      <th>                     </th>     <td> </td>   \n",
       "</tr>\n",
       "<tr>\n",
       "  <th>Covariance Type:</th>      <td>nonrobust</td>    <th>                     </th>     <td> </td>   \n",
       "</tr>\n",
       "</table>\n",
       "<table class=\"simpletable\">\n",
       "<tr>\n",
       "          <td></td>             <th>coef</th>     <th>std err</th>      <th>t</th>      <th>P>|t|</th> <th>[95.0% Conf. Int.]</th> \n",
       "</tr>\n",
       "<tr>\n",
       "  <th>Intercept</th>         <td>   -0.0199</td> <td>    0.003</td> <td>   -6.449</td> <td> 0.000</td> <td>   -0.026    -0.014</td>\n",
       "</tr>\n",
       "<tr>\n",
       "  <th>cylinders</th>         <td>    0.0011</td> <td>    0.001</td> <td>    1.273</td> <td> 0.204</td> <td>   -0.001     0.003</td>\n",
       "</tr>\n",
       "<tr>\n",
       "  <th>displacement_sqrt</th> <td>-7.946e-05</td> <td>    0.001</td> <td>   -0.145</td> <td> 0.885</td> <td>   -0.001     0.001</td>\n",
       "</tr>\n",
       "<tr>\n",
       "  <th>horsepower_sqrt</th>   <td>    0.0034</td> <td>    0.001</td> <td>    5.779</td> <td> 0.000</td> <td>    0.002     0.005</td>\n",
       "</tr>\n",
       "<tr>\n",
       "  <th>weight</th>            <td> 9.354e-06</td> <td> 1.59e-06</td> <td>    5.891</td> <td> 0.000</td> <td> 6.23e-06  1.25e-05</td>\n",
       "</tr>\n",
       "</table>\n",
       "<table class=\"simpletable\">\n",
       "<tr>\n",
       "  <th>Omnibus:</th>       <td>24.058</td> <th>  Durbin-Watson:     </th> <td>   1.950</td>\n",
       "</tr>\n",
       "<tr>\n",
       "  <th>Prob(Omnibus):</th> <td> 0.000</td> <th>  Jarque-Bera (JB):  </th> <td>  40.566</td>\n",
       "</tr>\n",
       "<tr>\n",
       "  <th>Skew:</th>          <td> 0.581</td> <th>  Prob(JB):          </th> <td>1.55e-09</td>\n",
       "</tr>\n",
       "<tr>\n",
       "  <th>Kurtosis:</th>      <td> 4.666</td> <th>  Cond. No.          </th> <td>2.09e+04</td>\n",
       "</tr>\n",
       "</table>"
      ],
      "text/plain": [
       "<class 'statsmodels.iolib.summary.Summary'>\n",
       "\"\"\"\n",
       "                            OLS Regression Results                            \n",
       "==============================================================================\n",
       "Dep. Variable:                    gpm   R-squared:                       0.825\n",
       "Model:                            OLS   Adj. R-squared:                  0.822\n",
       "Method:                 Least Squares   F-statistic:                     272.6\n",
       "Date:                                   Prob (F-statistic):           3.17e-86\n",
       "Time:                                   Log-Likelihood:                 835.03\n",
       "No. Observations:                 236   AIC:                            -1660.\n",
       "Df Residuals:                     231   BIC:                            -1643.\n",
       "Df Model:                           4                                         \n",
       "Covariance Type:            nonrobust                                         \n",
       "=====================================================================================\n",
       "                        coef    std err          t      P>|t|      [95.0% Conf. Int.]\n",
       "-------------------------------------------------------------------------------------\n",
       "Intercept            -0.0199      0.003     -6.449      0.000        -0.026    -0.014\n",
       "cylinders             0.0011      0.001      1.273      0.204        -0.001     0.003\n",
       "displacement_sqrt -7.946e-05      0.001     -0.145      0.885        -0.001     0.001\n",
       "horsepower_sqrt       0.0034      0.001      5.779      0.000         0.002     0.005\n",
       "weight             9.354e-06   1.59e-06      5.891      0.000      6.23e-06  1.25e-05\n",
       "==============================================================================\n",
       "Omnibus:                       24.058   Durbin-Watson:                   1.950\n",
       "Prob(Omnibus):                  0.000   Jarque-Bera (JB):               40.566\n",
       "Skew:                           0.581   Prob(JB):                     1.55e-09\n",
       "Kurtosis:                       4.666   Cond. No.                     2.09e+04\n",
       "==============================================================================\n",
       "\n",
       "Warnings:\n",
       "[1] Standard Errors assume that the covariance matrix of the errors is correctly specified.\n",
       "[2] The condition number is large, 2.09e+04. This might indicate that there are\n",
       "strong multicollinearity or other numerical problems.\n",
       "\"\"\""
      ]
     },
     "execution_count": 16,
     "metadata": {},
     "output_type": "execute_result"
    }
   ],
   "source": [
    "smf.ols(formula = 'gpm ~ cylinders + displacement_sqrt + horsepower_sqrt + weight', data = df).fit().summary()"
   ]
  },
  {
   "cell_type": "markdown",
   "metadata": {},
   "source": [
    "## Removing `displacement_sqrt`"
   ]
  },
  {
   "cell_type": "code",
   "execution_count": 17,
   "metadata": {
    "collapsed": false
   },
   "outputs": [
    {
     "data": {
      "text/html": [
       "<table class=\"simpletable\">\n",
       "<caption>OLS Regression Results</caption>\n",
       "<tr>\n",
       "  <th>Dep. Variable:</th>           <td>gpm</td>       <th>  R-squared:         </th> <td>   0.825</td>\n",
       "</tr>\n",
       "<tr>\n",
       "  <th>Model:</th>                   <td>OLS</td>       <th>  Adj. R-squared:    </th> <td>   0.823</td>\n",
       "</tr>\n",
       "<tr>\n",
       "  <th>Method:</th>             <td>Least Squares</td>  <th>  F-statistic:       </th> <td>   365.0</td>\n",
       "</tr>\n",
       "<tr>\n",
       "  <th>Date:</th>             <td></td> <th>  Prob (F-statistic):</th> <td>1.54e-87</td>\n",
       "</tr>\n",
       "<tr>\n",
       "  <th>Time:</th>                 <td></td>     <th>  Log-Likelihood:    </th> <td>  835.01</td>\n",
       "</tr>\n",
       "<tr>\n",
       "  <th>No. Observations:</th>      <td>   236</td>      <th>  AIC:               </th> <td>  -1662.</td>\n",
       "</tr>\n",
       "<tr>\n",
       "  <th>Df Residuals:</th>          <td>   232</td>      <th>  BIC:               </th> <td>  -1648.</td>\n",
       "</tr>\n",
       "<tr>\n",
       "  <th>Df Model:</th>              <td>     3</td>      <th>                     </th>     <td> </td>   \n",
       "</tr>\n",
       "<tr>\n",
       "  <th>Covariance Type:</th>      <td>nonrobust</td>    <th>                     </th>     <td> </td>   \n",
       "</tr>\n",
       "</table>\n",
       "<table class=\"simpletable\">\n",
       "<tr>\n",
       "         <td></td>            <th>coef</th>     <th>std err</th>      <th>t</th>      <th>P>|t|</th> <th>[95.0% Conf. Int.]</th> \n",
       "</tr>\n",
       "<tr>\n",
       "  <th>Intercept</th>       <td>   -0.0198</td> <td>    0.003</td> <td>   -6.469</td> <td> 0.000</td> <td>   -0.026    -0.014</td>\n",
       "</tr>\n",
       "<tr>\n",
       "  <th>cylinders</th>       <td>    0.0011</td> <td>    0.001</td> <td>    1.610</td> <td> 0.109</td> <td>   -0.000     0.002</td>\n",
       "</tr>\n",
       "<tr>\n",
       "  <th>horsepower_sqrt</th> <td>    0.0034</td> <td>    0.001</td> <td>    6.121</td> <td> 0.000</td> <td>    0.002     0.005</td>\n",
       "</tr>\n",
       "<tr>\n",
       "  <th>weight</th>          <td> 9.248e-06</td> <td> 1.41e-06</td> <td>    6.568</td> <td> 0.000</td> <td> 6.47e-06   1.2e-05</td>\n",
       "</tr>\n",
       "</table>\n",
       "<table class=\"simpletable\">\n",
       "<tr>\n",
       "  <th>Omnibus:</th>       <td>24.447</td> <th>  Durbin-Watson:     </th> <td>   1.949</td>\n",
       "</tr>\n",
       "<tr>\n",
       "  <th>Prob(Omnibus):</th> <td> 0.000</td> <th>  Jarque-Bera (JB):  </th> <td>  41.959</td>\n",
       "</tr>\n",
       "<tr>\n",
       "  <th>Skew:</th>          <td> 0.583</td> <th>  Prob(JB):          </th> <td>7.74e-10</td>\n",
       "</tr>\n",
       "<tr>\n",
       "  <th>Kurtosis:</th>      <td> 4.705</td> <th>  Cond. No.          </th> <td>2.08e+04</td>\n",
       "</tr>\n",
       "</table>"
      ],
      "text/plain": [
       "<class 'statsmodels.iolib.summary.Summary'>\n",
       "\"\"\"\n",
       "                            OLS Regression Results                            \n",
       "==============================================================================\n",
       "Dep. Variable:                    gpm   R-squared:                       0.825\n",
       "Model:                            OLS   Adj. R-squared:                  0.823\n",
       "Method:                 Least Squares   F-statistic:                     365.0\n",
       "Date:                                   Prob (F-statistic):           1.54e-87\n",
       "Time:                                   Log-Likelihood:                 835.01\n",
       "No. Observations:                 236   AIC:                            -1662.\n",
       "Df Residuals:                     232   BIC:                            -1648.\n",
       "Df Model:                           3                                         \n",
       "Covariance Type:            nonrobust                                         \n",
       "===================================================================================\n",
       "                      coef    std err          t      P>|t|      [95.0% Conf. Int.]\n",
       "-----------------------------------------------------------------------------------\n",
       "Intercept          -0.0198      0.003     -6.469      0.000        -0.026    -0.014\n",
       "cylinders           0.0011      0.001      1.610      0.109        -0.000     0.002\n",
       "horsepower_sqrt     0.0034      0.001      6.121      0.000         0.002     0.005\n",
       "weight           9.248e-06   1.41e-06      6.568      0.000      6.47e-06   1.2e-05\n",
       "==============================================================================\n",
       "Omnibus:                       24.447   Durbin-Watson:                   1.949\n",
       "Prob(Omnibus):                  0.000   Jarque-Bera (JB):               41.959\n",
       "Skew:                           0.583   Prob(JB):                     7.74e-10\n",
       "Kurtosis:                       4.705   Cond. No.                     2.08e+04\n",
       "==============================================================================\n",
       "\n",
       "Warnings:\n",
       "[1] Standard Errors assume that the covariance matrix of the errors is correctly specified.\n",
       "[2] The condition number is large, 2.08e+04. This might indicate that there are\n",
       "strong multicollinearity or other numerical problems.\n",
       "\"\"\""
      ]
     },
     "execution_count": 17,
     "metadata": {},
     "output_type": "execute_result"
    }
   ],
   "source": [
    "smf.ols(formula = 'gpm ~ cylinders + horsepower_sqrt + weight', data = df).fit().summary()"
   ]
  },
  {
   "cell_type": "markdown",
   "metadata": {},
   "source": [
    "## Interactions"
   ]
  },
  {
   "cell_type": "code",
   "execution_count": 18,
   "metadata": {
    "collapsed": false
   },
   "outputs": [
    {
     "data": {
      "text/html": [
       "<table class=\"simpletable\">\n",
       "<caption>OLS Regression Results</caption>\n",
       "<tr>\n",
       "  <th>Dep. Variable:</th>           <td>gpm</td>       <th>  R-squared:         </th> <td>   0.830</td>\n",
       "</tr>\n",
       "<tr>\n",
       "  <th>Model:</th>                   <td>OLS</td>       <th>  Adj. R-squared:    </th> <td>   0.825</td>\n",
       "</tr>\n",
       "<tr>\n",
       "  <th>Method:</th>             <td>Least Squares</td>  <th>  F-statistic:       </th> <td>   158.9</td>\n",
       "</tr>\n",
       "<tr>\n",
       "  <th>Date:</th>             <td></td> <th>  Prob (F-statistic):</th> <td>5.34e-84</td>\n",
       "</tr>\n",
       "<tr>\n",
       "  <th>Time:</th>                 <td></td>     <th>  Log-Likelihood:    </th> <td>  838.27</td>\n",
       "</tr>\n",
       "<tr>\n",
       "  <th>No. Observations:</th>      <td>   236</td>      <th>  AIC:               </th> <td>  -1661.</td>\n",
       "</tr>\n",
       "<tr>\n",
       "  <th>Df Residuals:</th>          <td>   228</td>      <th>  BIC:               </th> <td>  -1633.</td>\n",
       "</tr>\n",
       "<tr>\n",
       "  <th>Df Model:</th>              <td>     7</td>      <th>                     </th>     <td> </td>   \n",
       "</tr>\n",
       "<tr>\n",
       "  <th>Covariance Type:</th>      <td>nonrobust</td>    <th>                     </th>     <td> </td>   \n",
       "</tr>\n",
       "</table>\n",
       "<table class=\"simpletable\">\n",
       "<tr>\n",
       "                  <td></td>                    <th>coef</th>     <th>std err</th>      <th>t</th>      <th>P>|t|</th> <th>[95.0% Conf. Int.]</th> \n",
       "</tr>\n",
       "<tr>\n",
       "  <th>Intercept</th>                        <td>    0.0884</td> <td>    0.083</td> <td>    1.069</td> <td> 0.286</td> <td>   -0.075     0.251</td>\n",
       "</tr>\n",
       "<tr>\n",
       "  <th>cylinders</th>                        <td>   -0.0069</td> <td>    0.014</td> <td>   -0.480</td> <td> 0.632</td> <td>   -0.035     0.022</td>\n",
       "</tr>\n",
       "<tr>\n",
       "  <th>horsepower_sqrt</th>                  <td>   -0.0094</td> <td>    0.009</td> <td>   -1.100</td> <td> 0.273</td> <td>   -0.026     0.007</td>\n",
       "</tr>\n",
       "<tr>\n",
       "  <th>weight</th>                           <td>-4.329e-05</td> <td> 3.19e-05</td> <td>   -1.358</td> <td> 0.176</td> <td>   -0.000  1.95e-05</td>\n",
       "</tr>\n",
       "<tr>\n",
       "  <th>cylinders:horsepower_sqrt</th>        <td>    0.0011</td> <td>    0.001</td> <td>    0.820</td> <td> 0.413</td> <td>   -0.002     0.004</td>\n",
       "</tr>\n",
       "<tr>\n",
       "  <th>cylinders:weight</th>                 <td> 4.978e-06</td> <td> 4.75e-06</td> <td>    1.047</td> <td> 0.296</td> <td>-4.39e-06  1.43e-05</td>\n",
       "</tr>\n",
       "<tr>\n",
       "  <th>horsepower_sqrt:weight</th>           <td> 5.973e-06</td> <td> 3.33e-06</td> <td>    1.794</td> <td> 0.074</td> <td>-5.87e-07  1.25e-05</td>\n",
       "</tr>\n",
       "<tr>\n",
       "  <th>cylinders:horsepower_sqrt:weight</th> <td>-6.118e-07</td> <td> 4.67e-07</td> <td>   -1.310</td> <td> 0.191</td> <td>-1.53e-06  3.08e-07</td>\n",
       "</tr>\n",
       "</table>\n",
       "<table class=\"simpletable\">\n",
       "<tr>\n",
       "  <th>Omnibus:</th>       <td>28.187</td> <th>  Durbin-Watson:     </th> <td>   1.983</td>\n",
       "</tr>\n",
       "<tr>\n",
       "  <th>Prob(Omnibus):</th> <td> 0.000</td> <th>  Jarque-Bera (JB):  </th> <td>  46.952</td>\n",
       "</tr>\n",
       "<tr>\n",
       "  <th>Skew:</th>          <td> 0.676</td> <th>  Prob(JB):          </th> <td>6.37e-11</td>\n",
       "</tr>\n",
       "<tr>\n",
       "  <th>Kurtosis:</th>      <td> 4.716</td> <th>  Cond. No.          </th> <td>4.49e+07</td>\n",
       "</tr>\n",
       "</table>"
      ],
      "text/plain": [
       "<class 'statsmodels.iolib.summary.Summary'>\n",
       "\"\"\"\n",
       "                            OLS Regression Results                            \n",
       "==============================================================================\n",
       "Dep. Variable:                    gpm   R-squared:                       0.830\n",
       "Model:                            OLS   Adj. R-squared:                  0.825\n",
       "Method:                 Least Squares   F-statistic:                     158.9\n",
       "Date:                                   Prob (F-statistic):           5.34e-84\n",
       "Time:                                   Log-Likelihood:                 838.27\n",
       "No. Observations:                 236   AIC:                            -1661.\n",
       "Df Residuals:                     228   BIC:                            -1633.\n",
       "Df Model:                           7                                         \n",
       "Covariance Type:            nonrobust                                         \n",
       "====================================================================================================\n",
       "                                       coef    std err          t      P>|t|      [95.0% Conf. Int.]\n",
       "----------------------------------------------------------------------------------------------------\n",
       "Intercept                            0.0884      0.083      1.069      0.286        -0.075     0.251\n",
       "cylinders                           -0.0069      0.014     -0.480      0.632        -0.035     0.022\n",
       "horsepower_sqrt                     -0.0094      0.009     -1.100      0.273        -0.026     0.007\n",
       "weight                           -4.329e-05   3.19e-05     -1.358      0.176        -0.000  1.95e-05\n",
       "cylinders:horsepower_sqrt            0.0011      0.001      0.820      0.413        -0.002     0.004\n",
       "cylinders:weight                  4.978e-06   4.75e-06      1.047      0.296     -4.39e-06  1.43e-05\n",
       "horsepower_sqrt:weight            5.973e-06   3.33e-06      1.794      0.074     -5.87e-07  1.25e-05\n",
       "cylinders:horsepower_sqrt:weight -6.118e-07   4.67e-07     -1.310      0.191     -1.53e-06  3.08e-07\n",
       "==============================================================================\n",
       "Omnibus:                       28.187   Durbin-Watson:                   1.983\n",
       "Prob(Omnibus):                  0.000   Jarque-Bera (JB):               46.952\n",
       "Skew:                           0.676   Prob(JB):                     6.37e-11\n",
       "Kurtosis:                       4.716   Cond. No.                     4.49e+07\n",
       "==============================================================================\n",
       "\n",
       "Warnings:\n",
       "[1] Standard Errors assume that the covariance matrix of the errors is correctly specified.\n",
       "[2] The condition number is large, 4.49e+07. This might indicate that there are\n",
       "strong multicollinearity or other numerical problems.\n",
       "\"\"\""
      ]
     },
     "execution_count": 18,
     "metadata": {},
     "output_type": "execute_result"
    }
   ],
   "source": [
    "formula = 'gpm ~ cylinders + horsepower_sqrt + weight'\n",
    "formula += ' + cylinders * horsepower_sqrt + cylinders * weight'\n",
    "formula += ' + horsepower_sqrt * weight'\n",
    "formula += ' + cylinders * horsepower_sqrt * weight'\n",
    "\n",
    "smf.ols(formula = formula, data = df).fit().summary()"
   ]
  },
  {
   "cell_type": "code",
   "execution_count": 19,
   "metadata": {
    "collapsed": false
   },
   "outputs": [
    {
     "data": {
      "text/html": [
       "<table class=\"simpletable\">\n",
       "<caption>OLS Regression Results</caption>\n",
       "<tr>\n",
       "  <th>Dep. Variable:</th>           <td>gpm</td>       <th>  R-squared:         </th> <td>   0.823</td>\n",
       "</tr>\n",
       "<tr>\n",
       "  <th>Model:</th>                   <td>OLS</td>       <th>  Adj. R-squared:    </th> <td>   0.822</td>\n",
       "</tr>\n",
       "<tr>\n",
       "  <th>Method:</th>             <td>Least Squares</td>  <th>  F-statistic:       </th> <td>   542.5</td>\n",
       "</tr>\n",
       "<tr>\n",
       "  <th>Date:</th>             <td></td> <th>  Prob (F-statistic):</th> <td>2.12e-88</td>\n",
       "</tr>\n",
       "<tr>\n",
       "  <th>Time:</th>                 <td></td>     <th>  Log-Likelihood:    </th> <td>  833.70</td>\n",
       "</tr>\n",
       "<tr>\n",
       "  <th>No. Observations:</th>      <td>   236</td>      <th>  AIC:               </th> <td>  -1661.</td>\n",
       "</tr>\n",
       "<tr>\n",
       "  <th>Df Residuals:</th>          <td>   233</td>      <th>  BIC:               </th> <td>  -1651.</td>\n",
       "</tr>\n",
       "<tr>\n",
       "  <th>Df Model:</th>              <td>     2</td>      <th>                     </th>     <td> </td>   \n",
       "</tr>\n",
       "<tr>\n",
       "  <th>Covariance Type:</th>      <td>nonrobust</td>    <th>                     </th>     <td> </td>   \n",
       "</tr>\n",
       "</table>\n",
       "<table class=\"simpletable\">\n",
       "<tr>\n",
       "         <td></td>            <th>coef</th>     <th>std err</th>      <th>t</th>      <th>P>|t|</th> <th>[95.0% Conf. Int.]</th> \n",
       "</tr>\n",
       "<tr>\n",
       "  <th>Intercept</th>       <td>   -0.0209</td> <td>    0.003</td> <td>   -6.954</td> <td> 0.000</td> <td>   -0.027    -0.015</td>\n",
       "</tr>\n",
       "<tr>\n",
       "  <th>horsepower_sqrt</th> <td>    0.0037</td> <td>    0.001</td> <td>    6.864</td> <td> 0.000</td> <td>    0.003     0.005</td>\n",
       "</tr>\n",
       "<tr>\n",
       "  <th>weight</th>          <td> 1.065e-05</td> <td> 1.11e-06</td> <td>    9.589</td> <td> 0.000</td> <td> 8.46e-06  1.28e-05</td>\n",
       "</tr>\n",
       "</table>\n",
       "<table class=\"simpletable\">\n",
       "<tr>\n",
       "  <th>Omnibus:</th>       <td>23.408</td> <th>  Durbin-Watson:     </th> <td>   1.945</td>\n",
       "</tr>\n",
       "<tr>\n",
       "  <th>Prob(Omnibus):</th> <td> 0.000</td> <th>  Jarque-Bera (JB):  </th> <td>  34.863</td>\n",
       "</tr>\n",
       "<tr>\n",
       "  <th>Skew:</th>          <td> 0.616</td> <th>  Prob(JB):          </th> <td>2.69e-08</td>\n",
       "</tr>\n",
       "<tr>\n",
       "  <th>Kurtosis:</th>      <td> 4.424</td> <th>  Cond. No.          </th> <td>2.03e+04</td>\n",
       "</tr>\n",
       "</table>"
      ],
      "text/plain": [
       "<class 'statsmodels.iolib.summary.Summary'>\n",
       "\"\"\"\n",
       "                            OLS Regression Results                            \n",
       "==============================================================================\n",
       "Dep. Variable:                    gpm   R-squared:                       0.823\n",
       "Model:                            OLS   Adj. R-squared:                  0.822\n",
       "Method:                 Least Squares   F-statistic:                     542.5\n",
       "Date:                                   Prob (F-statistic):           2.12e-88\n",
       "Time:                                   Log-Likelihood:                 833.70\n",
       "No. Observations:                 236   AIC:                            -1661.\n",
       "Df Residuals:                     233   BIC:                            -1651.\n",
       "Df Model:                           2                                         \n",
       "Covariance Type:            nonrobust                                         \n",
       "===================================================================================\n",
       "                      coef    std err          t      P>|t|      [95.0% Conf. Int.]\n",
       "-----------------------------------------------------------------------------------\n",
       "Intercept          -0.0209      0.003     -6.954      0.000        -0.027    -0.015\n",
       "horsepower_sqrt     0.0037      0.001      6.864      0.000         0.003     0.005\n",
       "weight           1.065e-05   1.11e-06      9.589      0.000      8.46e-06  1.28e-05\n",
       "==============================================================================\n",
       "Omnibus:                       23.408   Durbin-Watson:                   1.945\n",
       "Prob(Omnibus):                  0.000   Jarque-Bera (JB):               34.863\n",
       "Skew:                           0.616   Prob(JB):                     2.69e-08\n",
       "Kurtosis:                       4.424   Cond. No.                     2.03e+04\n",
       "==============================================================================\n",
       "\n",
       "Warnings:\n",
       "[1] Standard Errors assume that the covariance matrix of the errors is correctly specified.\n",
       "[2] The condition number is large, 2.03e+04. This might indicate that there are\n",
       "strong multicollinearity or other numerical problems.\n",
       "\"\"\""
      ]
     },
     "execution_count": 19,
     "metadata": {},
     "output_type": "execute_result"
    }
   ],
   "source": [
    "smf.ols(formula = 'gpm ~ horsepower_sqrt + weight', data = df).fit().summary()"
   ]
  },
  {
   "cell_type": "code",
   "execution_count": 20,
   "metadata": {
    "collapsed": false
   },
   "outputs": [
    {
     "data": {
      "text/html": [
       "<table class=\"simpletable\">\n",
       "<caption>OLS Regression Results</caption>\n",
       "<tr>\n",
       "  <th>Dep. Variable:</th>           <td>gpm</td>       <th>  R-squared:         </th> <td>   0.798</td>\n",
       "</tr>\n",
       "<tr>\n",
       "  <th>Model:</th>                   <td>OLS</td>       <th>  Adj. R-squared:    </th> <td>   0.796</td>\n",
       "</tr>\n",
       "<tr>\n",
       "  <th>Method:</th>             <td>Least Squares</td>  <th>  F-statistic:       </th> <td>   465.7</td>\n",
       "</tr>\n",
       "<tr>\n",
       "  <th>Date:</th>             <td></td> <th>  Prob (F-statistic):</th> <td>1.18e-82</td>\n",
       "</tr>\n",
       "<tr>\n",
       "  <th>Time:</th>                 <td></td>     <th>  Log-Likelihood:    </th> <td>  828.09</td>\n",
       "</tr>\n",
       "<tr>\n",
       "  <th>No. Observations:</th>      <td>   239</td>      <th>  AIC:               </th> <td>  -1650.</td>\n",
       "</tr>\n",
       "<tr>\n",
       "  <th>Df Residuals:</th>          <td>   236</td>      <th>  BIC:               </th> <td>  -1640.</td>\n",
       "</tr>\n",
       "<tr>\n",
       "  <th>Df Model:</th>              <td>     2</td>      <th>                     </th>     <td> </td>   \n",
       "</tr>\n",
       "<tr>\n",
       "  <th>Covariance Type:</th>      <td>nonrobust</td>    <th>                     </th>     <td> </td>   \n",
       "</tr>\n",
       "</table>\n",
       "<table class=\"simpletable\">\n",
       "<tr>\n",
       "      <td></td>         <th>coef</th>     <th>std err</th>      <th>t</th>      <th>P>|t|</th> <th>[95.0% Conf. Int.]</th> \n",
       "</tr>\n",
       "<tr>\n",
       "  <th>Intercept</th> <td>   -0.0041</td> <td>    0.002</td> <td>   -2.337</td> <td> 0.020</td> <td>   -0.008    -0.001</td>\n",
       "</tr>\n",
       "<tr>\n",
       "  <th>cylinders</th> <td>    0.0022</td> <td>    0.001</td> <td>    3.315</td> <td> 0.001</td> <td>    0.001     0.004</td>\n",
       "</tr>\n",
       "<tr>\n",
       "  <th>weight</th>    <td> 1.337e-05</td> <td> 1.32e-06</td> <td>   10.116</td> <td> 0.000</td> <td> 1.08e-05   1.6e-05</td>\n",
       "</tr>\n",
       "</table>\n",
       "<table class=\"simpletable\">\n",
       "<tr>\n",
       "  <th>Omnibus:</th>       <td>28.374</td> <th>  Durbin-Watson:     </th> <td>   2.064</td>\n",
       "</tr>\n",
       "<tr>\n",
       "  <th>Prob(Omnibus):</th> <td> 0.000</td> <th>  Jarque-Bera (JB):  </th> <td>  73.568</td>\n",
       "</tr>\n",
       "<tr>\n",
       "  <th>Skew:</th>          <td> 0.509</td> <th>  Prob(JB):          </th> <td>1.06e-16</td>\n",
       "</tr>\n",
       "<tr>\n",
       "  <th>Kurtosis:</th>      <td> 5.520</td> <th>  Cond. No.          </th> <td>1.11e+04</td>\n",
       "</tr>\n",
       "</table>"
      ],
      "text/plain": [
       "<class 'statsmodels.iolib.summary.Summary'>\n",
       "\"\"\"\n",
       "                            OLS Regression Results                            \n",
       "==============================================================================\n",
       "Dep. Variable:                    gpm   R-squared:                       0.798\n",
       "Model:                            OLS   Adj. R-squared:                  0.796\n",
       "Method:                 Least Squares   F-statistic:                     465.7\n",
       "Date:                                   Prob (F-statistic):           1.18e-82\n",
       "Time:                                   Log-Likelihood:                 828.09\n",
       "No. Observations:                 239   AIC:                            -1650.\n",
       "Df Residuals:                     236   BIC:                            -1640.\n",
       "Df Model:                           2                                         \n",
       "Covariance Type:            nonrobust                                         \n",
       "==============================================================================\n",
       "                 coef    std err          t      P>|t|      [95.0% Conf. Int.]\n",
       "------------------------------------------------------------------------------\n",
       "Intercept     -0.0041      0.002     -2.337      0.020        -0.008    -0.001\n",
       "cylinders      0.0022      0.001      3.315      0.001         0.001     0.004\n",
       "weight      1.337e-05   1.32e-06     10.116      0.000      1.08e-05   1.6e-05\n",
       "==============================================================================\n",
       "Omnibus:                       28.374   Durbin-Watson:                   2.064\n",
       "Prob(Omnibus):                  0.000   Jarque-Bera (JB):               73.568\n",
       "Skew:                           0.509   Prob(JB):                     1.06e-16\n",
       "Kurtosis:                       5.520   Cond. No.                     1.11e+04\n",
       "==============================================================================\n",
       "\n",
       "Warnings:\n",
       "[1] Standard Errors assume that the covariance matrix of the errors is correctly specified.\n",
       "[2] The condition number is large, 1.11e+04. This might indicate that there are\n",
       "strong multicollinearity or other numerical problems.\n",
       "\"\"\""
      ]
     },
     "execution_count": 20,
     "metadata": {},
     "output_type": "execute_result"
    }
   ],
   "source": [
    "smf.ols(formula = 'gpm ~ cylinders + weight', data = df).fit().summary()"
   ]
  },
  {
   "cell_type": "code",
   "execution_count": 21,
   "metadata": {
    "collapsed": false
   },
   "outputs": [
    {
     "data": {
      "text/html": [
       "<table class=\"simpletable\">\n",
       "<caption>OLS Regression Results</caption>\n",
       "<tr>\n",
       "  <th>Dep. Variable:</th>           <td>gpm</td>       <th>  R-squared:         </th> <td>   0.793</td>\n",
       "</tr>\n",
       "<tr>\n",
       "  <th>Model:</th>                   <td>OLS</td>       <th>  Adj. R-squared:    </th> <td>   0.791</td>\n",
       "</tr>\n",
       "<tr>\n",
       "  <th>Method:</th>             <td>Least Squares</td>  <th>  F-statistic:       </th> <td>   445.4</td>\n",
       "</tr>\n",
       "<tr>\n",
       "  <th>Date:</th>             <td></td> <th>  Prob (F-statistic):</th> <td>2.47e-80</td>\n",
       "</tr>\n",
       "<tr>\n",
       "  <th>Time:</th>                 <td></td>     <th>  Log-Likelihood:    </th> <td>  814.89</td>\n",
       "</tr>\n",
       "<tr>\n",
       "  <th>No. Observations:</th>      <td>   236</td>      <th>  AIC:               </th> <td>  -1624.</td>\n",
       "</tr>\n",
       "<tr>\n",
       "  <th>Df Residuals:</th>          <td>   233</td>      <th>  BIC:               </th> <td>  -1613.</td>\n",
       "</tr>\n",
       "<tr>\n",
       "  <th>Df Model:</th>              <td>     2</td>      <th>                     </th>     <td> </td>   \n",
       "</tr>\n",
       "<tr>\n",
       "  <th>Covariance Type:</th>      <td>nonrobust</td>    <th>                     </th>     <td> </td>   \n",
       "</tr>\n",
       "</table>\n",
       "<table class=\"simpletable\">\n",
       "<tr>\n",
       "         <td></td>            <th>coef</th>     <th>std err</th>      <th>t</th>      <th>P>|t|</th> <th>[95.0% Conf. Int.]</th> \n",
       "</tr>\n",
       "<tr>\n",
       "  <th>Intercept</th>       <td>   -0.0244</td> <td>    0.003</td> <td>   -7.532</td> <td> 0.000</td> <td>   -0.031    -0.018</td>\n",
       "</tr>\n",
       "<tr>\n",
       "  <th>cylinders</th>       <td>    0.0037</td> <td>    0.001</td> <td>    6.638</td> <td> 0.000</td> <td>    0.003     0.005</td>\n",
       "</tr>\n",
       "<tr>\n",
       "  <th>horsepower_sqrt</th> <td>    0.0052</td> <td>    0.001</td> <td>    9.704</td> <td> 0.000</td> <td>    0.004     0.006</td>\n",
       "</tr>\n",
       "</table>\n",
       "<table class=\"simpletable\">\n",
       "<tr>\n",
       "  <th>Omnibus:</th>       <td>17.207</td> <th>  Durbin-Watson:     </th> <td>   1.901</td>\n",
       "</tr>\n",
       "<tr>\n",
       "  <th>Prob(Omnibus):</th> <td> 0.000</td> <th>  Jarque-Bera (JB):  </th> <td>  28.038</td>\n",
       "</tr>\n",
       "<tr>\n",
       "  <th>Skew:</th>          <td> 0.434</td> <th>  Prob(JB):          </th> <td>8.16e-07</td>\n",
       "</tr>\n",
       "<tr>\n",
       "  <th>Kurtosis:</th>      <td> 4.449</td> <th>  Cond. No.          </th> <td>    76.7</td>\n",
       "</tr>\n",
       "</table>"
      ],
      "text/plain": [
       "<class 'statsmodels.iolib.summary.Summary'>\n",
       "\"\"\"\n",
       "                            OLS Regression Results                            \n",
       "==============================================================================\n",
       "Dep. Variable:                    gpm   R-squared:                       0.793\n",
       "Model:                            OLS   Adj. R-squared:                  0.791\n",
       "Method:                 Least Squares   F-statistic:                     445.4\n",
       "Date:                                   Prob (F-statistic):           2.47e-80\n",
       "Time:                                   Log-Likelihood:                 814.89\n",
       "No. Observations:                 236   AIC:                            -1624.\n",
       "Df Residuals:                     233   BIC:                            -1613.\n",
       "Df Model:                           2                                         \n",
       "Covariance Type:            nonrobust                                         \n",
       "===================================================================================\n",
       "                      coef    std err          t      P>|t|      [95.0% Conf. Int.]\n",
       "-----------------------------------------------------------------------------------\n",
       "Intercept          -0.0244      0.003     -7.532      0.000        -0.031    -0.018\n",
       "cylinders           0.0037      0.001      6.638      0.000         0.003     0.005\n",
       "horsepower_sqrt     0.0052      0.001      9.704      0.000         0.004     0.006\n",
       "==============================================================================\n",
       "Omnibus:                       17.207   Durbin-Watson:                   1.901\n",
       "Prob(Omnibus):                  0.000   Jarque-Bera (JB):               28.038\n",
       "Skew:                           0.434   Prob(JB):                     8.16e-07\n",
       "Kurtosis:                       4.449   Cond. No.                         76.7\n",
       "==============================================================================\n",
       "\n",
       "Warnings:\n",
       "[1] Standard Errors assume that the covariance matrix of the errors is correctly specified.\n",
       "\"\"\""
      ]
     },
     "execution_count": 21,
     "metadata": {},
     "output_type": "execute_result"
    }
   ],
   "source": [
    "smf.ols(formula = 'gpm ~ cylinders + horsepower_sqrt', data = df).fit().summary()"
   ]
  },
  {
   "cell_type": "markdown",
   "metadata": {},
   "source": [
    "## `scikit-learn`"
   ]
  },
  {
   "cell_type": "code",
   "execution_count": 22,
   "metadata": {
    "collapsed": false
   },
   "outputs": [],
   "source": [
    "df = pd.read_csv(os.path.join('..', 'datasets', 'auto-mpg.csv'))"
   ]
  },
  {
   "cell_type": "code",
   "execution_count": 23,
   "metadata": {
    "collapsed": true
   },
   "outputs": [],
   "source": [
    "df['gpm'] = 1. / df.mpg\n",
    "df['horsepower_sqrt'] = np.sqrt(df.horsepower)"
   ]
  },
  {
   "cell_type": "code",
   "execution_count": 24,
   "metadata": {
    "collapsed": false
   },
   "outputs": [
    {
     "data": {
      "text/plain": [
       "398"
      ]
     },
     "execution_count": 24,
     "metadata": {},
     "output_type": "execute_result"
    }
   ],
   "source": [
    "len(df)"
   ]
  },
  {
   "cell_type": "code",
   "execution_count": 25,
   "metadata": {
    "collapsed": false
   },
   "outputs": [],
   "source": [
    "df = df.dropna(axis = 0, subset = ['gpm', 'cylinders', 'horsepower_sqrt', 'weight'])"
   ]
  },
  {
   "cell_type": "code",
   "execution_count": 26,
   "metadata": {
    "collapsed": false
   },
   "outputs": [
    {
     "data": {
      "text/plain": [
       "392"
      ]
     },
     "execution_count": 26,
     "metadata": {},
     "output_type": "execute_result"
    }
   ],
   "source": [
    "len(df)"
   ]
  },
  {
   "cell_type": "code",
   "execution_count": 27,
   "metadata": {
    "collapsed": true
   },
   "outputs": [],
   "source": [
    "train_df = df.sample(frac = .6, random_state = 1)\n",
    "test_df = df.drop(train_df.index)"
   ]
  },
  {
   "cell_type": "markdown",
   "metadata": {},
   "source": [
    "## `cylinders`, `horsepower_sqrt`, and `weight`"
   ]
  },
  {
   "cell_type": "code",
   "execution_count": 28,
   "metadata": {
    "collapsed": false
   },
   "outputs": [
    {
     "data": {
      "text/plain": [
       "0.78773531639106564"
      ]
     },
     "execution_count": 28,
     "metadata": {},
     "output_type": "execute_result"
    }
   ],
   "source": [
    "train_X = train_df[ ['cylinders', 'horsepower_sqrt', 'weight'] ]\n",
    "train_y = train_df.gpm\n",
    "\n",
    "model = linear_model.LinearRegression()\n",
    "cross_validation.cross_val_score(model, train_X, train_y, cv = 10).mean()"
   ]
  },
  {
   "cell_type": "markdown",
   "metadata": {},
   "source": [
    "## `horsepower_sqrt` and `weight`"
   ]
  },
  {
   "cell_type": "code",
   "execution_count": 29,
   "metadata": {
    "collapsed": false
   },
   "outputs": [
    {
     "data": {
      "text/plain": [
       "0.78921906858910851"
      ]
     },
     "execution_count": 29,
     "metadata": {},
     "output_type": "execute_result"
    }
   ],
   "source": [
    "train_X = train_df[ ['horsepower_sqrt', 'weight'] ]\n",
    "train_y = train_df.gpm\n",
    "\n",
    "model = linear_model.LinearRegression()\n",
    "cross_validation.cross_val_score(model, train_X, train_y, cv = 10).mean()"
   ]
  },
  {
   "cell_type": "markdown",
   "metadata": {},
   "source": [
    "## `cylinders` and `weight`"
   ]
  },
  {
   "cell_type": "code",
   "execution_count": 30,
   "metadata": {
    "collapsed": false
   },
   "outputs": [
    {
     "data": {
      "text/plain": [
       "0.7496867266311803"
      ]
     },
     "execution_count": 30,
     "metadata": {},
     "output_type": "execute_result"
    }
   ],
   "source": [
    "train_X = train_df[ ['cylinders', 'weight'] ]\n",
    "train_y = train_df.gpm\n",
    "\n",
    "model = linear_model.LinearRegression()\n",
    "cross_validation.cross_val_score(model, train_X, train_y, cv = 10).mean()"
   ]
  },
  {
   "cell_type": "markdown",
   "metadata": {},
   "source": [
    "## `cylinders` and `horsepower_sqrt`"
   ]
  },
  {
   "cell_type": "code",
   "execution_count": 31,
   "metadata": {
    "collapsed": false
   },
   "outputs": [
    {
     "data": {
      "text/plain": [
       "0.75607824485117603"
      ]
     },
     "execution_count": 31,
     "metadata": {},
     "output_type": "execute_result"
    }
   ],
   "source": [
    "train_X = train_df[ ['cylinders', 'horsepower_sqrt'] ]\n",
    "train_y = train_df.gpm\n",
    "\n",
    "model = linear_model.LinearRegression()\n",
    "cross_validation.cross_val_score(model, train_X, train_y, cv = 10).mean()"
   ]
  },
  {
   "cell_type": "markdown",
   "metadata": {},
   "source": [
    "## `horsepower_sqrt`, `weight`, and interaction (`horsepower_sqrt * weight`)"
   ]
  },
  {
   "cell_type": "code",
   "execution_count": 32,
   "metadata": {
    "collapsed": false
   },
   "outputs": [],
   "source": [
    "train_df['horsepower_sqrt * weight'] = train_df.horsepower_sqrt * train_df.weight"
   ]
  },
  {
   "cell_type": "code",
   "execution_count": 33,
   "metadata": {
    "collapsed": false
   },
   "outputs": [
    {
     "data": {
      "text/plain": [
       "0.78884296946344445"
      ]
     },
     "execution_count": 33,
     "metadata": {},
     "output_type": "execute_result"
    }
   ],
   "source": [
    "train_X = train_df[ ['horsepower_sqrt', 'weight', 'horsepower_sqrt * weight'] ]\n",
    "train_y = train_df.gpm\n",
    "\n",
    "model = linear_model.LinearRegression()\n",
    "cross_validation.cross_val_score(model, train_X, train_y, cv = 10).mean()"
   ]
  },
  {
   "cell_type": "markdown",
   "metadata": {},
   "source": [
    "## `horsepower_sqrt` and `weight`"
   ]
  },
  {
   "cell_type": "code",
   "execution_count": 34,
   "metadata": {
    "collapsed": true
   },
   "outputs": [],
   "source": [
    "def linear_modeling_with_sklearn(X, y):\n",
    "    model = linear_model.LinearRegression()\n",
    "    model.fit(X, y)\n",
    "\n",
    "    print 'R^2 =', model.score(X, y)\n",
    "    print 'Coefficients'\n",
    "    print '- beta_0 (intercept) =', model.intercept_\n",
    "    print '- beta_n (n > 0)     =', model.coef_\n",
    "\n",
    "    return model"
   ]
  },
  {
   "cell_type": "code",
   "execution_count": 35,
   "metadata": {
    "collapsed": false
   },
   "outputs": [
    {
     "name": "stdout",
     "output_type": "stream",
     "text": [
      "R^2 = 0.811803192251\n",
      "Coefficients\n",
      "- beta_0 (intercept) = -0.0225255971551\n",
      "- beta_n (n > 0)     = [  4.05837499e-03   9.88544479e-06]\n"
     ]
    }
   ],
   "source": [
    "train_X = train_df[ ['horsepower_sqrt', 'weight'] ]\n",
    "train_y = train_df.gpm\n",
    "\n",
    "model = linear_modeling_with_sklearn(train_X, train_y)"
   ]
  },
  {
   "cell_type": "code",
   "execution_count": 36,
   "metadata": {
    "collapsed": false
   },
   "outputs": [
    {
     "data": {
      "text/plain": [
       "0.81302558221221155"
      ]
     },
     "execution_count": 36,
     "metadata": {},
     "output_type": "execute_result"
    }
   ],
   "source": [
    "test_X = test_df[ ['horsepower_sqrt', 'weight'] ]\n",
    "test_y = test_df.gpm\n",
    "\n",
    "model.score(test_X, test_y)"
   ]
  },
  {
   "cell_type": "code",
   "execution_count": 37,
   "metadata": {
    "collapsed": false
   },
   "outputs": [
    {
     "name": "stdout",
     "output_type": "stream",
     "text": [
      "R^2 = 0.813851551351\n",
      "Coefficients\n",
      "- beta_0 (intercept) = -0.0192272729081\n",
      "- beta_n (n > 0)     = [  3.37066236e-03   1.11256489e-05]\n"
     ]
    }
   ],
   "source": [
    "X = df[ ['horsepower_sqrt', 'weight'] ]\n",
    "y = df.gpm\n",
    "\n",
    "model = linear_modeling_with_sklearn(X, y)"
   ]
  }
 ],
 "metadata": {
  "kernelspec": {
   "display_name": "Python 2",
   "language": "python",
   "name": "python2"
  },
  "language_info": {
   "codemirror_mode": {
    "name": "ipython",
    "version": 2
   },
   "file_extension": ".py",
   "mimetype": "text/x-python",
   "name": "python",
   "nbconvert_exporter": "python",
   "pygments_lexer": "ipython2",
   "version": "2.7.11"
  }
 },
 "nbformat": 4,
 "nbformat_minor": 0
}
