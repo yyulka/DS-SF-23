{
 "cells": [
  {
   "cell_type": "markdown",
   "metadata": {},
   "source": [
    "# DS-SF-23 | Lab 12 | Decision Trees and Random Forests | Answer Key"
   ]
  },
  {
   "cell_type": "code",
   "execution_count": 1,
   "metadata": {
    "collapsed": true
   },
   "outputs": [],
   "source": [
    "import os\n",
    "import numpy as np\n",
    "import pandas as pd\n",
    "import matplotlib.pyplot as plt\n",
    "from sklearn import tree, ensemble, metrics, cross_validation, externals\n",
    "\n",
    "pd.set_option('display.max_rows', 10)\n",
    "pd.set_option('display.notebook_repr_html', True)\n",
    "pd.set_option('display.max_columns', 10)\n",
    "\n",
    "%matplotlib inline\n",
    "plt.style.use('ggplot')"
   ]
  },
  {
   "cell_type": "markdown",
   "metadata": {},
   "source": [
    "Today we are revisiting the `boston` dataset from session 8."
   ]
  },
  {
   "cell_type": "markdown",
   "metadata": {},
   "source": [
    "## Dataset documentation"
   ]
  },
  {
   "cell_type": "markdown",
   "metadata": {},
   "source": [
    "The Boston dataset concerns itself with housing values in suburbs of Boston.  A description of the dataset is as follows:\n",
    "\n",
    "- CRIM: per capita crime rate by town\n",
    "- ZN: proportion of residential land zoned for lots over 25,000 sqft\n",
    "- INDUS: proportion of non-retail business acres per town\n",
    "- CHAS: Charles River dummy variable (= 1 if tract bounds river; 0 otherwise)\n",
    "- NOX: nitric oxides concentration (parts per 10 million)\n",
    "- RM: average number of rooms per dwelling\n",
    "- AGE: proportion of owner-occupied units built prior to 1940\n",
    "- DIS: weighted distances to five Boston employment centers\n",
    "- RAD: index of accessibility to radial highways\n",
    "- TAX: full-value property-tax rate (per ten thousands of dollars)\n",
    "- PTRATIO: pupil-teacher ratio by town\n",
    "- B: 1000(Bk - 0.63)^2 where Bk is the proportion of blacks by town\n",
    "- LSTAT: % lower status of the population\n",
    "- MEDV: Median value of owner-occupied homes (in thousands of dollars)"
   ]
  },
  {
   "cell_type": "markdown",
   "metadata": {},
   "source": [
    "## Optional: Installing Graphviz"
   ]
  },
  {
   "cell_type": "markdown",
   "metadata": {},
   "source": [
    "- Mac\n",
    "  - Type `conda install graphviz` at the command line\n",
    "- Windows\n",
    "  - Download and install the MSI file: http://www.graphviz.org/Download_windows.php\n",
    "  - Add it to your Path: Go to Control Panel, System, Advanced System Settings, Environment Variables.  Under system variables,edit \"Path\" to include the path to the \"bin\" folder, such as: C:\\Program Files (x86)\\Graphviz2.38\\bin"
   ]
  },
  {
   "cell_type": "code",
   "execution_count": 2,
   "metadata": {
    "collapsed": false
   },
   "outputs": [],
   "source": [
    "%load_ext gvmagic"
   ]
  },
  {
   "cell_type": "code",
   "execution_count": 3,
   "metadata": {
    "collapsed": true
   },
   "outputs": [],
   "source": [
    "df = pd.read_csv(os.path.join('..', 'datasets', 'boston.csv'))"
   ]
  },
  {
   "cell_type": "code",
   "execution_count": 4,
   "metadata": {
    "collapsed": false
   },
   "outputs": [
    {
     "data": {
      "text/html": [
       "<div>\n",
       "<table border=\"1\" class=\"dataframe\">\n",
       "  <thead>\n",
       "    <tr style=\"text-align: right;\">\n",
       "      <th></th>\n",
       "      <th>CRIM</th>\n",
       "      <th>ZN</th>\n",
       "      <th>INDUS</th>\n",
       "      <th>CHAS</th>\n",
       "      <th>NOX</th>\n",
       "      <th>...</th>\n",
       "      <th>TAX</th>\n",
       "      <th>PTRATIO</th>\n",
       "      <th>BLACK</th>\n",
       "      <th>LSTAT</th>\n",
       "      <th>MEDV</th>\n",
       "    </tr>\n",
       "  </thead>\n",
       "  <tbody>\n",
       "    <tr>\n",
       "      <th>0</th>\n",
       "      <td>0.00632</td>\n",
       "      <td>18.0</td>\n",
       "      <td>2.31</td>\n",
       "      <td>0</td>\n",
       "      <td>0.538</td>\n",
       "      <td>...</td>\n",
       "      <td>296</td>\n",
       "      <td>15.3</td>\n",
       "      <td>396.90</td>\n",
       "      <td>4.98</td>\n",
       "      <td>24.0</td>\n",
       "    </tr>\n",
       "    <tr>\n",
       "      <th>1</th>\n",
       "      <td>0.02731</td>\n",
       "      <td>0.0</td>\n",
       "      <td>7.07</td>\n",
       "      <td>0</td>\n",
       "      <td>0.469</td>\n",
       "      <td>...</td>\n",
       "      <td>242</td>\n",
       "      <td>17.8</td>\n",
       "      <td>396.90</td>\n",
       "      <td>9.14</td>\n",
       "      <td>21.6</td>\n",
       "    </tr>\n",
       "    <tr>\n",
       "      <th>2</th>\n",
       "      <td>0.02729</td>\n",
       "      <td>0.0</td>\n",
       "      <td>7.07</td>\n",
       "      <td>0</td>\n",
       "      <td>0.469</td>\n",
       "      <td>...</td>\n",
       "      <td>242</td>\n",
       "      <td>17.8</td>\n",
       "      <td>392.83</td>\n",
       "      <td>4.03</td>\n",
       "      <td>34.7</td>\n",
       "    </tr>\n",
       "    <tr>\n",
       "      <th>3</th>\n",
       "      <td>0.03237</td>\n",
       "      <td>0.0</td>\n",
       "      <td>2.18</td>\n",
       "      <td>0</td>\n",
       "      <td>0.458</td>\n",
       "      <td>...</td>\n",
       "      <td>222</td>\n",
       "      <td>18.7</td>\n",
       "      <td>394.63</td>\n",
       "      <td>2.94</td>\n",
       "      <td>33.4</td>\n",
       "    </tr>\n",
       "    <tr>\n",
       "      <th>4</th>\n",
       "      <td>0.06905</td>\n",
       "      <td>0.0</td>\n",
       "      <td>2.18</td>\n",
       "      <td>0</td>\n",
       "      <td>0.458</td>\n",
       "      <td>...</td>\n",
       "      <td>222</td>\n",
       "      <td>18.7</td>\n",
       "      <td>396.90</td>\n",
       "      <td>5.33</td>\n",
       "      <td>36.2</td>\n",
       "    </tr>\n",
       "  </tbody>\n",
       "</table>\n",
       "<p>5 rows × 14 columns</p>\n",
       "</div>"
      ],
      "text/plain": [
       "      CRIM    ZN  INDUS  CHAS    NOX  ...   TAX  PTRATIO   BLACK  LSTAT  MEDV\n",
       "0  0.00632  18.0   2.31     0  0.538  ...   296     15.3  396.90   4.98  24.0\n",
       "1  0.02731   0.0   7.07     0  0.469  ...   242     17.8  396.90   9.14  21.6\n",
       "2  0.02729   0.0   7.07     0  0.469  ...   242     17.8  392.83   4.03  34.7\n",
       "3  0.03237   0.0   2.18     0  0.458  ...   222     18.7  394.63   2.94  33.4\n",
       "4  0.06905   0.0   2.18     0  0.458  ...   222     18.7  396.90   5.33  36.2\n",
       "\n",
       "[5 rows x 14 columns]"
      ]
     },
     "execution_count": 4,
     "metadata": {},
     "output_type": "execute_result"
    }
   ],
   "source": [
    "df.head()"
   ]
  },
  {
   "cell_type": "code",
   "execution_count": 5,
   "metadata": {
    "collapsed": false
   },
   "outputs": [
    {
     "data": {
      "text/plain": [
       "Index([u'CRIM', u'ZN', u'INDUS', u'CHAS', u'NOX', u'RM', u'AGE', u'DIS',\n",
       "       u'RAD', u'TAX', u'PTRATIO', u'BLACK', u'LSTAT', u'MEDV'],\n",
       "      dtype='object')"
      ]
     },
     "execution_count": 5,
     "metadata": {},
     "output_type": "execute_result"
    }
   ],
   "source": [
    "df.columns"
   ]
  },
  {
   "cell_type": "markdown",
   "metadata": {},
   "source": [
    "## Part A - Regression Decision Trees"
   ]
  },
  {
   "cell_type": "markdown",
   "metadata": {},
   "source": [
    "> ### Question 1.  Create a feature matrix `X` with all features but `MEDV`.  Also create a response vector `y` with `MEDV`"
   ]
  },
  {
   "cell_type": "code",
   "execution_count": 6,
   "metadata": {
    "collapsed": true
   },
   "outputs": [],
   "source": [
    "X = df[df.columns.values]\n",
    "X.drop('MEDV', axis = 1, inplace = True)\n",
    "\n",
    "y = df.MEDV"
   ]
  },
  {
   "cell_type": "markdown",
   "metadata": {},
   "source": [
    "> ### Question 2.  Split the dataset into a training and testing sets (60%, 40%)"
   ]
  },
  {
   "cell_type": "code",
   "execution_count": 7,
   "metadata": {
    "collapsed": true
   },
   "outputs": [],
   "source": [
    "train_X, test_X, train_y, test_y = cross_validation.train_test_split(X, y, test_size = 0.4)"
   ]
  },
  {
   "cell_type": "markdown",
   "metadata": {},
   "source": [
    "> ### Question 3.  Create a decision tree (`tree.DecisionTreeRegressor`) and train the model"
   ]
  },
  {
   "cell_type": "markdown",
   "metadata": {},
   "source": [
    "(Check http://scikit-learn.org/stable/modules/generated/sklearn.tree.DecisionTreeRegressor.html as needed)"
   ]
  },
  {
   "cell_type": "code",
   "execution_count": 8,
   "metadata": {
    "collapsed": false
   },
   "outputs": [
    {
     "data": {
      "text/plain": [
       "DecisionTreeRegressor(criterion='mse', max_depth=None, max_features=None,\n",
       "           max_leaf_nodes=None, min_samples_leaf=1, min_samples_split=2,\n",
       "           min_weight_fraction_leaf=0.0, random_state=None,\n",
       "           splitter='best')"
      ]
     },
     "execution_count": 8,
     "metadata": {},
     "output_type": "execute_result"
    }
   ],
   "source": [
    "model = tree.DecisionTreeRegressor()\n",
    "\n",
    "model.fit(train_X, train_y)"
   ]
  },
  {
   "cell_type": "markdown",
   "metadata": {},
   "source": [
    "> ### Question 4.  What are the training and testing errors?"
   ]
  },
  {
   "cell_type": "markdown",
   "metadata": {},
   "source": [
    "(Check http://scikit-learn.org/stable/modules/generated/sklearn.metrics.mean_squared_error.html as needed)"
   ]
  },
  {
   "cell_type": "code",
   "execution_count": 9,
   "metadata": {
    "collapsed": false
   },
   "outputs": [
    {
     "name": "stdout",
     "output_type": "stream",
     "text": [
      "0.0\n",
      "4.34827410414\n"
     ]
    }
   ],
   "source": [
    "train_y_hat = model.predict(train_X)\n",
    "print np.sqrt(metrics.mean_squared_error(train_y, train_y_hat))\n",
    "\n",
    "test_y_hat = model.predict(test_X)\n",
    "print np.sqrt(metrics.mean_squared_error(test_y, test_y_hat))"
   ]
  },
  {
   "cell_type": "markdown",
   "metadata": {},
   "source": [
    "Answer: .0 (training) and 5.48 (testing)"
   ]
  },
  {
   "cell_type": "markdown",
   "metadata": {},
   "source": [
    "> ### Question 5.  Retrain your model limiting the depth of the tree to 4"
   ]
  },
  {
   "cell_type": "code",
   "execution_count": 10,
   "metadata": {
    "collapsed": false
   },
   "outputs": [
    {
     "data": {
      "text/plain": [
       "DecisionTreeRegressor(criterion='mse', max_depth=4, max_features=None,\n",
       "           max_leaf_nodes=None, min_samples_leaf=1, min_samples_split=2,\n",
       "           min_weight_fraction_leaf=0.0, random_state=None,\n",
       "           splitter='best')"
      ]
     },
     "execution_count": 10,
     "metadata": {},
     "output_type": "execute_result"
    }
   ],
   "source": [
    "model = tree.DecisionTreeRegressor(max_depth = 4)\n",
    "\n",
    "model.fit(train_X, train_y)"
   ]
  },
  {
   "cell_type": "markdown",
   "metadata": {},
   "source": [
    "> ### Question 6.  Display graphically your model"
   ]
  },
  {
   "cell_type": "code",
   "execution_count": 11,
   "metadata": {
    "collapsed": false
   },
   "outputs": [
    {
     "data": {
      "image/svg+xml": [
       "<?xml version=\"1.0\" encoding=\"UTF-8\" standalone=\"no\"?>\r\n",
       "<!DOCTYPE svg PUBLIC \"-//W3C//DTD SVG 1.1//EN\"\r\n",
       " \"http://www.w3.org/Graphics/SVG/1.1/DTD/svg11.dtd\">\r\n",
       "<!-- Generated by graphviz version 2.38.0 (20140413.2041)\r\n",
       " -->\r\n",
       "<!-- Title: Tree Pages: 1 -->\r\n",
       "<svg width=\"1683pt\" height=\"417pt\"\r\n",
       " viewBox=\"0.00 0.00 1683.00 417.00\" xmlns=\"http://www.w3.org/2000/svg\" xmlns:xlink=\"http://www.w3.org/1999/xlink\">\r\n",
       "<g id=\"graph0\" class=\"graph\" transform=\"scale(1 1) rotate(0) translate(4 413)\">\r\n",
       "<title>Tree</title>\r\n",
       "<polygon fill=\"white\" stroke=\"none\" points=\"-4,4 -4,-413 1679,-413 1679,4 -4,4\"/>\r\n",
       "<!-- 0 -->\r\n",
       "<g id=\"node1\" class=\"node\"><title>0</title>\r\n",
       "<polygon fill=\"none\" stroke=\"black\" points=\"968.5,-409 828.5,-409 828.5,-356 968.5,-356 968.5,-409\"/>\r\n",
       "<text text-anchor=\"middle\" x=\"898.5\" y=\"-393.8\" font-family=\"Times New Roman,serif\" font-size=\"14.00\">RM &lt;= 6.6665</text>\r\n",
       "<text text-anchor=\"middle\" x=\"898.5\" y=\"-378.8\" font-family=\"Times New Roman,serif\" font-size=\"14.00\">mse = 84.3395969894</text>\r\n",
       "<text text-anchor=\"middle\" x=\"898.5\" y=\"-363.8\" font-family=\"Times New Roman,serif\" font-size=\"14.00\">samples = 303</text>\r\n",
       "</g>\r\n",
       "<!-- 1 -->\r\n",
       "<g id=\"node2\" class=\"node\"><title>1</title>\r\n",
       "<polygon fill=\"none\" stroke=\"black\" points=\"707.5,-320 567.5,-320 567.5,-267 707.5,-267 707.5,-320\"/>\r\n",
       "<text text-anchor=\"middle\" x=\"637.5\" y=\"-304.8\" font-family=\"Times New Roman,serif\" font-size=\"14.00\">LSTAT &lt;= 14.9150</text>\r\n",
       "<text text-anchor=\"middle\" x=\"637.5\" y=\"-289.8\" font-family=\"Times New Roman,serif\" font-size=\"14.00\">mse = 32.3929433033</text>\r\n",
       "<text text-anchor=\"middle\" x=\"637.5\" y=\"-274.8\" font-family=\"Times New Roman,serif\" font-size=\"14.00\">samples = 241</text>\r\n",
       "</g>\r\n",
       "<!-- 0&#45;&gt;1 -->\r\n",
       "<g id=\"edge1\" class=\"edge\"><title>0&#45;&gt;1</title>\r\n",
       "<path fill=\"none\" stroke=\"black\" d=\"M828.213,-358.071C794.125,-346.708 753.016,-333.005 717.707,-321.236\"/>\r\n",
       "<polygon fill=\"black\" stroke=\"black\" points=\"718.506,-317.813 707.912,-317.971 716.292,-324.453 718.506,-317.813\"/>\r\n",
       "</g>\r\n",
       "<!-- 14 -->\r\n",
       "<g id=\"node15\" class=\"node\"><title>14</title>\r\n",
       "<polygon fill=\"none\" stroke=\"black\" points=\"1240.5,-320 1100.5,-320 1100.5,-267 1240.5,-267 1240.5,-320\"/>\r\n",
       "<text text-anchor=\"middle\" x=\"1170.5\" y=\"-304.8\" font-family=\"Times New Roman,serif\" font-size=\"14.00\">RM &lt;= 7.4450</text>\r\n",
       "<text text-anchor=\"middle\" x=\"1170.5\" y=\"-289.8\" font-family=\"Times New Roman,serif\" font-size=\"14.00\">mse = 84.0795733611</text>\r\n",
       "<text text-anchor=\"middle\" x=\"1170.5\" y=\"-274.8\" font-family=\"Times New Roman,serif\" font-size=\"14.00\">samples = 62</text>\r\n",
       "</g>\r\n",
       "<!-- 0&#45;&gt;14 -->\r\n",
       "<g id=\"edge14\" class=\"edge\"><title>0&#45;&gt;14</title>\r\n",
       "<path fill=\"none\" stroke=\"black\" d=\"M968.547,-359.095C1005.84,-347.167 1051.86,-332.447 1090.55,-320.072\"/>\r\n",
       "<polygon fill=\"black\" stroke=\"black\" points=\"1091.76,-323.36 1100.22,-316.98 1089.63,-316.693 1091.76,-323.36\"/>\r\n",
       "</g>\r\n",
       "<!-- 2 -->\r\n",
       "<g id=\"node3\" class=\"node\"><title>2</title>\r\n",
       "<polygon fill=\"none\" stroke=\"black\" points=\"302.5,-231 162.5,-231 162.5,-178 302.5,-178 302.5,-231\"/>\r\n",
       "<text text-anchor=\"middle\" x=\"232.5\" y=\"-215.8\" font-family=\"Times New Roman,serif\" font-size=\"14.00\">DIS &lt;= 1.3728</text>\r\n",
       "<text text-anchor=\"middle\" x=\"232.5\" y=\"-200.8\" font-family=\"Times New Roman,serif\" font-size=\"14.00\">mse = 20.8009528889</text>\r\n",
       "<text text-anchor=\"middle\" x=\"232.5\" y=\"-185.8\" font-family=\"Times New Roman,serif\" font-size=\"14.00\">samples = 150</text>\r\n",
       "</g>\r\n",
       "<!-- 1&#45;&gt;2 -->\r\n",
       "<g id=\"edge2\" class=\"edge\"><title>1&#45;&gt;2</title>\r\n",
       "<path fill=\"none\" stroke=\"black\" d=\"M567.417,-277.445C496.457,-262.202 386.867,-238.66 312.535,-222.693\"/>\r\n",
       "<polygon fill=\"black\" stroke=\"black\" points=\"313.255,-219.268 302.743,-220.589 311.784,-226.111 313.255,-219.268\"/>\r\n",
       "</g>\r\n",
       "<!-- 7 -->\r\n",
       "<g id=\"node8\" class=\"node\"><title>7</title>\r\n",
       "<polygon fill=\"none\" stroke=\"black\" points=\"707.5,-231 567.5,-231 567.5,-178 707.5,-178 707.5,-231\"/>\r\n",
       "<text text-anchor=\"middle\" x=\"637.5\" y=\"-215.8\" font-family=\"Times New Roman,serif\" font-size=\"14.00\">LSTAT &lt;= 20.2000</text>\r\n",
       "<text text-anchor=\"middle\" x=\"637.5\" y=\"-200.8\" font-family=\"Times New Roman,serif\" font-size=\"14.00\">mse = 15.0989155899</text>\r\n",
       "<text text-anchor=\"middle\" x=\"637.5\" y=\"-185.8\" font-family=\"Times New Roman,serif\" font-size=\"14.00\">samples = 91</text>\r\n",
       "</g>\r\n",
       "<!-- 1&#45;&gt;7 -->\r\n",
       "<g id=\"edge7\" class=\"edge\"><title>1&#45;&gt;7</title>\r\n",
       "<path fill=\"none\" stroke=\"black\" d=\"M637.5,-266.868C637.5,-258.886 637.5,-249.932 637.5,-241.384\"/>\r\n",
       "<polygon fill=\"black\" stroke=\"black\" points=\"641,-241.25 637.5,-231.25 634,-241.25 641,-241.25\"/>\r\n",
       "</g>\r\n",
       "<!-- 3 -->\r\n",
       "<g id=\"node4\" class=\"node\"><title>3</title>\r\n",
       "<polygon fill=\"none\" stroke=\"black\" points=\"144.5,-142 52.5,-142 52.5,-89 144.5,-89 144.5,-142\"/>\r\n",
       "<text text-anchor=\"middle\" x=\"98.5\" y=\"-126.8\" font-family=\"Times New Roman,serif\" font-size=\"14.00\">mse = 0.0000</text>\r\n",
       "<text text-anchor=\"middle\" x=\"98.5\" y=\"-111.8\" font-family=\"Times New Roman,serif\" font-size=\"14.00\">samples = 2</text>\r\n",
       "<text text-anchor=\"middle\" x=\"98.5\" y=\"-96.8\" font-family=\"Times New Roman,serif\" font-size=\"14.00\">value = [ 50.]</text>\r\n",
       "</g>\r\n",
       "<!-- 2&#45;&gt;3 -->\r\n",
       "<g id=\"edge3\" class=\"edge\"><title>2&#45;&gt;3</title>\r\n",
       "<path fill=\"none\" stroke=\"black\" d=\"M193.02,-177.868C178.565,-168.482 162.04,-157.754 146.893,-147.92\"/>\r\n",
       "<polygon fill=\"black\" stroke=\"black\" points=\"148.454,-144.76 138.161,-142.25 144.642,-150.631 148.454,-144.76\"/>\r\n",
       "</g>\r\n",
       "<!-- 4 -->\r\n",
       "<g id=\"node5\" class=\"node\"><title>4</title>\r\n",
       "<polygon fill=\"none\" stroke=\"black\" points=\"302.5,-142 162.5,-142 162.5,-89 302.5,-89 302.5,-142\"/>\r\n",
       "<text text-anchor=\"middle\" x=\"232.5\" y=\"-126.8\" font-family=\"Times New Roman,serif\" font-size=\"14.00\">RM &lt;= 6.1405</text>\r\n",
       "<text text-anchor=\"middle\" x=\"232.5\" y=\"-111.8\" font-family=\"Times New Roman,serif\" font-size=\"14.00\">mse = 10.4890065741</text>\r\n",
       "<text text-anchor=\"middle\" x=\"232.5\" y=\"-96.8\" font-family=\"Times New Roman,serif\" font-size=\"14.00\">samples = 148</text>\r\n",
       "</g>\r\n",
       "<!-- 2&#45;&gt;4 -->\r\n",
       "<g id=\"edge4\" class=\"edge\"><title>2&#45;&gt;4</title>\r\n",
       "<path fill=\"none\" stroke=\"black\" d=\"M232.5,-177.868C232.5,-169.886 232.5,-160.932 232.5,-152.384\"/>\r\n",
       "<polygon fill=\"black\" stroke=\"black\" points=\"236,-152.25 232.5,-142.25 229,-152.25 236,-152.25\"/>\r\n",
       "</g>\r\n",
       "<!-- 5 -->\r\n",
       "<g id=\"node6\" class=\"node\"><title>5</title>\r\n",
       "<polygon fill=\"none\" stroke=\"black\" points=\"145,-53 0,-53 0,-0 145,-0 145,-53\"/>\r\n",
       "<text text-anchor=\"middle\" x=\"72.5\" y=\"-37.8\" font-family=\"Times New Roman,serif\" font-size=\"14.00\">mse = 5.5139</text>\r\n",
       "<text text-anchor=\"middle\" x=\"72.5\" y=\"-22.8\" font-family=\"Times New Roman,serif\" font-size=\"14.00\">samples = 79</text>\r\n",
       "<text text-anchor=\"middle\" x=\"72.5\" y=\"-7.8\" font-family=\"Times New Roman,serif\" font-size=\"14.00\">value = [ 20.34556962]</text>\r\n",
       "</g>\r\n",
       "<!-- 4&#45;&gt;5 -->\r\n",
       "<g id=\"edge5\" class=\"edge\"><title>4&#45;&gt;5</title>\r\n",
       "<path fill=\"none\" stroke=\"black\" d=\"M185.36,-88.8677C167.536,-79.176 147.078,-68.0521 128.518,-57.9599\"/>\r\n",
       "<polygon fill=\"black\" stroke=\"black\" points=\"130.036,-54.8015 119.579,-53.0993 126.692,-60.9512 130.036,-54.8015\"/>\r\n",
       "</g>\r\n",
       "<!-- 6 -->\r\n",
       "<g id=\"node7\" class=\"node\"><title>6</title>\r\n",
       "<polygon fill=\"none\" stroke=\"black\" points=\"301.5,-53 163.5,-53 163.5,-0 301.5,-0 301.5,-53\"/>\r\n",
       "<text text-anchor=\"middle\" x=\"232.5\" y=\"-37.8\" font-family=\"Times New Roman,serif\" font-size=\"14.00\">mse = 10.8933</text>\r\n",
       "<text text-anchor=\"middle\" x=\"232.5\" y=\"-22.8\" font-family=\"Times New Roman,serif\" font-size=\"14.00\">samples = 69</text>\r\n",
       "<text text-anchor=\"middle\" x=\"232.5\" y=\"-7.8\" font-family=\"Times New Roman,serif\" font-size=\"14.00\">value = [ 23.4942029]</text>\r\n",
       "</g>\r\n",
       "<!-- 4&#45;&gt;6 -->\r\n",
       "<g id=\"edge6\" class=\"edge\"><title>4&#45;&gt;6</title>\r\n",
       "<path fill=\"none\" stroke=\"black\" d=\"M232.5,-88.8677C232.5,-80.8856 232.5,-71.9321 232.5,-63.3836\"/>\r\n",
       "<polygon fill=\"black\" stroke=\"black\" points=\"236,-63.2497 232.5,-53.2497 229,-63.2498 236,-63.2497\"/>\r\n",
       "</g>\r\n",
       "<!-- 8 -->\r\n",
       "<g id=\"node9\" class=\"node\"><title>8</title>\r\n",
       "<polygon fill=\"none\" stroke=\"black\" points=\"625.5,-142 485.5,-142 485.5,-89 625.5,-89 625.5,-142\"/>\r\n",
       "<text text-anchor=\"middle\" x=\"555.5\" y=\"-126.8\" font-family=\"Times New Roman,serif\" font-size=\"14.00\">CRIM &lt;= 0.6540</text>\r\n",
       "<text text-anchor=\"middle\" x=\"555.5\" y=\"-111.8\" font-family=\"Times New Roman,serif\" font-size=\"14.00\">mse = 8.24272694909</text>\r\n",
       "<text text-anchor=\"middle\" x=\"555.5\" y=\"-96.8\" font-family=\"Times New Roman,serif\" font-size=\"14.00\">samples = 53</text>\r\n",
       "</g>\r\n",
       "<!-- 7&#45;&gt;8 -->\r\n",
       "<g id=\"edge8\" class=\"edge\"><title>7&#45;&gt;8</title>\r\n",
       "<path fill=\"none\" stroke=\"black\" d=\"M613.341,-177.868C604.991,-169.008 595.513,-158.953 586.681,-149.582\"/>\r\n",
       "<polygon fill=\"black\" stroke=\"black\" points=\"589.176,-147.126 579.77,-142.25 584.082,-151.927 589.176,-147.126\"/>\r\n",
       "</g>\r\n",
       "<!-- 11 -->\r\n",
       "<g id=\"node12\" class=\"node\"><title>11</title>\r\n",
       "<polygon fill=\"none\" stroke=\"black\" points=\"788.5,-142 648.5,-142 648.5,-89 788.5,-89 788.5,-142\"/>\r\n",
       "<text text-anchor=\"middle\" x=\"718.5\" y=\"-126.8\" font-family=\"Times New Roman,serif\" font-size=\"14.00\">NOX &lt;= 0.6030</text>\r\n",
       "<text text-anchor=\"middle\" x=\"718.5\" y=\"-111.8\" font-family=\"Times New Roman,serif\" font-size=\"14.00\">mse = 12.6549930748</text>\r\n",
       "<text text-anchor=\"middle\" x=\"718.5\" y=\"-96.8\" font-family=\"Times New Roman,serif\" font-size=\"14.00\">samples = 38</text>\r\n",
       "</g>\r\n",
       "<!-- 7&#45;&gt;11 -->\r\n",
       "<g id=\"edge11\" class=\"edge\"><title>7&#45;&gt;11</title>\r\n",
       "<path fill=\"none\" stroke=\"black\" d=\"M661.365,-177.868C669.613,-169.008 678.975,-158.953 687.7,-149.582\"/>\r\n",
       "<polygon fill=\"black\" stroke=\"black\" points=\"690.274,-151.954 694.526,-142.25 685.15,-147.184 690.274,-151.954\"/>\r\n",
       "</g>\r\n",
       "<!-- 9 -->\r\n",
       "<g id=\"node10\" class=\"node\"><title>9</title>\r\n",
       "<polygon fill=\"none\" stroke=\"black\" points=\"465,-53 320,-53 320,-0 465,-0 465,-53\"/>\r\n",
       "<text text-anchor=\"middle\" x=\"392.5\" y=\"-37.8\" font-family=\"Times New Roman,serif\" font-size=\"14.00\">mse = 5.2128</text>\r\n",
       "<text text-anchor=\"middle\" x=\"392.5\" y=\"-22.8\" font-family=\"Times New Roman,serif\" font-size=\"14.00\">samples = 18</text>\r\n",
       "<text text-anchor=\"middle\" x=\"392.5\" y=\"-7.8\" font-family=\"Times New Roman,serif\" font-size=\"14.00\">value = [ 19.02222222]</text>\r\n",
       "</g>\r\n",
       "<!-- 8&#45;&gt;9 -->\r\n",
       "<g id=\"edge9\" class=\"edge\"><title>8&#45;&gt;9</title>\r\n",
       "<path fill=\"none\" stroke=\"black\" d=\"M507.476,-88.8677C489.236,-79.1319 468.287,-67.9509 449.311,-57.8224\"/>\r\n",
       "<polygon fill=\"black\" stroke=\"black\" points=\"450.932,-54.7203 440.462,-53.0993 447.636,-60.8958 450.932,-54.7203\"/>\r\n",
       "</g>\r\n",
       "<!-- 10 -->\r\n",
       "<g id=\"node11\" class=\"node\"><title>10</title>\r\n",
       "<polygon fill=\"none\" stroke=\"black\" points=\"628,-53 483,-53 483,-0 628,-0 628,-53\"/>\r\n",
       "<text text-anchor=\"middle\" x=\"555.5\" y=\"-37.8\" font-family=\"Times New Roman,serif\" font-size=\"14.00\">mse = 4.5991</text>\r\n",
       "<text text-anchor=\"middle\" x=\"555.5\" y=\"-22.8\" font-family=\"Times New Roman,serif\" font-size=\"14.00\">samples = 35</text>\r\n",
       "<text text-anchor=\"middle\" x=\"555.5\" y=\"-7.8\" font-family=\"Times New Roman,serif\" font-size=\"14.00\">value = [ 15.10857143]</text>\r\n",
       "</g>\r\n",
       "<!-- 8&#45;&gt;10 -->\r\n",
       "<g id=\"edge10\" class=\"edge\"><title>8&#45;&gt;10</title>\r\n",
       "<path fill=\"none\" stroke=\"black\" d=\"M555.5,-88.8677C555.5,-80.8856 555.5,-71.9321 555.5,-63.3836\"/>\r\n",
       "<polygon fill=\"black\" stroke=\"black\" points=\"559,-63.2497 555.5,-53.2497 552,-63.2498 559,-63.2497\"/>\r\n",
       "</g>\r\n",
       "<!-- 12 -->\r\n",
       "<g id=\"node13\" class=\"node\"><title>12</title>\r\n",
       "<polygon fill=\"none\" stroke=\"black\" points=\"791,-53 646,-53 646,-0 791,-0 791,-53\"/>\r\n",
       "<text text-anchor=\"middle\" x=\"718.5\" y=\"-37.8\" font-family=\"Times New Roman,serif\" font-size=\"14.00\">mse = 7.7781</text>\r\n",
       "<text text-anchor=\"middle\" x=\"718.5\" y=\"-22.8\" font-family=\"Times New Roman,serif\" font-size=\"14.00\">samples = 6</text>\r\n",
       "<text text-anchor=\"middle\" x=\"718.5\" y=\"-7.8\" font-family=\"Times New Roman,serif\" font-size=\"14.00\">value = [ 17.18333333]</text>\r\n",
       "</g>\r\n",
       "<!-- 11&#45;&gt;12 -->\r\n",
       "<g id=\"edge12\" class=\"edge\"><title>11&#45;&gt;12</title>\r\n",
       "<path fill=\"none\" stroke=\"black\" d=\"M718.5,-88.8677C718.5,-80.8856 718.5,-71.9321 718.5,-63.3836\"/>\r\n",
       "<polygon fill=\"black\" stroke=\"black\" points=\"722,-63.2497 718.5,-53.2497 715,-63.2498 722,-63.2497\"/>\r\n",
       "</g>\r\n",
       "<!-- 13 -->\r\n",
       "<g id=\"node14\" class=\"node\"><title>13</title>\r\n",
       "<polygon fill=\"none\" stroke=\"black\" points=\"934,-53 809,-53 809,-0 934,-0 934,-53\"/>\r\n",
       "<text text-anchor=\"middle\" x=\"871.5\" y=\"-37.8\" font-family=\"Times New Roman,serif\" font-size=\"14.00\">mse = 7.3481</text>\r\n",
       "<text text-anchor=\"middle\" x=\"871.5\" y=\"-22.8\" font-family=\"Times New Roman,serif\" font-size=\"14.00\">samples = 32</text>\r\n",
       "<text text-anchor=\"middle\" x=\"871.5\" y=\"-7.8\" font-family=\"Times New Roman,serif\" font-size=\"14.00\">value = [ 10.90625]</text>\r\n",
       "</g>\r\n",
       "<!-- 11&#45;&gt;13 -->\r\n",
       "<g id=\"edge13\" class=\"edge\"><title>11&#45;&gt;13</title>\r\n",
       "<path fill=\"none\" stroke=\"black\" d=\"M763.578,-88.8677C780.467,-79.2641 799.829,-68.2542 817.448,-58.2354\"/>\r\n",
       "<polygon fill=\"black\" stroke=\"black\" points=\"819.518,-61.0849 826.481,-53.0993 816.058,-54.9999 819.518,-61.0849\"/>\r\n",
       "</g>\r\n",
       "<!-- 15 -->\r\n",
       "<g id=\"node16\" class=\"node\"><title>15</title>\r\n",
       "<polygon fill=\"none\" stroke=\"black\" points=\"1240.5,-231 1100.5,-231 1100.5,-178 1240.5,-178 1240.5,-231\"/>\r\n",
       "<text text-anchor=\"middle\" x=\"1170.5\" y=\"-215.8\" font-family=\"Times New Roman,serif\" font-size=\"14.00\">NOX &lt;= 0.6590</text>\r\n",
       "<text text-anchor=\"middle\" x=\"1170.5\" y=\"-200.8\" font-family=\"Times New Roman,serif\" font-size=\"14.00\">mse = 40.0571712018</text>\r\n",
       "<text text-anchor=\"middle\" x=\"1170.5\" y=\"-185.8\" font-family=\"Times New Roman,serif\" font-size=\"14.00\">samples = 42</text>\r\n",
       "</g>\r\n",
       "<!-- 14&#45;&gt;15 -->\r\n",
       "<g id=\"edge15\" class=\"edge\"><title>14&#45;&gt;15</title>\r\n",
       "<path fill=\"none\" stroke=\"black\" d=\"M1170.5,-266.868C1170.5,-258.886 1170.5,-249.932 1170.5,-241.384\"/>\r\n",
       "<polygon fill=\"black\" stroke=\"black\" points=\"1174,-241.25 1170.5,-231.25 1167,-241.25 1174,-241.25\"/>\r\n",
       "</g>\r\n",
       "<!-- 22 -->\r\n",
       "<g id=\"node23\" class=\"node\"><title>22</title>\r\n",
       "<polygon fill=\"none\" stroke=\"black\" points=\"1519.5,-231 1405.5,-231 1405.5,-178 1519.5,-178 1519.5,-231\"/>\r\n",
       "<text text-anchor=\"middle\" x=\"1462.5\" y=\"-215.8\" font-family=\"Times New Roman,serif\" font-size=\"14.00\">RAD &lt;= 16.0000</text>\r\n",
       "<text text-anchor=\"middle\" x=\"1462.5\" y=\"-200.8\" font-family=\"Times New Roman,serif\" font-size=\"14.00\">mse = 43.585275</text>\r\n",
       "<text text-anchor=\"middle\" x=\"1462.5\" y=\"-185.8\" font-family=\"Times New Roman,serif\" font-size=\"14.00\">samples = 20</text>\r\n",
       "</g>\r\n",
       "<!-- 14&#45;&gt;22 -->\r\n",
       "<g id=\"edge22\" class=\"edge\"><title>14&#45;&gt;22</title>\r\n",
       "<path fill=\"none\" stroke=\"black\" d=\"M1240.81,-271.551C1287.76,-257.562 1349.14,-239.274 1395.41,-225.488\"/>\r\n",
       "<polygon fill=\"black\" stroke=\"black\" points=\"1396.46,-228.828 1405.05,-222.618 1394.46,-222.119 1396.46,-228.828\"/>\r\n",
       "</g>\r\n",
       "<!-- 16 -->\r\n",
       "<g id=\"node17\" class=\"node\"><title>16</title>\r\n",
       "<polygon fill=\"none\" stroke=\"black\" points=\"1152,-142 1051,-142 1051,-89 1152,-89 1152,-142\"/>\r\n",
       "<text text-anchor=\"middle\" x=\"1101.5\" y=\"-126.8\" font-family=\"Times New Roman,serif\" font-size=\"14.00\">DIS &lt;= 1.4111</text>\r\n",
       "<text text-anchor=\"middle\" x=\"1101.5\" y=\"-111.8\" font-family=\"Times New Roman,serif\" font-size=\"14.00\">mse = 23.2486</text>\r\n",
       "<text text-anchor=\"middle\" x=\"1101.5\" y=\"-96.8\" font-family=\"Times New Roman,serif\" font-size=\"14.00\">samples = 40</text>\r\n",
       "</g>\r\n",
       "<!-- 15&#45;&gt;16 -->\r\n",
       "<g id=\"edge16\" class=\"edge\"><title>15&#45;&gt;16</title>\r\n",
       "<path fill=\"none\" stroke=\"black\" d=\"M1150.17,-177.868C1143.28,-169.184 1135.48,-159.35 1128.18,-150.139\"/>\r\n",
       "<polygon fill=\"black\" stroke=\"black\" points=\"1130.88,-147.91 1121.92,-142.25 1125.39,-152.26 1130.88,-147.91\"/>\r\n",
       "</g>\r\n",
       "<!-- 19 -->\r\n",
       "<g id=\"node20\" class=\"node\"><title>19</title>\r\n",
       "<polygon fill=\"none\" stroke=\"black\" points=\"1310.5,-142 1170.5,-142 1170.5,-89 1310.5,-89 1310.5,-142\"/>\r\n",
       "<text text-anchor=\"middle\" x=\"1240.5\" y=\"-126.8\" font-family=\"Times New Roman,serif\" font-size=\"14.00\">AGE &lt;= 95.3500</text>\r\n",
       "<text text-anchor=\"middle\" x=\"1240.5\" y=\"-111.8\" font-family=\"Times New Roman,serif\" font-size=\"14.00\">mse = 2.10250000001</text>\r\n",
       "<text text-anchor=\"middle\" x=\"1240.5\" y=\"-96.8\" font-family=\"Times New Roman,serif\" font-size=\"14.00\">samples = 2</text>\r\n",
       "</g>\r\n",
       "<!-- 15&#45;&gt;19 -->\r\n",
       "<g id=\"edge19\" class=\"edge\"><title>15&#45;&gt;19</title>\r\n",
       "<path fill=\"none\" stroke=\"black\" d=\"M1191.12,-177.868C1198.11,-169.184 1206.02,-159.35 1213.43,-150.139\"/>\r\n",
       "<polygon fill=\"black\" stroke=\"black\" points=\"1216.24,-152.235 1219.78,-142.25 1210.79,-147.847 1216.24,-152.235\"/>\r\n",
       "</g>\r\n",
       "<!-- 17 -->\r\n",
       "<g id=\"node18\" class=\"node\"><title>17</title>\r\n",
       "<polygon fill=\"none\" stroke=\"black\" points=\"1044.5,-53 952.5,-53 952.5,-0 1044.5,-0 1044.5,-53\"/>\r\n",
       "<text text-anchor=\"middle\" x=\"998.5\" y=\"-37.8\" font-family=\"Times New Roman,serif\" font-size=\"14.00\">mse = 0.0000</text>\r\n",
       "<text text-anchor=\"middle\" x=\"998.5\" y=\"-22.8\" font-family=\"Times New Roman,serif\" font-size=\"14.00\">samples = 1</text>\r\n",
       "<text text-anchor=\"middle\" x=\"998.5\" y=\"-7.8\" font-family=\"Times New Roman,serif\" font-size=\"14.00\">value = [ 50.]</text>\r\n",
       "</g>\r\n",
       "<!-- 16&#45;&gt;17 -->\r\n",
       "<g id=\"edge17\" class=\"edge\"><title>16&#45;&gt;17</title>\r\n",
       "<path fill=\"none\" stroke=\"black\" d=\"M1071.15,-88.8677C1060.35,-79.7453 1048.05,-69.3541 1036.68,-59.7488\"/>\r\n",
       "<polygon fill=\"black\" stroke=\"black\" points=\"1038.88,-57.0287 1028.99,-53.2497 1034.37,-62.3764 1038.88,-57.0287\"/>\r\n",
       "</g>\r\n",
       "<!-- 18 -->\r\n",
       "<g id=\"node19\" class=\"node\"><title>18</title>\r\n",
       "<polygon fill=\"none\" stroke=\"black\" points=\"1162,-53 1063,-53 1063,-0 1162,-0 1162,-53\"/>\r\n",
       "<text text-anchor=\"middle\" x=\"1112.5\" y=\"-37.8\" font-family=\"Times New Roman,serif\" font-size=\"14.00\">mse = 15.0087</text>\r\n",
       "<text text-anchor=\"middle\" x=\"1112.5\" y=\"-22.8\" font-family=\"Times New Roman,serif\" font-size=\"14.00\">samples = 39</text>\r\n",
       "<text text-anchor=\"middle\" x=\"1112.5\" y=\"-7.8\" font-family=\"Times New Roman,serif\" font-size=\"14.00\">value = [ 31.2]</text>\r\n",
       "</g>\r\n",
       "<!-- 16&#45;&gt;18 -->\r\n",
       "<g id=\"edge18\" class=\"edge\"><title>16&#45;&gt;18</title>\r\n",
       "<path fill=\"none\" stroke=\"black\" d=\"M1104.74,-88.8677C1105.75,-80.8856 1106.88,-71.9321 1107.96,-63.3836\"/>\r\n",
       "<polygon fill=\"black\" stroke=\"black\" points=\"1111.46,-63.6098 1109.24,-53.2497 1104.52,-62.7317 1111.46,-63.6098\"/>\r\n",
       "</g>\r\n",
       "<!-- 20 -->\r\n",
       "<g id=\"node21\" class=\"node\"><title>20</title>\r\n",
       "<polygon fill=\"none\" stroke=\"black\" points=\"1278.5,-53 1180.5,-53 1180.5,-0 1278.5,-0 1278.5,-53\"/>\r\n",
       "<text text-anchor=\"middle\" x=\"1229.5\" y=\"-37.8\" font-family=\"Times New Roman,serif\" font-size=\"14.00\">mse = 0.0000</text>\r\n",
       "<text text-anchor=\"middle\" x=\"1229.5\" y=\"-22.8\" font-family=\"Times New Roman,serif\" font-size=\"14.00\">samples = 1</text>\r\n",
       "<text text-anchor=\"middle\" x=\"1229.5\" y=\"-7.8\" font-family=\"Times New Roman,serif\" font-size=\"14.00\">value = [ 10.4]</text>\r\n",
       "</g>\r\n",
       "<!-- 19&#45;&gt;20 -->\r\n",
       "<g id=\"edge20\" class=\"edge\"><title>19&#45;&gt;20</title>\r\n",
       "<path fill=\"none\" stroke=\"black\" d=\"M1237.26,-88.8677C1236.25,-80.8856 1235.12,-71.9321 1234.04,-63.3836\"/>\r\n",
       "<polygon fill=\"black\" stroke=\"black\" points=\"1237.48,-62.7317 1232.76,-53.2497 1230.54,-63.6098 1237.48,-62.7317\"/>\r\n",
       "</g>\r\n",
       "<!-- 21 -->\r\n",
       "<g id=\"node22\" class=\"node\"><title>21</title>\r\n",
       "<polygon fill=\"none\" stroke=\"black\" points=\"1394.5,-53 1296.5,-53 1296.5,-0 1394.5,-0 1394.5,-53\"/>\r\n",
       "<text text-anchor=\"middle\" x=\"1345.5\" y=\"-37.8\" font-family=\"Times New Roman,serif\" font-size=\"14.00\">mse = &#45;0.0000</text>\r\n",
       "<text text-anchor=\"middle\" x=\"1345.5\" y=\"-22.8\" font-family=\"Times New Roman,serif\" font-size=\"14.00\">samples = 1</text>\r\n",
       "<text text-anchor=\"middle\" x=\"1345.5\" y=\"-7.8\" font-family=\"Times New Roman,serif\" font-size=\"14.00\">value = [ 13.3]</text>\r\n",
       "</g>\r\n",
       "<!-- 19&#45;&gt;21 -->\r\n",
       "<g id=\"edge21\" class=\"edge\"><title>19&#45;&gt;21</title>\r\n",
       "<path fill=\"none\" stroke=\"black\" d=\"M1271.44,-88.8677C1282.45,-79.7453 1294.99,-69.3541 1306.58,-59.7488\"/>\r\n",
       "<polygon fill=\"black\" stroke=\"black\" points=\"1308.96,-62.325 1314.42,-53.2497 1304.49,-56.9349 1308.96,-62.325\"/>\r\n",
       "</g>\r\n",
       "<!-- 23 -->\r\n",
       "<g id=\"node24\" class=\"node\"><title>23</title>\r\n",
       "<polygon fill=\"none\" stroke=\"black\" points=\"1532.5,-142 1392.5,-142 1392.5,-89 1532.5,-89 1532.5,-142\"/>\r\n",
       "<text text-anchor=\"middle\" x=\"1462.5\" y=\"-126.8\" font-family=\"Times New Roman,serif\" font-size=\"14.00\">BLACK &lt;= 394.8050</text>\r\n",
       "<text text-anchor=\"middle\" x=\"1462.5\" y=\"-111.8\" font-family=\"Times New Roman,serif\" font-size=\"14.00\">mse = 16.9907479224</text>\r\n",
       "<text text-anchor=\"middle\" x=\"1462.5\" y=\"-96.8\" font-family=\"Times New Roman,serif\" font-size=\"14.00\">samples = 19</text>\r\n",
       "</g>\r\n",
       "<!-- 22&#45;&gt;23 -->\r\n",
       "<g id=\"edge23\" class=\"edge\"><title>22&#45;&gt;23</title>\r\n",
       "<path fill=\"none\" stroke=\"black\" d=\"M1462.5,-177.868C1462.5,-169.886 1462.5,-160.932 1462.5,-152.384\"/>\r\n",
       "<polygon fill=\"black\" stroke=\"black\" points=\"1466,-152.25 1462.5,-142.25 1459,-152.25 1466,-152.25\"/>\r\n",
       "</g>\r\n",
       "<!-- 26 -->\r\n",
       "<g id=\"node27\" class=\"node\"><title>26</title>\r\n",
       "<polygon fill=\"none\" stroke=\"black\" points=\"1648.5,-142 1550.5,-142 1550.5,-89 1648.5,-89 1648.5,-142\"/>\r\n",
       "<text text-anchor=\"middle\" x=\"1599.5\" y=\"-126.8\" font-family=\"Times New Roman,serif\" font-size=\"14.00\">mse = &#45;0.0000</text>\r\n",
       "<text text-anchor=\"middle\" x=\"1599.5\" y=\"-111.8\" font-family=\"Times New Roman,serif\" font-size=\"14.00\">samples = 1</text>\r\n",
       "<text text-anchor=\"middle\" x=\"1599.5\" y=\"-96.8\" font-family=\"Times New Roman,serif\" font-size=\"14.00\">value = [ 21.9]</text>\r\n",
       "</g>\r\n",
       "<!-- 22&#45;&gt;26 -->\r\n",
       "<g id=\"edge26\" class=\"edge\"><title>22&#45;&gt;26</title>\r\n",
       "<path fill=\"none\" stroke=\"black\" d=\"M1502.86,-177.868C1517.78,-168.394 1534.85,-157.553 1550.46,-147.644\"/>\r\n",
       "<polygon fill=\"black\" stroke=\"black\" points=\"1552.39,-150.565 1558.95,-142.25 1548.63,-144.656 1552.39,-150.565\"/>\r\n",
       "</g>\r\n",
       "<!-- 24 -->\r\n",
       "<g id=\"node25\" class=\"node\"><title>24</title>\r\n",
       "<polygon fill=\"none\" stroke=\"black\" points=\"1512,-53 1413,-53 1413,-0 1512,-0 1512,-53\"/>\r\n",
       "<text text-anchor=\"middle\" x=\"1462.5\" y=\"-37.8\" font-family=\"Times New Roman,serif\" font-size=\"14.00\">mse = 12.5925</text>\r\n",
       "<text text-anchor=\"middle\" x=\"1462.5\" y=\"-22.8\" font-family=\"Times New Roman,serif\" font-size=\"14.00\">samples = 16</text>\r\n",
       "<text text-anchor=\"middle\" x=\"1462.5\" y=\"-7.8\" font-family=\"Times New Roman,serif\" font-size=\"14.00\">value = [ 47.]</text>\r\n",
       "</g>\r\n",
       "<!-- 23&#45;&gt;24 -->\r\n",
       "<g id=\"edge24\" class=\"edge\"><title>23&#45;&gt;24</title>\r\n",
       "<path fill=\"none\" stroke=\"black\" d=\"M1462.5,-88.8677C1462.5,-80.8856 1462.5,-71.9321 1462.5,-63.3836\"/>\r\n",
       "<polygon fill=\"black\" stroke=\"black\" points=\"1466,-63.2497 1462.5,-53.2497 1459,-63.2498 1466,-63.2497\"/>\r\n",
       "</g>\r\n",
       "<!-- 25 -->\r\n",
       "<g id=\"node26\" class=\"node\"><title>25</title>\r\n",
       "<polygon fill=\"none\" stroke=\"black\" points=\"1675,-53 1530,-53 1530,-0 1675,-0 1675,-53\"/>\r\n",
       "<text text-anchor=\"middle\" x=\"1602.5\" y=\"-37.8\" font-family=\"Times New Roman,serif\" font-size=\"14.00\">mse = 2.2689</text>\r\n",
       "<text text-anchor=\"middle\" x=\"1602.5\" y=\"-22.8\" font-family=\"Times New Roman,serif\" font-size=\"14.00\">samples = 3</text>\r\n",
       "<text text-anchor=\"middle\" x=\"1602.5\" y=\"-7.8\" font-family=\"Times New Roman,serif\" font-size=\"14.00\">value = [ 40.26666667]</text>\r\n",
       "</g>\r\n",
       "<!-- 23&#45;&gt;25 -->\r\n",
       "<g id=\"edge25\" class=\"edge\"><title>23&#45;&gt;25</title>\r\n",
       "<path fill=\"none\" stroke=\"black\" d=\"M1503.75,-88.8677C1518.99,-79.3945 1536.44,-68.5529 1552.38,-58.6441\"/>\r\n",
       "<polygon fill=\"black\" stroke=\"black\" points=\"1554.42,-61.5007 1561.06,-53.2497 1550.72,-55.5552 1554.42,-61.5007\"/>\r\n",
       "</g>\r\n",
       "</g>\r\n",
       "</svg>\r\n"
      ]
     },
     "metadata": {},
     "output_type": "display_data"
    }
   ],
   "source": [
    "# Cool, no?\n",
    "\n",
    "dot_data = externals.six.StringIO()\n",
    "tree.export_graphviz(model, out_file = dot_data, feature_names = X.columns)\n",
    "%dotstr dot_data.getvalue()"
   ]
  },
  {
   "cell_type": "markdown",
   "metadata": {},
   "source": [
    "> ### Question 7.  What are the top 5 most important features?"
   ]
  },
  {
   "cell_type": "code",
   "execution_count": 12,
   "metadata": {
    "collapsed": false
   },
   "outputs": [
    {
     "data": {
      "text/plain": [
       "[(0.67538913302296755, 'RM'),\n",
       " (0.16359471589221039, 'LSTAT'),\n",
       " (0.083011594480310771, 'DIS'),\n",
       " (0.041121547111593465, 'NOX'),\n",
       " (0.023825628231745048, 'RAD'),\n",
       " (0.0079030505168964475, 'CRIM'),\n",
       " (0.0049718017190822934, 'BLACK'),\n",
       " (0.00018252902519393883, 'AGE'),\n",
       " (0.0, 'ZN'),\n",
       " (0.0, 'TAX'),\n",
       " (0.0, 'PTRATIO'),\n",
       " (0.0, 'INDUS'),\n",
       " (0.0, 'CHAS')]"
      ]
     },
     "execution_count": 12,
     "metadata": {},
     "output_type": "execute_result"
    }
   ],
   "source": [
    "sorted(zip(model.feature_importances_, X.columns.values), reverse = True)"
   ]
  },
  {
   "cell_type": "markdown",
   "metadata": {},
   "source": [
    "Answer: `RM`, `LSTAT`, `DIS`, `NOX`, `BLACK`"
   ]
  },
  {
   "cell_type": "markdown",
   "metadata": {},
   "source": [
    "## Part B - Classification Decision Trees"
   ]
  },
  {
   "cell_type": "markdown",
   "metadata": {},
   "source": [
    "> ### Question 8.  Let's categorize `MEDV` to 4 groups: Bottom 20% as Level 1, next 30% as Level 2, next 30% categorized as Level 3, and the top 20% as Level 4.  Please create a new variable `MEDV_Category` that stores the level number"
   ]
  },
  {
   "cell_type": "code",
   "execution_count": 13,
   "metadata": {
    "collapsed": true
   },
   "outputs": [],
   "source": [
    "level_2 = ((df.MEDV > df.MEDV.quantile(.2)) & (df.MEDV <= df.MEDV.quantile(.5)))\n",
    "level_3 = ((df.MEDV > df.MEDV.quantile(.5)) & (df.MEDV <= df.MEDV.quantile(.8)))\n",
    "level_4 = (df.MEDV > df.MEDV.quantile(.8))\n",
    "\n",
    "df['MEDV_Category'] = '1'\n",
    "df.loc[level_2, 'MEDV_Category'] = '2'\n",
    "df.loc[level_3, 'MEDV_Category'] = '3'\n",
    "df.loc[level_4, 'MEDV_Category'] = '4'"
   ]
  },
  {
   "cell_type": "markdown",
   "metadata": {},
   "source": [
    "> ### Question 9.  Create a feature matrix `X` with all features but `MEDV`.  Also create a response vector `y` with `MEDV_Category`"
   ]
  },
  {
   "cell_type": "code",
   "execution_count": 14,
   "metadata": {
    "collapsed": false
   },
   "outputs": [],
   "source": [
    "X = df[df.columns.values]\n",
    "X.drop(['MEDV', 'MEDV_Category'], axis = 1, inplace = True)\n",
    "\n",
    "y = df.MEDV_Category"
   ]
  },
  {
   "cell_type": "markdown",
   "metadata": {},
   "source": [
    "> ### Question 10.  Split again your dataset into a training and testing sets (60%, 40%)"
   ]
  },
  {
   "cell_type": "code",
   "execution_count": 15,
   "metadata": {
    "collapsed": true
   },
   "outputs": [],
   "source": [
    "train_X, test_X, train_y, test_y = cross_validation.train_test_split(X, y, test_size = 0.4)"
   ]
  },
  {
   "cell_type": "markdown",
   "metadata": {},
   "source": [
    "> ### Question 11.  Create a decision tree (`tree.DecisionTreeRegressor`) of depth 2 and with leaf nodes having a minimum of 5 observations.  Then train the model model"
   ]
  },
  {
   "cell_type": "code",
   "execution_count": 16,
   "metadata": {
    "collapsed": false
   },
   "outputs": [
    {
     "data": {
      "text/plain": [
       "DecisionTreeClassifier(class_weight=None, criterion='gini', max_depth=2,\n",
       "            max_features=None, max_leaf_nodes=None, min_samples_leaf=5,\n",
       "            min_samples_split=2, min_weight_fraction_leaf=0.0,\n",
       "            random_state=None, splitter='best')"
      ]
     },
     "execution_count": 16,
     "metadata": {},
     "output_type": "execute_result"
    }
   ],
   "source": [
    "model = tree.DecisionTreeClassifier(max_depth = 2, min_samples_leaf = 5)\n",
    "\n",
    "model.fit(train_X, train_y)"
   ]
  },
  {
   "cell_type": "markdown",
   "metadata": {},
   "source": [
    "> ### Question 12.  What is your 10-fold cross-validation error on your training set?"
   ]
  },
  {
   "cell_type": "code",
   "execution_count": 17,
   "metadata": {
    "collapsed": false
   },
   "outputs": [
    {
     "data": {
      "text/plain": [
       "0.64284035833465758"
      ]
     },
     "execution_count": 17,
     "metadata": {},
     "output_type": "execute_result"
    }
   ],
   "source": [
    "cross_validation.cross_val_score(model, train_X, train_y, cv = 10).mean()"
   ]
  },
  {
   "cell_type": "markdown",
   "metadata": {},
   "source": [
    "> ### Question 13.  Display graphically your model"
   ]
  },
  {
   "cell_type": "code",
   "execution_count": 18,
   "metadata": {
    "collapsed": false
   },
   "outputs": [
    {
     "data": {
      "image/svg+xml": [
       "<?xml version=\"1.0\" encoding=\"UTF-8\" standalone=\"no\"?>\r\n",
       "<!DOCTYPE svg PUBLIC \"-//W3C//DTD SVG 1.1//EN\"\r\n",
       " \"http://www.w3.org/Graphics/SVG/1.1/DTD/svg11.dtd\">\r\n",
       "<!-- Generated by graphviz version 2.38.0 (20140413.2041)\r\n",
       " -->\r\n",
       "<!-- Title: Tree Pages: 1 -->\r\n",
       "<svg width=\"696pt\" height=\"239pt\"\r\n",
       " viewBox=\"0.00 0.00 695.50 239.00\" xmlns=\"http://www.w3.org/2000/svg\" xmlns:xlink=\"http://www.w3.org/1999/xlink\">\r\n",
       "<g id=\"graph0\" class=\"graph\" transform=\"scale(1 1) rotate(0) translate(4 235)\">\r\n",
       "<title>Tree</title>\r\n",
       "<polygon fill=\"white\" stroke=\"none\" points=\"-4,4 -4,-235 691.5,-235 691.5,4 -4,4\"/>\r\n",
       "<!-- 0 -->\r\n",
       "<g id=\"node1\" class=\"node\"><title>0</title>\r\n",
       "<polygon fill=\"none\" stroke=\"black\" points=\"415,-231 272,-231 272,-178 415,-178 415,-231\"/>\r\n",
       "<text text-anchor=\"middle\" x=\"343.5\" y=\"-215.8\" font-family=\"Times New Roman,serif\" font-size=\"14.00\">LSTAT &lt;= 9.0600</text>\r\n",
       "<text text-anchor=\"middle\" x=\"343.5\" y=\"-200.8\" font-family=\"Times New Roman,serif\" font-size=\"14.00\">gini = 0.730102713242</text>\r\n",
       "<text text-anchor=\"middle\" x=\"343.5\" y=\"-185.8\" font-family=\"Times New Roman,serif\" font-size=\"14.00\">samples = 303</text>\r\n",
       "</g>\r\n",
       "<!-- 1 -->\r\n",
       "<g id=\"node2\" class=\"node\"><title>1</title>\r\n",
       "<polygon fill=\"none\" stroke=\"black\" points=\"327,-142 184,-142 184,-89 327,-89 327,-142\"/>\r\n",
       "<text text-anchor=\"middle\" x=\"255.5\" y=\"-126.8\" font-family=\"Times New Roman,serif\" font-size=\"14.00\">RM &lt;= 6.7275</text>\r\n",
       "<text text-anchor=\"middle\" x=\"255.5\" y=\"-111.8\" font-family=\"Times New Roman,serif\" font-size=\"14.00\">gini = 0.565289256198</text>\r\n",
       "<text text-anchor=\"middle\" x=\"255.5\" y=\"-96.8\" font-family=\"Times New Roman,serif\" font-size=\"14.00\">samples = 110</text>\r\n",
       "</g>\r\n",
       "<!-- 0&#45;&gt;1 -->\r\n",
       "<g id=\"edge1\" class=\"edge\"><title>0&#45;&gt;1</title>\r\n",
       "<path fill=\"none\" stroke=\"black\" d=\"M317.573,-177.868C308.523,-168.921 298.239,-158.753 288.681,-149.304\"/>\r\n",
       "<polygon fill=\"black\" stroke=\"black\" points=\"291.118,-146.791 281.546,-142.25 286.196,-151.769 291.118,-146.791\"/>\r\n",
       "</g>\r\n",
       "<!-- 4 -->\r\n",
       "<g id=\"node5\" class=\"node\"><title>4</title>\r\n",
       "<polygon fill=\"none\" stroke=\"black\" points=\"504,-142 361,-142 361,-89 504,-89 504,-142\"/>\r\n",
       "<text text-anchor=\"middle\" x=\"432.5\" y=\"-126.8\" font-family=\"Times New Roman,serif\" font-size=\"14.00\">LSTAT &lt;= 18.6950</text>\r\n",
       "<text text-anchor=\"middle\" x=\"432.5\" y=\"-111.8\" font-family=\"Times New Roman,serif\" font-size=\"14.00\">gini = 0.640983650568</text>\r\n",
       "<text text-anchor=\"middle\" x=\"432.5\" y=\"-96.8\" font-family=\"Times New Roman,serif\" font-size=\"14.00\">samples = 193</text>\r\n",
       "</g>\r\n",
       "<!-- 0&#45;&gt;4 -->\r\n",
       "<g id=\"edge4\" class=\"edge\"><title>0&#45;&gt;4</title>\r\n",
       "<path fill=\"none\" stroke=\"black\" d=\"M369.722,-177.868C378.874,-168.921 389.275,-158.753 398.942,-149.304\"/>\r\n",
       "<polygon fill=\"black\" stroke=\"black\" points=\"401.454,-151.743 406.158,-142.25 396.561,-146.737 401.454,-151.743\"/>\r\n",
       "</g>\r\n",
       "<!-- 2 -->\r\n",
       "<g id=\"node3\" class=\"node\"><title>2</title>\r\n",
       "<polygon fill=\"none\" stroke=\"black\" points=\"159,-53 0,-53 0,-0 159,-0 159,-53\"/>\r\n",
       "<text text-anchor=\"middle\" x=\"79.5\" y=\"-37.8\" font-family=\"Times New Roman,serif\" font-size=\"14.00\">gini = 0.4417</text>\r\n",
       "<text text-anchor=\"middle\" x=\"79.5\" y=\"-22.8\" font-family=\"Times New Roman,serif\" font-size=\"14.00\">samples = 65</text>\r\n",
       "<text text-anchor=\"middle\" x=\"79.5\" y=\"-7.8\" font-family=\"Times New Roman,serif\" font-size=\"14.00\">value = [ &#160;1. &#160;&#160;7. &#160;47. &#160;10.]</text>\r\n",
       "</g>\r\n",
       "<!-- 1&#45;&gt;2 -->\r\n",
       "<g id=\"edge2\" class=\"edge\"><title>1&#45;&gt;2</title>\r\n",
       "<path fill=\"none\" stroke=\"black\" d=\"M203.646,-88.8677C183.773,-79.0438 160.922,-67.7484 140.286,-57.5477\"/>\r\n",
       "<polygon fill=\"black\" stroke=\"black\" points=\"141.803,-54.3931 131.287,-53.0993 138.701,-60.6683 141.803,-54.3931\"/>\r\n",
       "</g>\r\n",
       "<!-- 3 -->\r\n",
       "<g id=\"node4\" class=\"node\"><title>3</title>\r\n",
       "<polygon fill=\"none\" stroke=\"black\" points=\"333.5,-53 177.5,-53 177.5,-0 333.5,-0 333.5,-53\"/>\r\n",
       "<text text-anchor=\"middle\" x=\"255.5\" y=\"-37.8\" font-family=\"Times New Roman,serif\" font-size=\"14.00\">gini = 0.2311</text>\r\n",
       "<text text-anchor=\"middle\" x=\"255.5\" y=\"-22.8\" font-family=\"Times New Roman,serif\" font-size=\"14.00\">samples = 45</text>\r\n",
       "<text text-anchor=\"middle\" x=\"255.5\" y=\"-7.8\" font-family=\"Times New Roman,serif\" font-size=\"14.00\">value = [ &#160;0. &#160;&#160;0. &#160;&#160;6. &#160;39.]</text>\r\n",
       "</g>\r\n",
       "<!-- 1&#45;&gt;3 -->\r\n",
       "<g id=\"edge3\" class=\"edge\"><title>1&#45;&gt;3</title>\r\n",
       "<path fill=\"none\" stroke=\"black\" d=\"M255.5,-88.8677C255.5,-80.8856 255.5,-71.9321 255.5,-63.3836\"/>\r\n",
       "<polygon fill=\"black\" stroke=\"black\" points=\"259,-63.2497 255.5,-53.2497 252,-63.2498 259,-63.2497\"/>\r\n",
       "</g>\r\n",
       "<!-- 5 -->\r\n",
       "<g id=\"node6\" class=\"node\"><title>5</title>\r\n",
       "<polygon fill=\"none\" stroke=\"black\" points=\"513.5,-53 351.5,-53 351.5,-0 513.5,-0 513.5,-53\"/>\r\n",
       "<text text-anchor=\"middle\" x=\"432.5\" y=\"-37.8\" font-family=\"Times New Roman,serif\" font-size=\"14.00\">gini = 0.5495</text>\r\n",
       "<text text-anchor=\"middle\" x=\"432.5\" y=\"-22.8\" font-family=\"Times New Roman,serif\" font-size=\"14.00\">samples = 139</text>\r\n",
       "<text text-anchor=\"middle\" x=\"432.5\" y=\"-7.8\" font-family=\"Times New Roman,serif\" font-size=\"14.00\">value = [ 14. &#160;84. &#160;38. &#160;&#160;3.]</text>\r\n",
       "</g>\r\n",
       "<!-- 4&#45;&gt;5 -->\r\n",
       "<g id=\"edge5\" class=\"edge\"><title>4&#45;&gt;5</title>\r\n",
       "<path fill=\"none\" stroke=\"black\" d=\"M432.5,-88.8677C432.5,-80.8856 432.5,-71.9321 432.5,-63.3836\"/>\r\n",
       "<polygon fill=\"black\" stroke=\"black\" points=\"436,-63.2497 432.5,-53.2497 429,-63.2498 436,-63.2497\"/>\r\n",
       "</g>\r\n",
       "<!-- 6 -->\r\n",
       "<g id=\"node7\" class=\"node\"><title>6</title>\r\n",
       "<polygon fill=\"none\" stroke=\"black\" points=\"687.5,-53 531.5,-53 531.5,-0 687.5,-0 687.5,-53\"/>\r\n",
       "<text text-anchor=\"middle\" x=\"609.5\" y=\"-37.8\" font-family=\"Times New Roman,serif\" font-size=\"14.00\">gini = 0.3676</text>\r\n",
       "<text text-anchor=\"middle\" x=\"609.5\" y=\"-22.8\" font-family=\"Times New Roman,serif\" font-size=\"14.00\">samples = 54</text>\r\n",
       "<text text-anchor=\"middle\" x=\"609.5\" y=\"-7.8\" font-family=\"Times New Roman,serif\" font-size=\"14.00\">value = [ 42. &#160;&#160;8. &#160;&#160;4. &#160;&#160;0.]</text>\r\n",
       "</g>\r\n",
       "<!-- 4&#45;&gt;6 -->\r\n",
       "<g id=\"edge6\" class=\"edge\"><title>4&#45;&gt;6</title>\r\n",
       "<path fill=\"none\" stroke=\"black\" d=\"M484.649,-88.8677C504.635,-79.0438 527.615,-67.7484 548.369,-57.5477\"/>\r\n",
       "<polygon fill=\"black\" stroke=\"black\" points=\"549.988,-60.6516 557.419,-53.0993 546.9,-54.3695 549.988,-60.6516\"/>\r\n",
       "</g>\r\n",
       "</g>\r\n",
       "</svg>\r\n"
      ]
     },
     "metadata": {},
     "output_type": "display_data"
    }
   ],
   "source": [
    "dot_data = externals.six.StringIO()\n",
    "tree.export_graphviz(model, out_file = dot_data, feature_names = X.columns)\n",
    "%dotstr dot_data.getvalue()"
   ]
  },
  {
   "cell_type": "markdown",
   "metadata": {},
   "source": [
    "> ### Question 14.  What are the features used by the model?"
   ]
  },
  {
   "cell_type": "code",
   "execution_count": 19,
   "metadata": {
    "collapsed": false
   },
   "outputs": [
    {
     "data": {
      "text/plain": [
       "[(0.73134470102708893, 'LSTAT'),\n",
       " (0.26865529897291107, 'RM'),\n",
       " (0.0, 'ZN'),\n",
       " (0.0, 'TAX'),\n",
       " (0.0, 'RAD'),\n",
       " (0.0, 'PTRATIO'),\n",
       " (0.0, 'NOX'),\n",
       " (0.0, 'INDUS'),\n",
       " (0.0, 'DIS'),\n",
       " (0.0, 'CRIM'),\n",
       " (0.0, 'CHAS'),\n",
       " (0.0, 'BLACK'),\n",
       " (0.0, 'AGE')]"
      ]
     },
     "execution_count": 19,
     "metadata": {},
     "output_type": "execute_result"
    }
   ],
   "source": [
    "sorted(zip(model.feature_importances_, X.columns.values), reverse = True)"
   ]
  },
  {
   "cell_type": "markdown",
   "metadata": {},
   "source": [
    "Answer: `LSTAT`, `RM`, `CRIM`"
   ]
  },
  {
   "cell_type": "markdown",
   "metadata": {},
   "source": [
    "## Part C - Random Forest with Categorical Variables"
   ]
  },
  {
   "cell_type": "markdown",
   "metadata": {},
   "source": [
    "> ### Question 15.  Create a Random Forest Classifier with `n_estimators = 1000, max_features = 4, min_samples_leaf = 5, oob_score = True`"
   ]
  },
  {
   "cell_type": "markdown",
   "metadata": {},
   "source": [
    "(Check http://scikit-learn.org/stable/modules/generated/sklearn.ensemble.RandomForestClassifier.html as needed)"
   ]
  },
  {
   "cell_type": "code",
   "execution_count": 20,
   "metadata": {
    "collapsed": false
   },
   "outputs": [
    {
     "data": {
      "text/plain": [
       "RandomForestClassifier(bootstrap=True, class_weight=None, criterion='gini',\n",
       "            max_depth=None, max_features=4, max_leaf_nodes=None,\n",
       "            min_samples_leaf=5, min_samples_split=2,\n",
       "            min_weight_fraction_leaf=0.0, n_estimators=1000, n_jobs=1,\n",
       "            oob_score=True, random_state=None, verbose=0, warm_start=False)"
      ]
     },
     "execution_count": 20,
     "metadata": {},
     "output_type": "execute_result"
    }
   ],
   "source": [
    "model = ensemble.RandomForestClassifier(n_estimators = 1000, max_features = 4, min_samples_leaf = 5, oob_score = True)\n",
    "\n",
    "model.fit(train_X, train_y)"
   ]
  },
  {
   "cell_type": "markdown",
   "metadata": {},
   "source": [
    "> ### Question 16.  What is the Out-of-bag (OOB) error?"
   ]
  },
  {
   "cell_type": "markdown",
   "metadata": {},
   "source": [
    "(We will cover this in a future lecture... but Out-of-bag (OOB) error, also called out-of-bag estimate, is a method of measuring the prediction error of random forestswhen sub-sample data was used for training.  OOB is the mean prediction error on each training sample $x_i$, using only the trees that did not have $x_i$ in their bootstrap sample)"
   ]
  },
  {
   "cell_type": "code",
   "execution_count": 21,
   "metadata": {
    "collapsed": false
   },
   "outputs": [
    {
     "data": {
      "text/plain": [
       "0.75247524752475248"
      ]
     },
     "execution_count": 21,
     "metadata": {},
     "output_type": "execute_result"
    }
   ],
   "source": [
    "model.oob_score_"
   ]
  },
  {
   "cell_type": "markdown",
   "metadata": {},
   "source": [
    "Answer: ~.7 or ~70%"
   ]
  },
  {
   "cell_type": "markdown",
   "metadata": {},
   "source": [
    "> ### Question 17.  What is your 10-fold cross-validation error on your training set?"
   ]
  },
  {
   "cell_type": "code",
   "execution_count": 22,
   "metadata": {
    "collapsed": false
   },
   "outputs": [
    {
     "data": {
      "text/plain": [
       "0.74278884607235551"
      ]
     },
     "execution_count": 22,
     "metadata": {},
     "output_type": "execute_result"
    }
   ],
   "source": [
    "cross_validation.cross_val_score(model, train_X, train_y, cv = 10).mean()"
   ]
  },
  {
   "cell_type": "markdown",
   "metadata": {},
   "source": [
    "Answer: ~.7 or ~70%"
   ]
  }
 ],
 "metadata": {
  "kernelspec": {
   "display_name": "Python 2",
   "language": "python",
   "name": "python2"
  },
  "language_info": {
   "codemirror_mode": {
    "name": "ipython",
    "version": 2
   },
   "file_extension": ".py",
   "mimetype": "text/x-python",
   "name": "python",
   "nbconvert_exporter": "python",
   "pygments_lexer": "ipython2",
   "version": "2.7.11"
  }
 },
 "nbformat": 4,
 "nbformat_minor": 0
}
