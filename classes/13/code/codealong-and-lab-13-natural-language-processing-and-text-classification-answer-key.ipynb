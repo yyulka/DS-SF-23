{
 "cells": [
  {
   "cell_type": "markdown",
   "metadata": {},
   "source": [
    "# DS-SF-23 | Codealong and Lab 13 | Natural Language Processing and Text Classification | Answer Key"
   ]
  },
  {
   "cell_type": "markdown",
   "metadata": {},
   "source": [
    "# Codealong - Text Processing with `sklearn`"
   ]
  },
  {
   "cell_type": "code",
   "execution_count": 1,
   "metadata": {
    "collapsed": false
   },
   "outputs": [],
   "source": [
    "import os\n",
    "import math\n",
    "import numpy as np\n",
    "import pandas as pd\n",
    "import matplotlib.pyplot as plt\n",
    "from sklearn import feature_extraction, ensemble, cross_validation, metrics\n",
    "\n",
    "pd.set_option('display.max_rows', 10)\n",
    "pd.set_option('display.notebook_repr_html', True)\n",
    "pd.set_option('display.max_columns', 10)\n",
    "\n",
    "%matplotlib inline\n",
    "plt.style.use('ggplot')"
   ]
  },
  {
   "cell_type": "markdown",
   "metadata": {},
   "source": [
    "The data is about sentiments on Amazon reviews."
   ]
  },
  {
   "cell_type": "code",
   "execution_count": 2,
   "metadata": {
    "collapsed": false
   },
   "outputs": [],
   "source": [
    "reviews = []\n",
    "sentiments = []\n",
    "\n",
    "with open(os.path.join('..', 'datasets', 'amazon-reviews.txt')) as f:\n",
    "    for line in f.readlines():\n",
    "        line = line.strip('\\n')\n",
    "        review, sentiment = line.split('\\t')\n",
    "        sentiment = np.nan if sentiment == '' else int(sentiment)\n",
    "\n",
    "        reviews.append(review)\n",
    "        sentiments.append(sentiment)\n",
    "\n",
    "df = pd.DataFrame({'review': reviews, 'sentiment': sentiments})"
   ]
  },
  {
   "cell_type": "code",
   "execution_count": 3,
   "metadata": {
    "collapsed": false
   },
   "outputs": [
    {
     "data": {
      "text/html": [
       "<div>\n",
       "<table border=\"1\" class=\"dataframe\">\n",
       "  <thead>\n",
       "    <tr style=\"text-align: right;\">\n",
       "      <th></th>\n",
       "      <th>review</th>\n",
       "      <th>sentiment</th>\n",
       "    </tr>\n",
       "  </thead>\n",
       "  <tbody>\n",
       "    <tr>\n",
       "      <th>0</th>\n",
       "      <td>I try not to adjust the volume setting to avoi...</td>\n",
       "      <td>NaN</td>\n",
       "    </tr>\n",
       "    <tr>\n",
       "      <th>1</th>\n",
       "      <td>So there is no way for me to plug it in here i...</td>\n",
       "      <td>0</td>\n",
       "    </tr>\n",
       "    <tr>\n",
       "      <th>2</th>\n",
       "      <td>Good case, Excellent value.</td>\n",
       "      <td>1</td>\n",
       "    </tr>\n",
       "    <tr>\n",
       "      <th>3</th>\n",
       "      <td>I thought Motorola made reliable products!.</td>\n",
       "      <td>NaN</td>\n",
       "    </tr>\n",
       "    <tr>\n",
       "      <th>4</th>\n",
       "      <td>Battery for Motorola Razr.</td>\n",
       "      <td>NaN</td>\n",
       "    </tr>\n",
       "  </tbody>\n",
       "</table>\n",
       "</div>"
      ],
      "text/plain": [
       "                                              review  sentiment\n",
       "0  I try not to adjust the volume setting to avoi...        NaN\n",
       "1  So there is no way for me to plug it in here i...          0\n",
       "2                        Good case, Excellent value.          1\n",
       "3        I thought Motorola made reliable products!.        NaN\n",
       "4                         Battery for Motorola Razr.        NaN"
      ]
     },
     "execution_count": 3,
     "metadata": {},
     "output_type": "execute_result"
    }
   ],
   "source": [
    "df.head()"
   ]
  },
  {
   "cell_type": "code",
   "execution_count": 4,
   "metadata": {
    "collapsed": true
   },
   "outputs": [],
   "source": [
    "df.dropna(inplace = True) # Let's drop NaNs"
   ]
  },
  {
   "cell_type": "code",
   "execution_count": 5,
   "metadata": {
    "collapsed": false
   },
   "outputs": [
    {
     "data": {
      "text/html": [
       "<div>\n",
       "<table border=\"1\" class=\"dataframe\">\n",
       "  <thead>\n",
       "    <tr style=\"text-align: right;\">\n",
       "      <th></th>\n",
       "      <th>review</th>\n",
       "      <th>sentiment</th>\n",
       "    </tr>\n",
       "  </thead>\n",
       "  <tbody>\n",
       "    <tr>\n",
       "      <th>1</th>\n",
       "      <td>So there is no way for me to plug it in here i...</td>\n",
       "      <td>0</td>\n",
       "    </tr>\n",
       "    <tr>\n",
       "      <th>2</th>\n",
       "      <td>Good case, Excellent value.</td>\n",
       "      <td>1</td>\n",
       "    </tr>\n",
       "    <tr>\n",
       "      <th>5</th>\n",
       "      <td>Great for the jawbone.</td>\n",
       "      <td>1</td>\n",
       "    </tr>\n",
       "    <tr>\n",
       "      <th>10</th>\n",
       "      <td>Tied to charger for conversations lasting more...</td>\n",
       "      <td>0</td>\n",
       "    </tr>\n",
       "    <tr>\n",
       "      <th>11</th>\n",
       "      <td>The mic is great.</td>\n",
       "      <td>1</td>\n",
       "    </tr>\n",
       "  </tbody>\n",
       "</table>\n",
       "</div>"
      ],
      "text/plain": [
       "                                               review  sentiment\n",
       "1   So there is no way for me to plug it in here i...          0\n",
       "2                         Good case, Excellent value.          1\n",
       "5                              Great for the jawbone.          1\n",
       "10  Tied to charger for conversations lasting more...          0\n",
       "11                                  The mic is great.          1"
      ]
     },
     "execution_count": 5,
     "metadata": {},
     "output_type": "execute_result"
    }
   ],
   "source": [
    "df.head()"
   ]
  },
  {
   "cell_type": "code",
   "execution_count": 6,
   "metadata": {
    "collapsed": true
   },
   "outputs": [],
   "source": [
    "X = df.review\n",
    "y = df.sentiment"
   ]
  },
  {
   "cell_type": "markdown",
   "metadata": {},
   "source": [
    "## Train/test sets"
   ]
  },
  {
   "cell_type": "code",
   "execution_count": 7,
   "metadata": {
    "collapsed": true
   },
   "outputs": [],
   "source": [
    "train_X, test_X, train_y, test_y = cross_validation.train_test_split(X, y, test_size = 0.4)"
   ]
  },
  {
   "cell_type": "code",
   "execution_count": 8,
   "metadata": {
    "collapsed": false
   },
   "outputs": [
    {
     "data": {
      "text/plain": [
       "2033    The nokia CA-42 USB cable did not work with my...\n",
       "1681                              Don't buy this product.\n",
       "1814    It does everything the description said it would.\n",
       "1630                     horrible, had to switch 3 times.\n",
       "1342    Overall, I am psyched to have a phone which ha...\n",
       "                              ...                        \n",
       "1995                    I could not recommend these more.\n",
       "1974                                 Battery is terrible.\n",
       "2541                           Last time buying from you.\n",
       "66                                   Doesn't hold charge.\n",
       "2218    I bought this battery with a coupon from Amazo...\n",
       "Name: review, dtype: object"
      ]
     },
     "execution_count": 8,
     "metadata": {},
     "output_type": "execute_result"
    }
   ],
   "source": [
    "train_X"
   ]
  },
  {
   "cell_type": "markdown",
   "metadata": {
    "collapsed": true
   },
   "source": [
    "## `CountVectorizer`"
   ]
  },
  {
   "cell_type": "markdown",
   "metadata": {},
   "source": [
    "`CountVectorizer` converts a collection of text into a matrix of features.  Each row will be a sample (an article or piece of text) and each column will be a text feature (usually a count or binary feature per word).\n",
    "\n",
    "`CountVectorizer` takes a column of text and creates a new dataset.  It generates a feature for every word in all of the pieces of text.\n",
    "\n",
    "CAUTION: Using all of the words can be useful, but we may need to use regularization to avoid overfitting.  Otherwise, rare words may cause the model to overfit and not generalize.\n",
    "\n",
    "(And check http://scikit-learn.org/stable/modules/generated/sklearn.feature_extraction.text.CountVectorizer.html as needed)"
   ]
  },
  {
   "cell_type": "code",
   "execution_count": 9,
   "metadata": {
    "collapsed": false
   },
   "outputs": [],
   "source": [
    "# Instantiate a new CountVectorizer\n",
    "\n",
    "# Stopwords are non-content words.  (e.g. 'to', 'the', and 'it')\n",
    "# They aren’t helpful for prediction, so we remove them.\n",
    "\n",
    "vectorizer = feature_extraction.text.CountVectorizer(stop_words = 'english')"
   ]
  },
  {
   "cell_type": "code",
   "execution_count": 10,
   "metadata": {
    "collapsed": false
   },
   "outputs": [
    {
     "data": {
      "text/plain": [
       "CountVectorizer(analyzer='word', binary=False, decode_error='strict',\n",
       "        dtype=<class 'numpy.int64'>, encoding='utf-8', input='content',\n",
       "        lowercase=True, max_df=1.0, max_features=None, min_df=1,\n",
       "        ngram_range=(1, 1), preprocessor=None, stop_words='english',\n",
       "        strip_accents=None, token_pattern='(?u)\\\\b\\\\w\\\\w+\\\\b',\n",
       "        tokenizer=None, vocabulary=None)"
      ]
     },
     "execution_count": 10,
     "metadata": {},
     "output_type": "execute_result"
    }
   ],
   "source": [
    "vectorizer"
   ]
  },
  {
   "cell_type": "markdown",
   "metadata": {},
   "source": [
    "Vectorizers are like other models in `sklearn`:\n",
    "- We create a vectorizer object with the parameters of our feature space\n",
    "- We fit a vectorizer to learn the vocabulary\n",
    "- We transform a set of text into that feature space\n",
    "\n",
    "Note: there is a distinction between fit and transform:\n",
    "- We fit from our training set.  This is part of the model building process, so we don't look at our test set\n",
    "- We transform our test set using our model fit on the training set"
   ]
  },
  {
   "cell_type": "code",
   "execution_count": 11,
   "metadata": {
    "collapsed": false
   },
   "outputs": [
    {
     "data": {
      "text/plain": [
       "CountVectorizer(analyzer='word', binary=False, decode_error='strict',\n",
       "        dtype=<class 'numpy.int64'>, encoding='utf-8', input='content',\n",
       "        lowercase=True, max_df=1.0, max_features=None, min_df=1,\n",
       "        ngram_range=(1, 1), preprocessor=None, stop_words='english',\n",
       "        strip_accents=None, token_pattern='(?u)\\\\b\\\\w\\\\w+\\\\b',\n",
       "        tokenizer=None, vocabulary=None)"
      ]
     },
     "execution_count": 11,
     "metadata": {},
     "output_type": "execute_result"
    }
   ],
   "source": [
    "# We use `fit` to learn the vocabulary of the reviews\n",
    "\n",
    "vectorizer.fit(train_X)"
   ]
  },
  {
   "cell_type": "code",
   "execution_count": 12,
   "metadata": {
    "collapsed": false
   },
   "outputs": [
    {
     "data": {
      "text/plain": [
       "['10',\n",
       " '11',\n",
       " '12',\n",
       " '15',\n",
       " '18',\n",
       " '2005',\n",
       " '2160',\n",
       " '2mp',\n",
       " '350',\n",
       " '3o',\n",
       " '42',\n",
       " '44',\n",
       " '45',\n",
       " '50',\n",
       " '510',\n",
       " '8525',\n",
       " '8530',\n",
       " 'ability',\n",
       " 'able',\n",
       " 'abound',\n",
       " 'absolutely',\n",
       " 'ac',\n",
       " 'accept',\n",
       " 'acceptable',\n",
       " 'access',\n",
       " 'accessoryone',\n",
       " 'activated',\n",
       " 'actually',\n",
       " 'adapters',\n",
       " 'addition',\n",
       " 'additional',\n",
       " 'address',\n",
       " 'adhesive',\n",
       " 'adorable',\n",
       " 'advertised',\n",
       " 'advise',\n",
       " 'aggravating',\n",
       " 'ago',\n",
       " 'alarm',\n",
       " 'allot',\n",
       " 'allowing',\n",
       " 'allows',\n",
       " 'alot',\n",
       " 'aluminum',\n",
       " 'amazed',\n",
       " 'amazing',\n",
       " 'amazon',\n",
       " 'amp',\n",
       " 'ample',\n",
       " 'angle',\n",
       " 'answer',\n",
       " 'antena',\n",
       " 'anti',\n",
       " 'apart',\n",
       " 'appealing',\n",
       " 'appearance',\n",
       " 'appears',\n",
       " 'appointments',\n",
       " 'area',\n",
       " 'armband',\n",
       " 'arrival',\n",
       " 'arrived',\n",
       " 'asia',\n",
       " 'att',\n",
       " 'attacked',\n",
       " 'attractive',\n",
       " 'audio',\n",
       " 'authentic',\n",
       " 'auto',\n",
       " 'avoid',\n",
       " 'avoiding',\n",
       " 'away',\n",
       " 'awesome',\n",
       " 'awful',\n",
       " 'awkward',\n",
       " 'awsome',\n",
       " 'background',\n",
       " 'backlight',\n",
       " 'bad',\n",
       " 'bar',\n",
       " 'barely',\n",
       " 'bargain',\n",
       " 'bars',\n",
       " 'basically',\n",
       " 'batteries',\n",
       " 'battery',\n",
       " 'beats',\n",
       " 'beautiful',\n",
       " 'beeping',\n",
       " 'believe',\n",
       " 'bells',\n",
       " 'belt',\n",
       " 'best',\n",
       " 'better',\n",
       " 'big',\n",
       " 'biggest',\n",
       " 'bills',\n",
       " 'bit',\n",
       " 'bitpim',\n",
       " 'black',\n",
       " 'blackberry',\n",
       " 'blacktop',\n",
       " 'bland',\n",
       " 'blue',\n",
       " 'bluetooth',\n",
       " 'bluetooths',\n",
       " 'book',\n",
       " 'bose',\n",
       " 'bother',\n",
       " 'bottowm',\n",
       " 'bought',\n",
       " 'bougth',\n",
       " 'break',\n",
       " 'breakage',\n",
       " 'breaking',\n",
       " 'breaks',\n",
       " 'broke',\n",
       " 'broken',\n",
       " 'browser',\n",
       " 'browsing',\n",
       " 'bt',\n",
       " 'bt250v',\n",
       " 'bt50',\n",
       " 'bubbling',\n",
       " 'build',\n",
       " 'built',\n",
       " 'bulky',\n",
       " 'bumpers',\n",
       " 'buttons',\n",
       " 'buy',\n",
       " 'buyers',\n",
       " 'buying',\n",
       " 'buyit',\n",
       " 'buzzing',\n",
       " 'ca',\n",
       " 'cable',\n",
       " 'cables',\n",
       " 'calls',\n",
       " 'came',\n",
       " 'camera',\n",
       " 'canal',\n",
       " 'cancellation',\n",
       " 'cancelling',\n",
       " 'capability',\n",
       " 'capacity',\n",
       " 'car',\n",
       " 'card',\n",
       " 'care',\n",
       " 'careful',\n",
       " 'carriers',\n",
       " 'carries',\n",
       " 'carry',\n",
       " 'case',\n",
       " 'cases',\n",
       " 'casing',\n",
       " 'cassette',\n",
       " 'cat',\n",
       " 'catching',\n",
       " 'caused',\n",
       " 'causing',\n",
       " 'cbr',\n",
       " 'cell',\n",
       " 'cellular',\n",
       " 'cent',\n",
       " 'certainly',\n",
       " 'changing',\n",
       " 'channel',\n",
       " 'charge',\n",
       " 'charged',\n",
       " 'charger',\n",
       " 'charm',\n",
       " 'cheap',\n",
       " 'cheaply',\n",
       " 'cheapy',\n",
       " 'check',\n",
       " 'checked',\n",
       " 'chinese',\n",
       " 'choice',\n",
       " 'cingular',\n",
       " 'clarity',\n",
       " 'clear',\n",
       " 'clearer',\n",
       " 'clearly',\n",
       " 'clicks',\n",
       " 'clip',\n",
       " 'clipping',\n",
       " 'clips',\n",
       " 'clock',\n",
       " 'color',\n",
       " 'colored',\n",
       " 'come',\n",
       " 'comes',\n",
       " 'comfort',\n",
       " 'comfortable',\n",
       " 'comfortably',\n",
       " 'coming',\n",
       " 'comments',\n",
       " 'communicate',\n",
       " 'communications',\n",
       " 'commuter',\n",
       " 'company',\n",
       " 'compared',\n",
       " 'compete',\n",
       " 'complain',\n",
       " 'complaint',\n",
       " 'complaints',\n",
       " 'completely',\n",
       " 'computer',\n",
       " 'concrete',\n",
       " 'conditions',\n",
       " 'confortable',\n",
       " 'connect',\n",
       " 'connected',\n",
       " 'connection',\n",
       " 'constantly',\n",
       " 'constructed',\n",
       " 'construction',\n",
       " 'consumer',\n",
       " 'contact',\n",
       " 'contacted',\n",
       " 'contacting',\n",
       " 'contacts',\n",
       " 'continues',\n",
       " 'conversation',\n",
       " 'conversations',\n",
       " 'cool',\n",
       " 'copier',\n",
       " 'costs',\n",
       " 'couldn',\n",
       " 'counter',\n",
       " 'counterfeit',\n",
       " 'couple',\n",
       " 'coupon',\n",
       " 'cover',\n",
       " 'covered',\n",
       " 'cracked',\n",
       " 'crap',\n",
       " 'creaks',\n",
       " 'cumbersome',\n",
       " 'currently',\n",
       " 'curve',\n",
       " 'customer',\n",
       " 'cut',\n",
       " 'cute',\n",
       " 'cutouts',\n",
       " 'd807',\n",
       " 'damage',\n",
       " 'darn',\n",
       " 'data',\n",
       " 'date',\n",
       " 'day',\n",
       " 'days',\n",
       " 'dead',\n",
       " 'deal',\n",
       " 'decade',\n",
       " 'decent',\n",
       " 'decision',\n",
       " 'defect',\n",
       " 'defective',\n",
       " 'deffinitely',\n",
       " 'definitely',\n",
       " 'definitly',\n",
       " 'delay',\n",
       " 'described',\n",
       " 'description',\n",
       " 'design',\n",
       " 'designed',\n",
       " 'designs',\n",
       " 'despite',\n",
       " 'destroying',\n",
       " 'detachable',\n",
       " 'detailed',\n",
       " 'development',\n",
       " 'device',\n",
       " 'did',\n",
       " 'didn',\n",
       " 'died',\n",
       " 'dieing',\n",
       " 'different',\n",
       " 'difficult',\n",
       " 'directed',\n",
       " 'directly',\n",
       " 'disappoint',\n",
       " 'disappointed',\n",
       " 'disappointing',\n",
       " 'disappointment',\n",
       " 'discarded',\n",
       " 'discomfort',\n",
       " 'discount',\n",
       " 'disgusting',\n",
       " 'display',\n",
       " 'displeased',\n",
       " 'dissapointed',\n",
       " 'dissapointing',\n",
       " 'distracting',\n",
       " 'division',\n",
       " 'docking',\n",
       " 'does',\n",
       " 'doesn',\n",
       " 'doing',\n",
       " 'dollar',\n",
       " 'don',\n",
       " 'dont',\n",
       " 'download',\n",
       " 'dozens',\n",
       " 'drain',\n",
       " 'drained',\n",
       " 'drains',\n",
       " 'drawback',\n",
       " 'driving',\n",
       " 'droid',\n",
       " 'drop',\n",
       " 'dropped',\n",
       " 'dropping',\n",
       " 'drops',\n",
       " 'dual',\n",
       " 'durable',\n",
       " 'dying',\n",
       " 'e2',\n",
       " 'ear',\n",
       " 'earbud',\n",
       " 'earbugs',\n",
       " 'eargels',\n",
       " 'earlier',\n",
       " 'earpad',\n",
       " 'earphone',\n",
       " 'earpiece',\n",
       " 'earpieces',\n",
       " 'ears',\n",
       " 'earset',\n",
       " 'ease',\n",
       " 'easier',\n",
       " 'easily',\n",
       " 'easy',\n",
       " 'echo',\n",
       " 'effect',\n",
       " 'elegant',\n",
       " 'embarassing',\n",
       " 'end',\n",
       " 'ended',\n",
       " 'ends',\n",
       " 'enjoy',\n",
       " 'enter',\n",
       " 'entire',\n",
       " 'env',\n",
       " 'era',\n",
       " 'ergonomic',\n",
       " 'ericson',\n",
       " 'especially',\n",
       " 'essentially',\n",
       " 'europe',\n",
       " 'eventually',\n",
       " 'exactly',\n",
       " 'excelent',\n",
       " 'excellent',\n",
       " 'exceptional',\n",
       " 'excessive',\n",
       " 'exchange',\n",
       " 'exchanged',\n",
       " 'excited',\n",
       " 'exclaim',\n",
       " 'excrutiatingly',\n",
       " 'expect',\n",
       " 'expectations',\n",
       " 'expected',\n",
       " 'expensive',\n",
       " 'experience',\n",
       " 'experienced',\n",
       " 'explain',\n",
       " 'extended',\n",
       " 'exterior',\n",
       " 'extra',\n",
       " 'extremely',\n",
       " 'eye',\n",
       " 'fabulous',\n",
       " 'face',\n",
       " 'faceplates',\n",
       " 'failed',\n",
       " 'fails',\n",
       " 'fall',\n",
       " 'family',\n",
       " 'fantastic',\n",
       " 'far',\n",
       " 'fast',\n",
       " 'faster',\n",
       " 'father',\n",
       " 'feature',\n",
       " 'features',\n",
       " 'feel',\n",
       " 'feels',\n",
       " 'feet',\n",
       " 'felt',\n",
       " 'figure',\n",
       " 'file',\n",
       " 'finally',\n",
       " 'finds',\n",
       " 'fine',\n",
       " 'fingers',\n",
       " 'finished',\n",
       " 'fit',\n",
       " 'fits',\n",
       " 'flash',\n",
       " 'flaw',\n",
       " 'flawed',\n",
       " 'flawless',\n",
       " 'flawlessly',\n",
       " 'flaws',\n",
       " 'flimsy',\n",
       " 'flip',\n",
       " 'fliptop',\n",
       " 'floor',\n",
       " 'floppy',\n",
       " 'flops',\n",
       " 'fond',\n",
       " 'forced',\n",
       " 'forever',\n",
       " 'forgeries',\n",
       " 'forget',\n",
       " 'forgot',\n",
       " 'form',\n",
       " 'fraction',\n",
       " 'free',\n",
       " 'freeway',\n",
       " 'freezes',\n",
       " 'frequently4',\n",
       " 'frequentyly',\n",
       " 'friendly',\n",
       " 'friends',\n",
       " 'frog',\n",
       " 'fry',\n",
       " 'ft',\n",
       " 'fulfills',\n",
       " 'function',\n",
       " 'functionality',\n",
       " 'funny',\n",
       " 'gadgets',\n",
       " 'games',\n",
       " 'garbage',\n",
       " 'garbled',\n",
       " 'gave',\n",
       " 'gels',\n",
       " 'gets',\n",
       " 'getting',\n",
       " 'gimmick',\n",
       " 'girl',\n",
       " 'given',\n",
       " 'glad',\n",
       " 'glare',\n",
       " 'glasses',\n",
       " 'glove',\n",
       " 'glued',\n",
       " 'goes',\n",
       " 'going',\n",
       " 'gonna',\n",
       " 'good',\n",
       " 'good7',\n",
       " 'got',\n",
       " 'gotten',\n",
       " 'graphics',\n",
       " 'great',\n",
       " 'greater',\n",
       " 'grey',\n",
       " 'grtting',\n",
       " 'h500',\n",
       " 'hand',\n",
       " 'handheld',\n",
       " 'hands',\n",
       " 'handset',\n",
       " 'handsfree',\n",
       " 'handy',\n",
       " 'happens',\n",
       " 'happier',\n",
       " 'happy',\n",
       " 'hard',\n",
       " 'hardly',\n",
       " 'hat',\n",
       " 'hate',\n",
       " 'haul',\n",
       " 'haven',\n",
       " 'having',\n",
       " 'headphones',\n",
       " 'headset',\n",
       " 'headsets',\n",
       " 'hear',\n",
       " 'helpful',\n",
       " 'high',\n",
       " 'highest',\n",
       " 'highly',\n",
       " 'highy',\n",
       " 'hit',\n",
       " 'hold',\n",
       " 'holding',\n",
       " 'holds',\n",
       " 'holster',\n",
       " 'home',\n",
       " 'hook',\n",
       " 'horrible',\n",
       " 'hot',\n",
       " 'hour',\n",
       " 'hours',\n",
       " 'hoursthe',\n",
       " 'house',\n",
       " 'hs850',\n",
       " 'huge',\n",
       " 'hurt',\n",
       " 'iam',\n",
       " 'idea',\n",
       " 'ideal',\n",
       " 'ill',\n",
       " 'im',\n",
       " 'images',\n",
       " 'immediately',\n",
       " 'important',\n",
       " 'impressed',\n",
       " 'impressive',\n",
       " 'improper',\n",
       " 'improvement',\n",
       " 'inches',\n",
       " 'included',\n",
       " 'incoming',\n",
       " 'increase',\n",
       " 'incrediable',\n",
       " 'incredible',\n",
       " 'incredibly',\n",
       " 'industrial',\n",
       " 'inexcusable',\n",
       " 'inexpensive',\n",
       " 'inform',\n",
       " 'infra',\n",
       " 'infuriating',\n",
       " 'insert',\n",
       " 'inside',\n",
       " 'install',\n",
       " 'installed',\n",
       " 'instead',\n",
       " 'instruction',\n",
       " 'instructions',\n",
       " 'integrated',\n",
       " 'interested',\n",
       " 'interface',\n",
       " 'internet',\n",
       " 'invented',\n",
       " 'investment',\n",
       " 'iphone',\n",
       " 'ipod',\n",
       " 'ipods',\n",
       " 'ir',\n",
       " 'irda',\n",
       " 'isn',\n",
       " 'issues',\n",
       " 'item',\n",
       " 'items',\n",
       " 'jabra',\n",
       " 'jabra350',\n",
       " 'jack',\n",
       " 'jawbone',\n",
       " 'jiggle',\n",
       " 'job',\n",
       " 'joke',\n",
       " 'juice',\n",
       " 'junk',\n",
       " 'just',\n",
       " 'jx',\n",
       " 'keen',\n",
       " 'keeping',\n",
       " 'kept',\n",
       " 'key',\n",
       " 'keyboard',\n",
       " 'keypad',\n",
       " 'keys',\n",
       " 'kind',\n",
       " 'kitchen',\n",
       " 'knock',\n",
       " 'know',\n",
       " 'knows',\n",
       " 'krussel',\n",
       " 'l7c',\n",
       " 'lacking',\n",
       " 'land',\n",
       " 'lap',\n",
       " 'laptop',\n",
       " 'large',\n",
       " 'lasting',\n",
       " 'lasts',\n",
       " 'latch',\n",
       " 'later',\n",
       " 'laughing',\n",
       " 'learned',\n",
       " 'leather',\n",
       " 'lense',\n",
       " 'lesson',\n",
       " 'let',\n",
       " 'letting',\n",
       " 'lg',\n",
       " 'life',\n",
       " 'light',\n",
       " 'lights',\n",
       " 'lightweight',\n",
       " 'like',\n",
       " 'line',\n",
       " 'linking',\n",
       " 'linksys',\n",
       " 'listener',\n",
       " 'lit',\n",
       " 'literally',\n",
       " 'little',\n",
       " 'living',\n",
       " 'll',\n",
       " 'loads',\n",
       " 'lock',\n",
       " 'locked',\n",
       " 'locks',\n",
       " 'logitech',\n",
       " 'long',\n",
       " 'longer',\n",
       " 'look',\n",
       " 'looking',\n",
       " 'looks',\n",
       " 'loose',\n",
       " 'looses',\n",
       " 'lost',\n",
       " 'lot',\n",
       " 'lots',\n",
       " 'loud',\n",
       " 'loudest',\n",
       " 'loudspeaker',\n",
       " 'love',\n",
       " 'loves',\n",
       " 'low',\n",
       " 'luck',\n",
       " 'magnetic',\n",
       " 'mail',\n",
       " 'maintain',\n",
       " 'maintains',\n",
       " 'major',\n",
       " 'majority',\n",
       " 'make',\n",
       " 'makes',\n",
       " 'manual',\n",
       " 'market',\n",
       " 'means',\n",
       " 'mechanism',\n",
       " 'media',\n",
       " 'mediocre',\n",
       " 'mega',\n",
       " 'megapixels',\n",
       " 'memory',\n",
       " 'mention',\n",
       " 'mentioned',\n",
       " 'menus',\n",
       " 'mere',\n",
       " 'mess',\n",
       " 'message',\n",
       " 'messages',\n",
       " 'messaging',\n",
       " 'messes',\n",
       " 'metro',\n",
       " 'mic',\n",
       " 'microphone',\n",
       " 'microsoft',\n",
       " 'mind',\n",
       " 'mini',\n",
       " 'mins',\n",
       " 'minute',\n",
       " 'minutes',\n",
       " 'missed',\n",
       " 'mobile',\n",
       " 'model',\n",
       " 'modest',\n",
       " 'money',\n",
       " 'month',\n",
       " 'months',\n",
       " 'moto',\n",
       " 'motorola',\n",
       " 'moving',\n",
       " 'mp3',\n",
       " 'mp3s',\n",
       " 'muddy',\n",
       " 'muffled',\n",
       " 'nano',\n",
       " 'navigate',\n",
       " 'near',\n",
       " 'need',\n",
       " 'needed',\n",
       " 'needs',\n",
       " 'negatively',\n",
       " 'network',\n",
       " 'new',\n",
       " 'nice',\n",
       " 'nicely',\n",
       " 'night',\n",
       " 'nightmare',\n",
       " 'noise',\n",
       " 'noises',\n",
       " 'nokia',\n",
       " 'normal',\n",
       " 'normally',\n",
       " 'note',\n",
       " 'noted',\n",
       " 'notice',\n",
       " 'number',\n",
       " 'numbers',\n",
       " 'numerous',\n",
       " 'nyc',\n",
       " 'obviously',\n",
       " 'occupied',\n",
       " 'odd',\n",
       " 'oem',\n",
       " 'offers',\n",
       " 'official',\n",
       " 'oh',\n",
       " 'ok',\n",
       " 'old',\n",
       " 'ones',\n",
       " 'online',\n",
       " 'open',\n",
       " 'operate',\n",
       " 'option',\n",
       " 'options',\n",
       " 'order',\n",
       " 'ordered',\n",
       " 'ordering',\n",
       " 'organizational',\n",
       " 'original',\n",
       " 'originally',\n",
       " 'outgoing',\n",
       " 'outlet',\n",
       " 'outside',\n",
       " 'overall',\n",
       " 'overly',\n",
       " 'overnite',\n",
       " 'override',\n",
       " 'owned',\n",
       " 'owner',\n",
       " 'owning',\n",
       " 'package',\n",
       " 'packaged',\n",
       " 'pad',\n",
       " 'pads',\n",
       " 'pair',\n",
       " 'paired',\n",
       " 'pairing',\n",
       " 'palm',\n",
       " 'palms',\n",
       " 'particular',\n",
       " 'party',\n",
       " 'patient',\n",
       " 'pause',\n",
       " 'pay',\n",
       " 'pc',\n",
       " 'pcs',\n",
       " 'pda',\n",
       " 'peachy',\n",
       " 'peeling',\n",
       " 'penny',\n",
       " 'people',\n",
       " 'perfectly',\n",
       " 'performance',\n",
       " 'performed',\n",
       " 'periods',\n",
       " 'person',\n",
       " 'petroleum',\n",
       " 'phone',\n",
       " 'phones',\n",
       " 'pics',\n",
       " 'picture',\n",
       " 'pictures',\n",
       " 'piece',\n",
       " 'pitiful',\n",
       " 'pixel',\n",
       " 'place',\n",
       " 'placed',\n",
       " 'plan',\n",
       " 'plans',\n",
       " 'plantronics',\n",
       " 'plantronincs',\n",
       " 'plastic',\n",
       " 'player',\n",
       " 'pleased',\n",
       " 'plenty',\n",
       " 'plug',\n",
       " 'plugged',\n",
       " 'plugs',\n",
       " 'plus',\n",
       " 'pocket',\n",
       " 'point',\n",
       " 'poor',\n",
       " 'poorly',\n",
       " 'port',\n",
       " 'portraits',\n",
       " 'possesed',\n",
       " 'posted',\n",
       " 'potentially',\n",
       " 'practical',\n",
       " 'practice',\n",
       " 'preferably',\n",
       " 'premium',\n",
       " 'prettier',\n",
       " 'pretty',\n",
       " 'previous',\n",
       " 'price',\n",
       " 'priced',\n",
       " 'pricing',\n",
       " 'prime',\n",
       " 'probably',\n",
       " 'problem',\n",
       " 'problems',\n",
       " 'procedure',\n",
       " 'procedures',\n",
       " 'produce',\n",
       " 'product',\n",
       " 'products',\n",
       " 'program',\n",
       " 'promptly',\n",
       " 'properly',\n",
       " 'pros',\n",
       " 'protected',\n",
       " 'protection',\n",
       " 'protective',\n",
       " 'protector',\n",
       " 'protects',\n",
       " 'provided',\n",
       " 'psyched',\n",
       " 'pull',\n",
       " 'purchase',\n",
       " 'purchased',\n",
       " 'purchasing',\n",
       " 'purpose',\n",
       " 'push',\n",
       " 'pushed',\n",
       " 'quality',\n",
       " 'quick',\n",
       " 'quickly',\n",
       " 'quit',\n",
       " 'quite',\n",
       " 'r450',\n",
       " 'randomly',\n",
       " 'range',\n",
       " 'rate',\n",
       " 'rated',\n",
       " 'rating',\n",
       " 'razor',\n",
       " 'razr',\n",
       " 'reaching',\n",
       " 'read',\n",
       " 'reading',\n",
       " 'ready',\n",
       " 'real',\n",
       " 'realize',\n",
       " 'really',\n",
       " 'reason',\n",
       " 'reasonable',\n",
       " 'reasonably',\n",
       " 'reboots',\n",
       " 'receipt',\n",
       " 'receive',\n",
       " 'received',\n",
       " 'receiving',\n",
       " 'reception',\n",
       " 'recessed',\n",
       " 'recharge',\n",
       " 'recieve',\n",
       " 'recognition',\n",
       " 'recommend',\n",
       " 'recommended',\n",
       " 'red',\n",
       " 'refund',\n",
       " 'refurb',\n",
       " 'refuse',\n",
       " 'refused',\n",
       " 'regarding',\n",
       " 'regret',\n",
       " 'regretted',\n",
       " 'relatively',\n",
       " 'remorse',\n",
       " 'removing',\n",
       " 'renders',\n",
       " 'reoccure',\n",
       " 'replace',\n",
       " 'replacement',\n",
       " 'requirements',\n",
       " 'research',\n",
       " 'resistant',\n",
       " 'resolution',\n",
       " 'respect',\n",
       " 'restart',\n",
       " 'restored',\n",
       " 'return',\n",
       " 'returning',\n",
       " 'reverse',\n",
       " 'reversible',\n",
       " 'review',\n",
       " 'reviews',\n",
       " 'right',\n",
       " 'riingtones',\n",
       " 'ringtones',\n",
       " 'rip',\n",
       " 'ripped',\n",
       " 'risk',\n",
       " 'roam',\n",
       " 'rocks',\n",
       " 'room',\n",
       " 'rotating',\n",
       " 'row',\n",
       " 'rubber',\n",
       " 'run',\n",
       " 'runs',\n",
       " 's710a',\n",
       " 'saggy',\n",
       " 'said',\n",
       " 'samsung',\n",
       " 'sanyo',\n",
       " 'satisfied',\n",
       " 'save',\n",
       " 'saved',\n",
       " 'say',\n",
       " 'saying',\n",
       " 'says',\n",
       " 'sch',\n",
       " 'scratch',\n",
       " 'scratched',\n",
       " 'screen',\n",
       " 'screens',\n",
       " 'seamlessly',\n",
       " 'searched',\n",
       " 'seconds',\n",
       " 'secure',\n",
       " 'securely',\n",
       " 'securly',\n",
       " 'self',\n",
       " 'seller',\n",
       " 'send',\n",
       " 'sending',\n",
       " 'sensitive',\n",
       " 'sensor',\n",
       " 'sent',\n",
       " 'seperated',\n",
       " 'series',\n",
       " 'seriously',\n",
       " 'service',\n",
       " 'set',\n",
       " 'setting',\n",
       " 'setup',\n",
       " 'severe',\n",
       " 'shape',\n",
       " 'sharp',\n",
       " 'shield',\n",
       " 'shifting',\n",
       " 'shine',\n",
       " 'shiny',\n",
       " 'shipped',\n",
       " 'shipping',\n",
       " 'shooters',\n",
       " 'short',\n",
       " 'shots',\n",
       " 'shouldve',\n",
       " 'shouting',\n",
       " 'sides',\n",
       " 'signal',\n",
       " 'signals',\n",
       " 'significantly',\n",
       " 'sim',\n",
       " 'simple',\n",
       " 'simpler',\n",
       " 'simply',\n",
       " 'sins',\n",
       " 'size',\n",
       " 'sizes',\n",
       " 'sketchy',\n",
       " 'skip',\n",
       " 'skype',\n",
       " 'sleek',\n",
       " 'slid',\n",
       " 'slider',\n",
       " 'slim',\n",
       " 'slow',\n",
       " 'slowly',\n",
       " 'small',\n",
       " 'smartphone',\n",
       " 'smell',\n",
       " 'smoking',\n",
       " 'smoothly',\n",
       " 'smudged',\n",
       " 'soft',\n",
       " 'software',\n",
       " 'sold',\n",
       " 'solid',\n",
       " 'somewhat',\n",
       " 'son',\n",
       " 'songs',\n",
       " 'sony',\n",
       " 'sooner',\n",
       " 'sos',\n",
       " 'sound',\n",
       " 'sounded',\n",
       " 'sounds',\n",
       " 'span',\n",
       " 'speakerphone',\n",
       " 'specially',\n",
       " 'specs',\n",
       " ...]"
      ]
     },
     "execution_count": 12,
     "metadata": {},
     "output_type": "execute_result"
    }
   ],
   "source": [
    "# The bag-of-words\n",
    "\n",
    "vectorizer.get_feature_names()"
   ]
  },
  {
   "cell_type": "code",
   "execution_count": 13,
   "metadata": {
    "collapsed": false
   },
   "outputs": [],
   "source": [
    "# We use `tranform` to generate the sample X word matrix - one column per feature (here, a word)\n",
    "\n",
    "train_X_transformed = vectorizer.transform(train_X)\n",
    "test_X_transformed = vectorizer.transform(test_X)"
   ]
  },
  {
   "cell_type": "code",
   "execution_count": 14,
   "metadata": {
    "collapsed": false
   },
   "outputs": [
    {
     "data": {
      "text/plain": [
       "<600x1200 sparse matrix of type '<class 'numpy.int64'>'\n",
       "\twith 2859 stored elements in Compressed Sparse Row format>"
      ]
     },
     "execution_count": 14,
     "metadata": {},
     "output_type": "execute_result"
    }
   ],
   "source": [
    "train_X_transformed"
   ]
  },
  {
   "cell_type": "markdown",
   "metadata": {
    "collapsed": true
   },
   "source": [
    "While dense matrices store every entry in the matrix, sparse matrices only store the nonzero entries.  Sparse matrices don't have a lot of extra features, and some algorithms may not work for them so you use them when you need to work with matrices that would be too big for the computer to handle them, but they are mostly zero, so they compress easily.  You can convert from sparse matrices to dense matrices with `.todense()`"
   ]
  },
  {
   "cell_type": "code",
   "execution_count": 15,
   "metadata": {
    "collapsed": false
   },
   "outputs": [
    {
     "data": {
      "text/plain": [
       "matrix([[0, 0, 0, ..., 0, 0, 0],\n",
       "        [0, 0, 0, ..., 0, 0, 0],\n",
       "        [0, 0, 0, ..., 0, 0, 0],\n",
       "        ..., \n",
       "        [0, 0, 0, ..., 0, 0, 0],\n",
       "        [0, 0, 0, ..., 0, 0, 0],\n",
       "        [0, 0, 0, ..., 0, 0, 0]], dtype=int64)"
      ]
     },
     "execution_count": 15,
     "metadata": {},
     "output_type": "execute_result"
    }
   ],
   "source": [
    "train_X_transformed.todense()"
   ]
  },
  {
   "cell_type": "markdown",
   "metadata": {},
   "source": [
    "## Random Forest"
   ]
  },
  {
   "cell_type": "markdown",
   "metadata": {},
   "source": [
    "We can now build a random forest model to predict \"sentiment\"."
   ]
  },
  {
   "cell_type": "code",
   "execution_count": 16,
   "metadata": {
    "collapsed": false
   },
   "outputs": [
    {
     "data": {
      "text/plain": [
       "array([ 0.7890099 ,  0.8369    ,  0.80257576])"
      ]
     },
     "execution_count": 16,
     "metadata": {},
     "output_type": "execute_result"
    }
   ],
   "source": [
    "model = ensemble.RandomForestClassifier(n_estimators = 5)\n",
    "\n",
    "cross_validation.cross_val_score(model, train_X_transformed, train_y, scoring = 'roc_auc')"
   ]
  },
  {
   "cell_type": "code",
   "execution_count": 17,
   "metadata": {
    "collapsed": false
   },
   "outputs": [
    {
     "data": {
      "text/plain": [
       "RandomForestClassifier(bootstrap=True, class_weight=None, criterion='gini',\n",
       "            max_depth=None, max_features='auto', max_leaf_nodes=None,\n",
       "            min_samples_leaf=1, min_samples_split=2,\n",
       "            min_weight_fraction_leaf=0.0, n_estimators=5, n_jobs=1,\n",
       "            oob_score=False, random_state=None, verbose=0,\n",
       "            warm_start=False)"
      ]
     },
     "execution_count": 17,
     "metadata": {},
     "output_type": "execute_result"
    }
   ],
   "source": [
    "model.fit(train_X_transformed, train_y)"
   ]
  },
  {
   "cell_type": "code",
   "execution_count": 18,
   "metadata": {
    "collapsed": false
   },
   "outputs": [
    {
     "data": {
      "text/plain": [
       "0.96166666666666667"
      ]
     },
     "execution_count": 18,
     "metadata": {},
     "output_type": "execute_result"
    }
   ],
   "source": [
    "model.score(train_X_transformed, train_y)"
   ]
  },
  {
   "cell_type": "code",
   "execution_count": 19,
   "metadata": {
    "collapsed": false
   },
   "outputs": [
    {
     "data": {
      "image/png": "[encoded data removed]",
      "text/plain": [
       "<matplotlib.figure.Figure at 0xa438cf8>"
      ]
     },
     "metadata": {},
     "output_type": "display_data"
    }
   ],
   "source": [
    "train_y_hat = model.predict(train_X_transformed)\n",
    "\n",
    "fpr, tpr, thresholds = metrics.roc_curve(train_y, train_y_hat)\n",
    "\n",
    "plt.figure()\n",
    "plt.plot(fpr, tpr, label = 'ROC curve (area = %0.2f)' % metrics.auc(fpr, tpr))\n",
    "plt.plot([0, 1], [0, 1], 'k--')\n",
    "plt.xlim([.0, 1.])\n",
    "plt.ylim([.0, 1.1])\n",
    "plt.xlabel('FPR/Fall-out')\n",
    "plt.ylabel('TPR/Sensitivity')\n",
    "plt.title('Testing Sentiment ROC')\n",
    "plt.legend(loc = 'lower right')\n",
    "plt.show()"
   ]
  },
  {
   "cell_type": "code",
   "execution_count": 20,
   "metadata": {
    "collapsed": false
   },
   "outputs": [
    {
     "data": {
      "text/plain": [
       "0.73499999999999999"
      ]
     },
     "execution_count": 20,
     "metadata": {},
     "output_type": "execute_result"
    }
   ],
   "source": [
    "model.score(test_X_transformed, test_y)"
   ]
  },
  {
   "cell_type": "code",
   "execution_count": 21,
   "metadata": {
    "collapsed": false
   },
   "outputs": [
    {
     "data": {
      "image/png": "[encoded data removed]",
      "text/plain": [
       "<matplotlib.figure.Figure at 0xae22630>"
      ]
     },
     "metadata": {},
     "output_type": "display_data"
    }
   ],
   "source": [
    "test_y_hat = model.predict(test_X_transformed)\n",
    "\n",
    "fpr, tpr, thresholds = metrics.roc_curve(test_y, test_y_hat)\n",
    "\n",
    "plt.figure()\n",
    "plt.plot(fpr, tpr, label = 'ROC curve (area = %0.2f)' % metrics.auc(fpr, tpr))\n",
    "plt.plot([0, 1], [0, 1], 'k--')\n",
    "plt.xlim([.0, 1.])\n",
    "plt.ylim([.0, 1.1])\n",
    "plt.xlabel('FPR/Fall-out')\n",
    "plt.ylabel('TPR/Sensitivity')\n",
    "plt.title('Training Sentiment ROC')\n",
    "plt.legend(loc = 'lower right')\n",
    "plt.show()"
   ]
  },
  {
   "cell_type": "markdown",
   "metadata": {},
   "source": [
    "# Lab - TF-IDF"
   ]
  },
  {
   "cell_type": "markdown",
   "metadata": {
    "collapsed": true
   },
   "source": [
    "Directions: Redo the analysis above with `TfidfVectorizer` instead of `CountVectorizer`.  What do you get?\n",
    "\n",
    "(Check http://scikit-learn.org/stable/modules/generated/sklearn.feature_extraction.text.TfidfVectorizer.html as needed)"
   ]
  },
  {
   "cell_type": "code",
   "execution_count": 22,
   "metadata": {
    "collapsed": false
   },
   "outputs": [],
   "source": [
    "vectorizer = feature_extraction.text.TfidfVectorizer(stop_words = 'english')"
   ]
  },
  {
   "cell_type": "code",
   "execution_count": 23,
   "metadata": {
    "collapsed": false
   },
   "outputs": [
    {
     "data": {
      "text/plain": [
       "TfidfVectorizer(analyzer='word', binary=False, decode_error='strict',\n",
       "        dtype=<class 'numpy.int64'>, encoding='utf-8', input='content',\n",
       "        lowercase=True, max_df=1.0, max_features=None, min_df=1,\n",
       "        ngram_range=(1, 1), norm='l2', preprocessor=None, smooth_idf=True,\n",
       "        stop_words='english', strip_accents=None, sublinear_tf=False,\n",
       "        token_pattern='(?u)\\\\b\\\\w\\\\w+\\\\b', tokenizer=None, use_idf=True,\n",
       "        vocabulary=None)"
      ]
     },
     "execution_count": 23,
     "metadata": {},
     "output_type": "execute_result"
    }
   ],
   "source": [
    "vectorizer.fit(train_X)"
   ]
  },
  {
   "cell_type": "code",
   "execution_count": 24,
   "metadata": {
    "collapsed": true
   },
   "outputs": [],
   "source": [
    "train_X_transformed = vectorizer.transform(train_X)"
   ]
  },
  {
   "cell_type": "code",
   "execution_count": 25,
   "metadata": {
    "collapsed": true
   },
   "outputs": [],
   "source": [
    "test_X_transformed = vectorizer.transform(test_X)"
   ]
  },
  {
   "cell_type": "code",
   "execution_count": 26,
   "metadata": {
    "collapsed": false
   },
   "outputs": [
    {
     "data": {
      "text/plain": [
       "array([ 0.79326733,  0.7964    ,  0.81090909])"
      ]
     },
     "execution_count": 26,
     "metadata": {},
     "output_type": "execute_result"
    }
   ],
   "source": [
    "model = ensemble.RandomForestClassifier(n_estimators = 5)\n",
    "\n",
    "cross_validation.cross_val_score(model, train_X_transformed, train_y, scoring = 'roc_auc')"
   ]
  },
  {
   "cell_type": "code",
   "execution_count": 27,
   "metadata": {
    "collapsed": false
   },
   "outputs": [
    {
     "data": {
      "text/plain": [
       "RandomForestClassifier(bootstrap=True, class_weight=None, criterion='gini',\n",
       "            max_depth=None, max_features='auto', max_leaf_nodes=None,\n",
       "            min_samples_leaf=1, min_samples_split=2,\n",
       "            min_weight_fraction_leaf=0.0, n_estimators=5, n_jobs=1,\n",
       "            oob_score=False, random_state=None, verbose=0,\n",
       "            warm_start=False)"
      ]
     },
     "execution_count": 27,
     "metadata": {},
     "output_type": "execute_result"
    }
   ],
   "source": [
    "model.fit(train_X_transformed, train_y)"
   ]
  },
  {
   "cell_type": "code",
   "execution_count": 28,
   "metadata": {
    "collapsed": false
   },
   "outputs": [
    {
     "data": {
      "text/plain": [
       "0.96666666666666667"
      ]
     },
     "execution_count": 28,
     "metadata": {},
     "output_type": "execute_result"
    }
   ],
   "source": [
    "model.score(train_X_transformed, train_y)"
   ]
  },
  {
   "cell_type": "code",
   "execution_count": 29,
   "metadata": {
    "collapsed": false
   },
   "outputs": [
    {
     "data": {
      "image/png": "[encoded data removed]",
      "text/plain": [
       "<matplotlib.figure.Figure at 0xb870c18>"
      ]
     },
     "metadata": {},
     "output_type": "display_data"
    }
   ],
   "source": [
    "train_y_hat = model.predict(train_X_transformed)\n",
    "\n",
    "fpr, tpr, thresholds = metrics.roc_curve(train_y, train_y_hat)\n",
    "\n",
    "plt.figure()\n",
    "plt.plot(fpr, tpr, label = 'ROC curve (area = %0.2f)' % metrics.auc(fpr, tpr))\n",
    "plt.plot([0, 1], [0, 1], 'k--')\n",
    "plt.xlim([.0, 1.])\n",
    "plt.ylim([.0, 1.1])\n",
    "plt.xlabel('FPR/Fall-out')\n",
    "plt.ylabel('TPR/Sensitivity')\n",
    "plt.title('Testing Sentiment ROC')\n",
    "plt.legend(loc = 'lower right')\n",
    "plt.show()"
   ]
  },
  {
   "cell_type": "code",
   "execution_count": 30,
   "metadata": {
    "collapsed": false
   },
   "outputs": [
    {
     "data": {
      "text/plain": [
       "0.71250000000000002"
      ]
     },
     "execution_count": 30,
     "metadata": {},
     "output_type": "execute_result"
    }
   ],
   "source": [
    "model.score(test_X_transformed, test_y)"
   ]
  },
  {
   "cell_type": "code",
   "execution_count": 31,
   "metadata": {
    "collapsed": false
   },
   "outputs": [
    {
     "data": {
      "image/png": "[encoded data removed]",
      "text/plain": [
       "<matplotlib.figure.Figure at 0xb8b27f0>"
      ]
     },
     "metadata": {},
     "output_type": "display_data"
    }
   ],
   "source": [
    "test_y_hat = model.predict(test_X_transformed)\n",
    "\n",
    "fpr, tpr, thresholds = metrics.roc_curve(test_y, test_y_hat)\n",
    "\n",
    "plt.figure()\n",
    "plt.plot(fpr, tpr, label = 'ROC curve (area = %0.2f)' % metrics.auc(fpr, tpr))\n",
    "plt.plot([0, 1], [0, 1], 'k--')\n",
    "plt.xlim([.0, 1.])\n",
    "plt.ylim([.0, 1.1])\n",
    "plt.xlabel('FPR/Fall-out')\n",
    "plt.ylabel('TPR/Sensitivity')\n",
    "plt.title('Training Sentiment ROC')\n",
    "plt.legend(loc = 'lower right')\n",
    "plt.show()"
   ]
  }
 ],
 "metadata": {
  "kernelspec": {
   "display_name": "Python 2",
   "language": "python",
   "name": "python2"
  },
  "language_info": {
   "codemirror_mode": {
    "name": "ipython",
    "version": 2
   },
   "file_extension": ".py",
   "mimetype": "text/x-python",
   "name": "python",
   "nbconvert_exporter": "python",
   "pygments_lexer": "ipython2",
   "version": "2.7.11"
  }
 },
 "nbformat": 4,
 "nbformat_minor": 0
}
