{
 "cells": [
  {
   "cell_type": "markdown",
   "metadata": {},
   "source": [
    "# DS-SF-23 | Codealong and Independent Practice 17 | Databases with `pandas` | Answer Key"
   ]
  },
  {
   "cell_type": "code",
   "execution_count": null,
   "metadata": {
    "collapsed": false
   },
   "outputs": [],
   "source": [
    "import os\n",
    "import numpy as np\n",
    "import pandas as pd\n",
    "import sqlite3\n",
    "\n",
    "pd.set_option('display.max_rows', 10)\n",
    "pd.set_option('display.notebook_repr_html', True)\n",
    "pd.set_option('display.max_columns', 10)"
   ]
  },
  {
   "cell_type": "markdown",
   "metadata": {},
   "source": [
    "## Accessing databases from `pandas`"
   ]
  },
  {
   "cell_type": "markdown",
   "metadata": {},
   "source": [
    "While databases provide many analytical capabilities, often it's useful to pull the data back into Python for more flexible programming.\n",
    "\n",
    "Large, fixed operations would be more efficient in a database, but `pandas` allows for interactive processing:\n",
    "- E.g., if you just want to aggregate login or sales data to present a report or dashboard, this operation is operating on a large dataset and not often changing.\n",
    "- However, if we want to investigate the login or sales data further and ask more interactive questions, then using Python would come in very handy.\n",
    "\n",
    "`pandas` can be used to connect to most relational databases.\n",
    "\n",
    "Here, we will create and connect to a `SQLite` database.  `SQLite` creates portable relational databases saved in a single file.\n",
    "\n",
    "These databases are stored in a very efficient manner and allow fast querying, making them ideal for small databases or databases that need to be moved across machines.\n",
    "\n",
    "We can create a `SQLite` database as follows:"
   ]
  },
  {
   "cell_type": "code",
   "execution_count": null,
   "metadata": {
    "collapsed": true
   },
   "outputs": [],
   "source": [
    "db = sqlite3.connect('sf-dat-21-test.db')"
   ]
  },
  {
   "cell_type": "markdown",
   "metadata": {
    "collapsed": true
   },
   "source": [
    "This creates a file, `sf-dat-21-test.db`, which will store our SQL database."
   ]
  },
  {
   "cell_type": "markdown",
   "metadata": {},
   "source": [
    "## Writing data into a `SQLite` database"
   ]
  },
  {
   "cell_type": "markdown",
   "metadata": {},
   "source": [
    "Data in `pandas` can be loaded into a relational database.  For the most part, `pandas` can use the databases column information to infer the schema for the table it creates.\n",
    "\n",
    "Let's return to the Rossmann sales data and load it into our database."
   ]
  },
  {
   "cell_type": "code",
   "execution_count": null,
   "metadata": {
    "collapsed": false
   },
   "outputs": [],
   "source": [
    "df = pd.read_csv(os.path.join('..', 'datasets', 'rossmann-sales.csv'),\n",
    "                 skipinitialspace = True,\n",
    "                 low_memory = False)"
   ]
  },
  {
   "cell_type": "code",
   "execution_count": null,
   "metadata": {
    "collapsed": false
   },
   "outputs": [],
   "source": [
    "df"
   ]
  },
  {
   "cell_type": "markdown",
   "metadata": {},
   "source": [
    "Data is moved to the database with the `to_sql` command, similar to the `to_csv` command.\n",
    "\n",
    "`to_sql` takes several arguments:\n",
    "- name - the table name to create\n",
    "- con - a connection to a database\n",
    "- index - whether to input the index column\n",
    "- schema - if we want to write a custom schema for the new table\n",
    "- if_exists - what to do if the table already exists.  We can overwrite it, add to it, or fail\n",
    "\n",
    "The following code loads the Rossmann sales data to our database:"
   ]
  },
  {
   "cell_type": "code",
   "execution_count": null,
   "metadata": {
    "collapsed": true
   },
   "outputs": [],
   "source": [
    "df.to_sql('rossmann_sales',\n",
    "          con = db,\n",
    "          index = False,\n",
    "          if_exists = 'replace')"
   ]
  },
  {
   "cell_type": "markdown",
   "metadata": {
    "collapsed": true
   },
   "source": [
    "Once we have data in the database, we can use `pandas` to query it.\n",
    "\n",
    "Querying is done through the `read_sql` command in the sql module.  E.g.,"
   ]
  },
  {
   "cell_type": "code",
   "execution_count": null,
   "metadata": {
    "collapsed": false
   },
   "outputs": [],
   "source": [
    "pd.io.sql.read_sql('SELECT * ' +\n",
    "                   'FROM rossmann_sales ' +\n",
    "                   'LIMIT 10;', con = db)"
   ]
  },
  {
   "cell_type": "markdown",
   "metadata": {},
   "source": [
    "This runs the query passed in and returns a dataframe with the results."
   ]
  },
  {
   "cell_type": "markdown",
   "metadata": {},
   "source": [
    "## Activity\n",
    "    \n",
    "1. Load the Rossmann Store metadata in `rossmann-stores.csv` and create a table in the database with it."
   ]
  },
  {
   "cell_type": "code",
   "execution_count": null,
   "metadata": {
    "collapsed": true
   },
   "outputs": [],
   "source": [
    "# TODO"
   ]
  },
  {
   "cell_type": "markdown",
   "metadata": {},
   "source": [
    "## SQL syntax: SELECT, WHERE, GROUP BY, JOIN"
   ]
  },
  {
   "cell_type": "markdown",
   "metadata": {},
   "source": [
    "### SELECT"
   ]
  },
  {
   "cell_type": "markdown",
   "metadata": {},
   "source": [
    "Every query should start with `SELECT`.  `SELECT` is followed by the names of the columns in the output.\n",
    "\n",
    "`SELECT` is always paired with `FROM`, which identifies the table(s) to retrieve data from.\n",
    "\n",
    "```SQL\n",
    "SELECT <columns>\n",
    "    FROM <table>;\n",
    "```\n",
    "\n",
    "`SELECT * FROM table` denotes returning all (of the columns of) the table.\n",
    "\n",
    "Rossmann example:\n",
    "\n",
    "```SQL\n",
    "SELECT Store, Sales\n",
    "    FROM rossmann_sales;\n",
    "```"
   ]
  },
  {
   "cell_type": "code",
   "execution_count": null,
   "metadata": {
    "collapsed": false
   },
   "outputs": [],
   "source": [
    "pd.io.sql.read_sql('SELECT Store, Sales ' +\n",
    "                   'FROM rossmann_sales;', con = db)"
   ]
  },
  {
   "cell_type": "markdown",
   "metadata": {},
   "source": [
    "### Activity\n",
    "\n",
    "1. Write a query for the Rossmann Sales data that returns Store, Date, and Customers."
   ]
  },
  {
   "cell_type": "code",
   "execution_count": null,
   "metadata": {
    "collapsed": false
   },
   "outputs": [],
   "source": [
    "# TODO"
   ]
  },
  {
   "cell_type": "markdown",
   "metadata": {},
   "source": [
    "### WHERE"
   ]
  },
  {
   "cell_type": "markdown",
   "metadata": {
    "collapsed": true
   },
   "source": [
    "`WHERE` is used to filter a table using a specific criteria.  The `WHERE` clause follows the `FROM` clause.\n",
    "\n",
    "```SQL\n",
    "SELECT <columns>\n",
    "    FROM <table>\n",
    "    WHERE <condition>;\n",
    "```\n",
    "\n",
    "The condition is some filter applied to the rows, where rows that match the condition will be output.\n",
    "\n",
    "E.g.,\n",
    "\n",
    "```SQL\n",
    "SELECT Store, Sales\n",
    "    FROM rossmann_sales\n",
    "    WHERE Store = 1;\n",
    "```\n",
    "\n",
    "```SQL\n",
    "SELECT Store, Sales\n",
    "    FROM rossmann_sales\n",
    "    WHERE Store = 1 AND Open = 1;\n",
    "```"
   ]
  },
  {
   "cell_type": "code",
   "execution_count": null,
   "metadata": {
    "collapsed": false
   },
   "outputs": [],
   "source": [
    "pd.io.sql.read_sql('SELECT Store, Sales ' +\n",
    "                   'FROM rossmann_sales ' +\n",
    "                   'WHERE Store = 1;', con = db)"
   ]
  },
  {
   "cell_type": "code",
   "execution_count": null,
   "metadata": {
    "collapsed": false
   },
   "outputs": [],
   "source": [
    "pd.io.sql.read_sql('SELECT Store, Sales ' +\n",
    "                   'FROM rossmann_sales ' +\n",
    "                   'WHERE Store = 1 AND Open = 1;', con = db)"
   ]
  },
  {
   "cell_type": "markdown",
   "metadata": {},
   "source": [
    "### Activity\n",
    "\n",
    "1. Write a query for the Rossmann Sales data that returns Store, Date, and Customers for stores that were open and running a promotion."
   ]
  },
  {
   "cell_type": "code",
   "execution_count": null,
   "metadata": {
    "collapsed": false
   },
   "outputs": [],
   "source": [
    "# TODO"
   ]
  },
  {
   "cell_type": "markdown",
   "metadata": {},
   "source": [
    "### `GROUP BY`"
   ]
  },
  {
   "cell_type": "markdown",
   "metadata": {
    "collapsed": true
   },
   "source": [
    "`GROUP BY` allows us to aggregate over any field in the table by applying the concept of Split Apply Combine.\n",
    "\n",
    "We identify some key with which we want to segment the rows.  Then, we roll up or compute some statistics over all of the rows that match that key.\n",
    "\n",
    "`GROUP BY` must be paired with an aggregate function, the statistic we want to compute in the rows, in the `SELECT` statement.\n",
    "\n",
    "`COUNT(*)` denotes counting up all of the rows.  Other aggregate functions commonly available are `AVG` (average), `MAX`, `MIN`, and `SUM`.\n",
    "\n",
    "If we want to aggregate over the entire table, without results specific to any key, we can use an aggregate function in the `SELECT` clause and ignore the `GROUP BY` clause.\n",
    "\n",
    "E.g.,\n",
    "\n",
    "```SQL\n",
    "SELECT Store, SUM(Sales), AVG(Customers)\n",
    "    FROM rossmann_sales\n",
    "    WHERE Open = 1\n",
    "    GROUP BY Store;\n",
    "```\n",
    "\n",
    "```SQL\n",
    "SELECT Store, SUM(Sales), AVG(Customers)\n",
    "    FROM rossmann_sales\n",
    "    WHERE Open = 1\n",
    "```"
   ]
  },
  {
   "cell_type": "code",
   "execution_count": null,
   "metadata": {
    "collapsed": false
   },
   "outputs": [],
   "source": [
    "pd.io.sql.read_sql('SELECT Store, SUM(Sales), AVG(Customers) ' +\n",
    "                   'FROM rossmann_sales ' +\n",
    "                   'WHERE Open = 1 ' +\n",
    "                   'GROUP BY Store;', con = db)"
   ]
  },
  {
   "cell_type": "code",
   "execution_count": null,
   "metadata": {
    "collapsed": false
   },
   "outputs": [],
   "source": [
    "pd.io.sql.read_sql('SELECT Store, SUM(Sales), AVG(Customers) ' +\n",
    "                   'FROM rossmann_sales ' +\n",
    "                   'WHERE Open = 1;', con = db)"
   ]
  },
  {
   "cell_type": "markdown",
   "metadata": {
    "collapsed": true
   },
   "source": [
    "### Activity\n",
    "\n",
    "1. Write a query that returns the total sales on the promotion and non-promotion days."
   ]
  },
  {
   "cell_type": "code",
   "execution_count": null,
   "metadata": {
    "collapsed": false
   },
   "outputs": [],
   "source": [
    "# TODO"
   ]
  },
  {
   "cell_type": "markdown",
   "metadata": {
    "collapsed": true
   },
   "source": [
    "### `ORDER BY`"
   ]
  },
  {
   "cell_type": "markdown",
   "metadata": {
    "collapsed": true
   },
   "source": [
    "`ORDER BY` is used to sort the results of a query.  \n",
    "\n",
    "```SQL\n",
    "SELECT <columns>\n",
    "    FROM <table>\n",
    "    WHERE <condition>\n",
    "    ORDER BY <columns>;\n",
    "```\n",
    "\n",
    "You can order by multiple columns in ascending (`ASC`) or descending (`DESC`) order.  E.g.,\n",
    "\n",
    "```SQL\n",
    "SELECT Store, SUM(Sales) AS total_sales, AVG(Customers)\n",
    "    FROM rossmann_sales\n",
    "    WHERE Open = 1\n",
    "    GROUP BY Store\n",
    "    ORDER BY total_sales DESC;\n",
    "```\n",
    "\n",
    "`SUM(Sales) as total_sales` renames the `SUM(Sales)` value to `total_sales` so we can refer to it later in the `ORDER BY` clause."
   ]
  },
  {
   "cell_type": "code",
   "execution_count": null,
   "metadata": {
    "collapsed": false
   },
   "outputs": [],
   "source": [
    "pd.io.sql.read_sql('SELECT Store, SUM(Sales) AS total_sales, AVG(Customers) '\n",
    "                   'FROM rossmann_sales ' +\n",
    "                   'WHERE Open = 1 ' +\n",
    "                   'GROUP BY Store ' +\n",
    "                   'ORDER BY total_sales DESC;', con = db)"
   ]
  },
  {
   "cell_type": "markdown",
   "metadata": {},
   "source": [
    "### `JOIN`"
   ]
  },
  {
   "cell_type": "markdown",
   "metadata": {},
   "source": [
    "`JOIN` allows us to access data across many tables.  We specify how a row in one table links to another.\n",
    "\n",
    "```SQL\n",
    "SELECT a.Store, a.Sales, s.CompetitionDistance\n",
    "    FROM rossmann_sales AS a\n",
    "    JOIN rossmann_stores AS s \n",
    "    ON a.Store = s.Store\n",
    "```\n",
    "\n",
    "Here, `ON` denotes an inner join.\n",
    "\n",
    "By default, most joins are inner joins, which means only when there is a match in both tables does a row appear in the results.\n",
    "\n",
    "If we want to keep the rows of one table even if there is no matching counterpart, we can perform an outer join.  \n",
    "\n",
    "Outer joins can be `LEFT`, `RIGHT`, or `FULL`, meaning keep all of the left rows, all the right rows, or all the rows, respectively."
   ]
  },
  {
   "cell_type": "code",
   "execution_count": null,
   "metadata": {
    "collapsed": false
   },
   "outputs": [],
   "source": [
    "pd.io.sql.read_sql('SELECT a.Store, a.Sales, s.CompetitionDistance '\n",
    "                   'FROM rossmann_sales AS a ' +\n",
    "                   'JOIN rossmann_stores AS s ' +\n",
    "                   'ON a.Store = s.Store;', con = db)"
   ]
  },
  {
   "cell_type": "markdown",
   "metadata": {},
   "source": [
    "## Independent Practice\n",
    "\n",
    "1. Load the Walmart sales and store features data\n",
    "1. Create a table for each of those datasets\n",
    "1. Select the store, date and fuel price on days it was over 90 degrees\n",
    "1. Select the store, date and weekly sales and temperature\n",
    "1. What were average sales on holiday vs. non-holiday sales?\n",
    "1. What were average sales on holiday vs. non-holiday sales when the temperature was below 32 degrees?"
   ]
  }
 ],
 "metadata": {
  "kernelspec": {
   "display_name": "Python 2",
   "language": "python",
   "name": "python2"
  },
  "language_info": {
   "codemirror_mode": {
    "name": "ipython",
    "version": 2
   },
   "file_extension": ".py",
   "mimetype": "text/x-python",
   "name": "python",
   "nbconvert_exporter": "python",
   "pygments_lexer": "ipython2",
   "version": "2.7.11"
  }
 },
 "nbformat": 4,
 "nbformat_minor": 0
}
